{
  "nbformat": 4,
  "nbformat_minor": 0,
  "metadata": {
    "colab": {
      "name": "Assignment4_PartA.ipynb",
      "provenance": [],
      "authorship_tag": "ABX9TyPYAvs9yfE380jep3oxP+WE",
      "include_colab_link": true
    },
    "kernelspec": {
      "name": "python3",
      "display_name": "Python 3"
    },
    "language_info": {
      "name": "python"
    }
  },
  "cells": [
    {
      "cell_type": "markdown",
      "metadata": {
        "id": "view-in-github",
        "colab_type": "text"
      },
      "source": [
        "<a href=\"https://colab.research.google.com/github/HarmanBhutani/ML_projects/blob/main/Assignment4_PartA.ipynb\" target=\"_parent\"><img src=\"https://colab.research.google.com/assets/colab-badge.svg\" alt=\"Open In Colab\"/></a>"
      ]
    },
    {
      "cell_type": "code",
      "metadata": {
        "colab": {
          "base_uri": "https://localhost:8080/"
        },
        "id": "8tW568obQHOL",
        "outputId": "15079b75-dadc-4bff-f508-97cd8d2c23fe"
      },
      "source": [
        "pip install contractions"
      ],
      "execution_count": 2,
      "outputs": [
        {
          "output_type": "stream",
          "text": [
            "Collecting contractions\n",
            "  Downloading https://files.pythonhosted.org/packages/0a/04/d5e0bb9f2cef5d15616ebf68087a725c5dbdd71bd422bcfb35d709f98ce7/contractions-0.0.48-py2.py3-none-any.whl\n",
            "Collecting textsearch>=0.0.21\n",
            "  Downloading https://files.pythonhosted.org/packages/d3/fe/021d7d76961b5ceb9f8d022c4138461d83beff36c3938dc424586085e559/textsearch-0.0.21-py2.py3-none-any.whl\n",
            "Collecting pyahocorasick\n",
            "\u001b[?25l  Downloading https://files.pythonhosted.org/packages/7f/c2/eae730037ae1cbbfaa229d27030d1d5e34a1e41114b21447d1202ae9c220/pyahocorasick-1.4.2.tar.gz (321kB)\n",
            "\u001b[K     |████████████████████████████████| 327kB 5.5MB/s \n",
            "\u001b[?25hCollecting anyascii\n",
            "\u001b[?25l  Downloading https://files.pythonhosted.org/packages/09/c7/61370d9e3c349478e89a5554c1e5d9658e1e3116cc4f2528f568909ebdf1/anyascii-0.1.7-py3-none-any.whl (260kB)\n",
            "\u001b[K     |████████████████████████████████| 266kB 40.6MB/s \n",
            "\u001b[?25hBuilding wheels for collected packages: pyahocorasick\n",
            "  Building wheel for pyahocorasick (setup.py) ... \u001b[?25l\u001b[?25hdone\n",
            "  Created wheel for pyahocorasick: filename=pyahocorasick-1.4.2-cp37-cp37m-linux_x86_64.whl size=85394 sha256=0c77c447b06ae4cf73055205ff478b79c28af287ba4ae9c28ed22216da37d51b\n",
            "  Stored in directory: /root/.cache/pip/wheels/3a/03/34/77e3ece0bba8b86bfac88a79f923b36d805cad63caeba38842\n",
            "Successfully built pyahocorasick\n",
            "Installing collected packages: pyahocorasick, anyascii, textsearch, contractions\n",
            "Successfully installed anyascii-0.1.7 contractions-0.0.48 pyahocorasick-1.4.2 textsearch-0.0.21\n"
          ],
          "name": "stdout"
        }
      ]
    },
    {
      "cell_type": "code",
      "metadata": {
        "colab": {
          "base_uri": "https://localhost:8080/"
        },
        "id": "2Iu8Iek2SxOC",
        "outputId": "5eaee4c2-cacf-41c6-eaf1-771c0ef574be"
      },
      "source": [
        "nltk.download('stopwords')"
      ],
      "execution_count": 26,
      "outputs": [
        {
          "output_type": "stream",
          "text": [
            "[nltk_data] Downloading package stopwords to /root/nltk_data...\n",
            "[nltk_data]   Unzipping corpora/stopwords.zip.\n"
          ],
          "name": "stdout"
        },
        {
          "output_type": "execute_result",
          "data": {
            "text/plain": [
              "True"
            ]
          },
          "metadata": {
            "tags": []
          },
          "execution_count": 26
        }
      ]
    },
    {
      "cell_type": "code",
      "metadata": {
        "id": "zzGv0BXwPDxX"
      },
      "source": [
        "import pandas as pd\n",
        "import numpy as np\n",
        "from textblob import TextBlob\n",
        "import matplotlib.pyplot as plt\n",
        "import re\n",
        "import contractions\n",
        "import nltk\n",
        "from nltk.corpus import stopwords\n",
        "from nltk.stem import PorterStemmer, WordNetLemmatizer\n",
        "import gensim\n",
        "from gensim import corpora\n",
        "import spacy\n",
        "from spacy import displacy\n",
        "from collections import Counter\n",
        "import en_core_web_sm\n",
        "from sklearn.ensemble import RandomForestClassifier\n",
        "from sklearn.model_selection import cross_val_score\n",
        "from sklearn.metrics import accuracy_score, recall_score, precision_score, f1_score, confusion_matrix\n",
        "from sklearn.feature_extraction.text import CountVectorizer, TfidfVectorizer\n",
        "from sklearn.preprocessing import LabelEncoder, OneHotEncoder, MultiLabelBinarizer\n",
        "from sklearn.model_selection import RandomizedSearchCV\n",
        "import seaborn as sns"
      ],
      "execution_count": 58,
      "outputs": []
    },
    {
      "cell_type": "code",
      "metadata": {
        "id": "P6cP5_wcQLjW"
      },
      "source": [
        "df_tor = pd.read_excel('Tornado.xlsx', header=None)"
      ],
      "execution_count": 4,
      "outputs": []
    },
    {
      "cell_type": "code",
      "metadata": {
        "colab": {
          "base_uri": "https://localhost:8080/",
          "height": 417
        },
        "id": "T_ks-b8qQU71",
        "outputId": "ca5a0247-5c53-4fca-e476-b83bd7cf60f9"
      },
      "source": [
        "df_tor"
      ],
      "execution_count": 5,
      "outputs": [
        {
          "output_type": "execute_result",
          "data": {
            "text/html": [
              "<div>\n",
              "<style scoped>\n",
              "    .dataframe tbody tr th:only-of-type {\n",
              "        vertical-align: middle;\n",
              "    }\n",
              "\n",
              "    .dataframe tbody tr th {\n",
              "        vertical-align: top;\n",
              "    }\n",
              "\n",
              "    .dataframe thead th {\n",
              "        text-align: right;\n",
              "    }\n",
              "</style>\n",
              "<table border=\"1\" class=\"dataframe\">\n",
              "  <thead>\n",
              "    <tr style=\"text-align: right;\">\n",
              "      <th></th>\n",
              "      <th>0</th>\n",
              "      <th>1</th>\n",
              "      <th>2</th>\n",
              "      <th>3</th>\n",
              "      <th>4</th>\n",
              "      <th>5</th>\n",
              "      <th>6</th>\n",
              "      <th>7</th>\n",
              "      <th>8</th>\n",
              "      <th>9</th>\n",
              "      <th>10</th>\n",
              "    </tr>\n",
              "  </thead>\n",
              "  <tbody>\n",
              "    <tr>\n",
              "      <th>0</th>\n",
              "      <td>0\\tRT @uberdogfound: Please RT - Food needed f...</td>\n",
              "      <td>NaN</td>\n",
              "      <td>NaN</td>\n",
              "      <td>NaN</td>\n",
              "      <td>NaN</td>\n",
              "      <td>NaN</td>\n",
              "      <td>NaN</td>\n",
              "      <td>NaN</td>\n",
              "      <td>NaN</td>\n",
              "      <td>NaN</td>\n",
              "      <td>NaN</td>\n",
              "    </tr>\n",
              "    <tr>\n",
              "      <th>1</th>\n",
              "      <td>1\\tPlease RT - Food needed for shelter in NC i...</td>\n",
              "      <td>NaN</td>\n",
              "      <td>NaN</td>\n",
              "      <td>NaN</td>\n",
              "      <td>NaN</td>\n",
              "      <td>NaN</td>\n",
              "      <td>NaN</td>\n",
              "      <td>NaN</td>\n",
              "      <td>NaN</td>\n",
              "      <td>NaN</td>\n",
              "      <td>NaN</td>\n",
              "    </tr>\n",
              "    <tr>\n",
              "      <th>2</th>\n",
              "      <td>3\\t‚ô°its raining and tornado warnings....abou...</td>\n",
              "      <td>NaN</td>\n",
              "      <td>NaN</td>\n",
              "      <td>NaN</td>\n",
              "      <td>NaN</td>\n",
              "      <td>NaN</td>\n",
              "      <td>NaN</td>\n",
              "      <td>NaN</td>\n",
              "      <td>NaN</td>\n",
              "      <td>NaN</td>\n",
              "      <td>NaN</td>\n",
              "    </tr>\n",
              "    <tr>\n",
              "      <th>3</th>\n",
              "      <td>9\\tLmao #damn RT @LuCeCaNNoNn: If I don't get ...</td>\n",
              "      <td>NaN</td>\n",
              "      <td>NaN</td>\n",
              "      <td>NaN</td>\n",
              "      <td>NaN</td>\n",
              "      <td>NaN</td>\n",
              "      <td>NaN</td>\n",
              "      <td>NaN</td>\n",
              "      <td>NaN</td>\n",
              "      <td>NaN</td>\n",
              "      <td>NaN</td>\n",
              "    </tr>\n",
              "    <tr>\n",
              "      <th>4</th>\n",
              "      <td>10\\tSaved by the tornado warning....I'm just r...</td>\n",
              "      <td>NaN</td>\n",
              "      <td>NaN</td>\n",
              "      <td>NaN</td>\n",
              "      <td>NaN</td>\n",
              "      <td>NaN</td>\n",
              "      <td>NaN</td>\n",
              "      <td>NaN</td>\n",
              "      <td>NaN</td>\n",
              "      <td>NaN</td>\n",
              "      <td>NaN</td>\n",
              "    </tr>\n",
              "    <tr>\n",
              "      <th>...</th>\n",
              "      <td>...</td>\n",
              "      <td>...</td>\n",
              "      <td>...</td>\n",
              "      <td>...</td>\n",
              "      <td>...</td>\n",
              "      <td>...</td>\n",
              "      <td>...</td>\n",
              "      <td>...</td>\n",
              "      <td>...</td>\n",
              "      <td>...</td>\n",
              "      <td>...</td>\n",
              "    </tr>\n",
              "    <tr>\n",
              "      <th>3626</th>\n",
              "      <td>39\\tThanks to @BarackObama and @SethMeyers21 f...</td>\n",
              "      <td>NaN</td>\n",
              "      <td>NaN</td>\n",
              "      <td>NaN</td>\n",
              "      <td>NaN</td>\n",
              "      <td>NaN</td>\n",
              "      <td>NaN</td>\n",
              "      <td>NaN</td>\n",
              "      <td>NaN</td>\n",
              "      <td>NaN</td>\n",
              "      <td>NaN</td>\n",
              "    </tr>\n",
              "    <tr>\n",
              "      <th>3627</th>\n",
              "      <td>0\\tStamford-based AmeriCares is preparing to s...</td>\n",
              "      <td>NaN</td>\n",
              "      <td>NaN</td>\n",
              "      <td>NaN</td>\n",
              "      <td>NaN</td>\n",
              "      <td>NaN</td>\n",
              "      <td>NaN</td>\n",
              "      <td>NaN</td>\n",
              "      <td>NaN</td>\n",
              "      <td>NaN</td>\n",
              "      <td>NaN</td>\n",
              "    </tr>\n",
              "    <tr>\n",
              "      <th>3628</th>\n",
              "      <td>2\\t\"Semi-trailer parked at People's Church Spr...</td>\n",
              "      <td>leaves 2pm Sun. Need water food batteries bla...</td>\n",
              "      <td>NaN</td>\n",
              "      <td>NaN</td>\n",
              "      <td>NaN</td>\n",
              "      <td>NaN</td>\n",
              "      <td>NaN</td>\n",
              "      <td>NaN</td>\n",
              "      <td>NaN</td>\n",
              "      <td>NaN</td>\n",
              "      <td>NaN</td>\n",
              "    </tr>\n",
              "    <tr>\n",
              "      <th>3629</th>\n",
              "      <td>3\\tRT @TopNoTcH_B1tch: My mom is goin out of t...</td>\n",
              "      <td>NaN</td>\n",
              "      <td>NaN</td>\n",
              "      <td>NaN</td>\n",
              "      <td>NaN</td>\n",
              "      <td>NaN</td>\n",
              "      <td>NaN</td>\n",
              "      <td>NaN</td>\n",
              "      <td>NaN</td>\n",
              "      <td>NaN</td>\n",
              "      <td>NaN</td>\n",
              "    </tr>\n",
              "    <tr>\n",
              "      <th>3630</th>\n",
              "      <td>6\\t\"Volunteers Offer Support to Southern Torna...</td>\n",
              "      <td>water and medical supplies after tor... http:...</td>\n",
              "      <td>NaN</td>\n",
              "      <td>NaN</td>\n",
              "      <td>NaN</td>\n",
              "      <td>NaN</td>\n",
              "      <td>NaN</td>\n",
              "      <td>NaN</td>\n",
              "      <td>NaN</td>\n",
              "      <td>NaN</td>\n",
              "      <td>NaN</td>\n",
              "    </tr>\n",
              "  </tbody>\n",
              "</table>\n",
              "<p>3631 rows × 11 columns</p>\n",
              "</div>"
            ],
            "text/plain": [
              "                                                     0   ...   10\n",
              "0     0\\tRT @uberdogfound: Please RT - Food needed f...  ...  NaN\n",
              "1     1\\tPlease RT - Food needed for shelter in NC i...  ...  NaN\n",
              "2     3\\t‚ô°its raining and tornado warnings....abou...  ...  NaN\n",
              "3     9\\tLmao #damn RT @LuCeCaNNoNn: If I don't get ...  ...  NaN\n",
              "4     10\\tSaved by the tornado warning....I'm just r...  ...  NaN\n",
              "...                                                 ...  ...  ...\n",
              "3626  39\\tThanks to @BarackObama and @SethMeyers21 f...  ...  NaN\n",
              "3627  0\\tStamford-based AmeriCares is preparing to s...  ...  NaN\n",
              "3628  2\\t\"Semi-trailer parked at People's Church Spr...  ...  NaN\n",
              "3629  3\\tRT @TopNoTcH_B1tch: My mom is goin out of t...  ...  NaN\n",
              "3630  6\\t\"Volunteers Offer Support to Southern Torna...  ...  NaN\n",
              "\n",
              "[3631 rows x 11 columns]"
            ]
          },
          "metadata": {
            "tags": []
          },
          "execution_count": 5
        }
      ]
    },
    {
      "cell_type": "code",
      "metadata": {
        "id": "UUmWQZbCQXe8"
      },
      "source": [
        "df_tor=df_tor.fillna('')"
      ],
      "execution_count": 6,
      "outputs": []
    },
    {
      "cell_type": "code",
      "metadata": {
        "id": "UH-kdMPrQZsz"
      },
      "source": [
        "df_tor=df_tor.astype(str)"
      ],
      "execution_count": 7,
      "outputs": []
    },
    {
      "cell_type": "code",
      "metadata": {
        "colab": {
          "base_uri": "https://localhost:8080/"
        },
        "id": "6S04DYZsQbfl",
        "outputId": "3e1924c0-8d1a-47f9-85f7-f040561cc90f"
      },
      "source": [
        "df_tor.head().apply(lambda x: ''.join(x), axis=1)"
      ],
      "execution_count": 8,
      "outputs": [
        {
          "output_type": "execute_result",
          "data": {
            "text/plain": [
              "0    0\\tRT @uberdogfound: Please RT - Food needed f...\n",
              "1    1\\tPlease RT - Food needed for shelter in NC i...\n",
              "2    3\\t‚ô°its raining and tornado warnings....abou...\n",
              "3    9\\tLmao #damn RT @LuCeCaNNoNn: If I don't get ...\n",
              "4    10\\tSaved by the tornado warning....I'm just r...\n",
              "dtype: object"
            ]
          },
          "metadata": {
            "tags": []
          },
          "execution_count": 8
        }
      ]
    },
    {
      "cell_type": "code",
      "metadata": {
        "colab": {
          "base_uri": "https://localhost:8080/"
        },
        "id": "ffexs6hWQd30",
        "outputId": "fe4ab4c6-903c-4b69-a1b1-7b7bfd37783a"
      },
      "source": [
        "df_tor.shape"
      ],
      "execution_count": 9,
      "outputs": [
        {
          "output_type": "execute_result",
          "data": {
            "text/plain": [
              "(3631, 11)"
            ]
          },
          "metadata": {
            "tags": []
          },
          "execution_count": 9
        }
      ]
    },
    {
      "cell_type": "code",
      "metadata": {
        "colab": {
          "base_uri": "https://localhost:8080/",
          "height": 203
        },
        "id": "EWKd9GYXQkXB",
        "outputId": "f1e67834-3d4b-4c11-d62c-49c79fe1f47b"
      },
      "source": [
        "df_tor.head()"
      ],
      "execution_count": 10,
      "outputs": [
        {
          "output_type": "execute_result",
          "data": {
            "text/html": [
              "<div>\n",
              "<style scoped>\n",
              "    .dataframe tbody tr th:only-of-type {\n",
              "        vertical-align: middle;\n",
              "    }\n",
              "\n",
              "    .dataframe tbody tr th {\n",
              "        vertical-align: top;\n",
              "    }\n",
              "\n",
              "    .dataframe thead th {\n",
              "        text-align: right;\n",
              "    }\n",
              "</style>\n",
              "<table border=\"1\" class=\"dataframe\">\n",
              "  <thead>\n",
              "    <tr style=\"text-align: right;\">\n",
              "      <th></th>\n",
              "      <th>0</th>\n",
              "      <th>1</th>\n",
              "      <th>2</th>\n",
              "      <th>3</th>\n",
              "      <th>4</th>\n",
              "      <th>5</th>\n",
              "      <th>6</th>\n",
              "      <th>7</th>\n",
              "      <th>8</th>\n",
              "      <th>9</th>\n",
              "      <th>10</th>\n",
              "    </tr>\n",
              "  </thead>\n",
              "  <tbody>\n",
              "    <tr>\n",
              "      <th>0</th>\n",
              "      <td>0\\tRT @uberdogfound: Please RT - Food needed f...</td>\n",
              "      <td></td>\n",
              "      <td></td>\n",
              "      <td></td>\n",
              "      <td></td>\n",
              "      <td></td>\n",
              "      <td></td>\n",
              "      <td></td>\n",
              "      <td></td>\n",
              "      <td></td>\n",
              "      <td></td>\n",
              "    </tr>\n",
              "    <tr>\n",
              "      <th>1</th>\n",
              "      <td>1\\tPlease RT - Food needed for shelter in NC i...</td>\n",
              "      <td></td>\n",
              "      <td></td>\n",
              "      <td></td>\n",
              "      <td></td>\n",
              "      <td></td>\n",
              "      <td></td>\n",
              "      <td></td>\n",
              "      <td></td>\n",
              "      <td></td>\n",
              "      <td></td>\n",
              "    </tr>\n",
              "    <tr>\n",
              "      <th>2</th>\n",
              "      <td>3\\t‚ô°its raining and tornado warnings....abou...</td>\n",
              "      <td></td>\n",
              "      <td></td>\n",
              "      <td></td>\n",
              "      <td></td>\n",
              "      <td></td>\n",
              "      <td></td>\n",
              "      <td></td>\n",
              "      <td></td>\n",
              "      <td></td>\n",
              "      <td></td>\n",
              "    </tr>\n",
              "    <tr>\n",
              "      <th>3</th>\n",
              "      <td>9\\tLmao #damn RT @LuCeCaNNoNn: If I don't get ...</td>\n",
              "      <td></td>\n",
              "      <td></td>\n",
              "      <td></td>\n",
              "      <td></td>\n",
              "      <td></td>\n",
              "      <td></td>\n",
              "      <td></td>\n",
              "      <td></td>\n",
              "      <td></td>\n",
              "      <td></td>\n",
              "    </tr>\n",
              "    <tr>\n",
              "      <th>4</th>\n",
              "      <td>10\\tSaved by the tornado warning....I'm just r...</td>\n",
              "      <td></td>\n",
              "      <td></td>\n",
              "      <td></td>\n",
              "      <td></td>\n",
              "      <td></td>\n",
              "      <td></td>\n",
              "      <td></td>\n",
              "      <td></td>\n",
              "      <td></td>\n",
              "      <td></td>\n",
              "    </tr>\n",
              "  </tbody>\n",
              "</table>\n",
              "</div>"
            ],
            "text/plain": [
              "                                                  0  1  2  3  4   ... 6  7  8  9  10\n",
              "0  0\\tRT @uberdogfound: Please RT - Food needed f...              ...               \n",
              "1  1\\tPlease RT - Food needed for shelter in NC i...              ...               \n",
              "2  3\\t‚ô°its raining and tornado warnings....abou...              ...               \n",
              "3  9\\tLmao #damn RT @LuCeCaNNoNn: If I don't get ...              ...               \n",
              "4  10\\tSaved by the tornado warning....I'm just r...              ...               \n",
              "\n",
              "[5 rows x 11 columns]"
            ]
          },
          "metadata": {
            "tags": []
          },
          "execution_count": 10
        }
      ]
    },
    {
      "cell_type": "code",
      "metadata": {
        "colab": {
          "base_uri": "https://localhost:8080/"
        },
        "id": "eyWvD8uZQtwj",
        "outputId": "9b718fc4-3d04-4e3b-c810-c12991b564f5"
      },
      "source": [
        "df_tor[0]"
      ],
      "execution_count": 11,
      "outputs": [
        {
          "output_type": "execute_result",
          "data": {
            "text/plain": [
              "0       0\\tRT @uberdogfound: Please RT - Food needed f...\n",
              "1       1\\tPlease RT - Food needed for shelter in NC i...\n",
              "2       3\\t‚ô°its raining and tornado warnings....abou...\n",
              "3       9\\tLmao #damn RT @LuCeCaNNoNn: If I don't get ...\n",
              "4       10\\tSaved by the tornado warning....I'm just r...\n",
              "                              ...                        \n",
              "3626    39\\tThanks to @BarackObama and @SethMeyers21 f...\n",
              "3627    0\\tStamford-based AmeriCares is preparing to s...\n",
              "3628    2\\t\"Semi-trailer parked at People's Church Spr...\n",
              "3629    3\\tRT @TopNoTcH_B1tch: My mom is goin out of t...\n",
              "3630    6\\t\"Volunteers Offer Support to Southern Torna...\n",
              "Name: 0, Length: 3631, dtype: object"
            ]
          },
          "metadata": {
            "tags": []
          },
          "execution_count": 11
        }
      ]
    },
    {
      "cell_type": "code",
      "metadata": {
        "colab": {
          "base_uri": "https://localhost:8080/"
        },
        "id": "6-RWCSI8Qyge",
        "outputId": "a102f179-4ead-421c-a915-c47593440a66"
      },
      "source": [
        "for text in df_tor[0].head():\n",
        "    print(text)"
      ],
      "execution_count": 12,
      "outputs": [
        {
          "output_type": "stream",
          "text": [
            "0\tRT @uberdogfound: Please RT - Food needed for shelter in NC in area that was hit hard by tornado. Please contact us at…\t40657.975\n",
            "1\tPlease RT - Food needed for shelter in NC in area that was hit hard by tornado.  Please contact us at info@uberdogfoundation.org to help!\t40657.975\n",
            "3\t‚ô°its raining and tornado warnings....about to be in a coma from eating all this food in a few!!!‚òª‚òª\t40657.89792\n",
            "9\tLmao #damn RT @LuCeCaNNoNn: If I don't get any food I hope the tornado blow all yall food out yall mouth #SoIDC\t40657.76667\n",
            "10\tSaved by the tornado warning....I'm just ready to eat this good food\t40657.75625\n"
          ],
          "name": "stdout"
        }
      ]
    },
    {
      "cell_type": "markdown",
      "metadata": {
        "id": "Pm-Ez72mRMsP"
      },
      "source": [
        "Polarity"
      ]
    },
    {
      "cell_type": "code",
      "metadata": {
        "id": "Q4WIzG6fRE_I"
      },
      "source": [
        "sentiment_ob = [TextBlob(text) for text in df_tor[0]]"
      ],
      "execution_count": 13,
      "outputs": []
    },
    {
      "cell_type": "code",
      "metadata": {
        "id": "Q6ZxZfU1RQuy"
      },
      "source": [
        "polarity = [sen.sentiment.polarity for sen in sentiment_ob]"
      ],
      "execution_count": 14,
      "outputs": []
    },
    {
      "cell_type": "markdown",
      "metadata": {
        "id": "qDnk_Z_zRxfi"
      },
      "source": [
        "A.2"
      ]
    },
    {
      "cell_type": "markdown",
      "metadata": {
        "id": "cQ0onnyWRaUz"
      },
      "source": [
        "Visualization of Polarity"
      ]
    },
    {
      "cell_type": "code",
      "metadata": {
        "colab": {
          "base_uri": "https://localhost:8080/",
          "height": 265
        },
        "id": "LMc7ESF9RXCB",
        "outputId": "8ed18369-0ef8-4a04-e434-a86ed253c09d"
      },
      "source": [
        "plt.hist(polarity, bins=15)\n",
        "plt.show()"
      ],
      "execution_count": 15,
      "outputs": [
        {
          "output_type": "display_data",
          "data": {
            "image/png": "[encoded data removed]",
            "text/plain": [
              "<Figure size 432x288 with 1 Axes>"
            ]
          },
          "metadata": {
            "tags": [],
            "needs_background": "light"
          }
        }
      ]
    },
    {
      "cell_type": "markdown",
      "metadata": {
        "id": "7wvc8yjqR2TV"
      },
      "source": [
        "A.3"
      ]
    },
    {
      "cell_type": "markdown",
      "metadata": {
        "id": "bOMFAG-yR5XQ"
      },
      "source": [
        "Most of the tweets are positive"
      ]
    },
    {
      "cell_type": "markdown",
      "metadata": {
        "id": "4kymKFc4SFLM"
      },
      "source": [
        "Part B"
      ]
    },
    {
      "cell_type": "code",
      "metadata": {
        "id": "D4C37MV5RZKn"
      },
      "source": [
        "df_tor[0] = [re.sub(r'@\\w+|http\\S+|www\\S+|#\\S+',\"\",line.lower()) for line in df_tor[0]]"
      ],
      "execution_count": 16,
      "outputs": []
    },
    {
      "cell_type": "code",
      "metadata": {
        "id": "YOshLy9qSPht"
      },
      "source": [
        "punc = set([word for line in df_tor[0] for word in line if not word.isalnum()])\n",
        "punc.remove(' ')\n",
        "punc.remove(\"'\")\n",
        "remove = '|'.join('\\\\'+i for i in punc)"
      ],
      "execution_count": 17,
      "outputs": []
    },
    {
      "cell_type": "code",
      "metadata": {
        "id": "_YYyWheJST41"
      },
      "source": [
        "df_tor[0] = df_tor[0].apply(lambda x: re.sub(remove, '', x))"
      ],
      "execution_count": 18,
      "outputs": []
    },
    {
      "cell_type": "code",
      "metadata": {
        "colab": {
          "base_uri": "https://localhost:8080/"
        },
        "id": "XZdN_NDJSY5p",
        "outputId": "99869779-3ded-45c3-f7d1-1103423ce667"
      },
      "source": [
        "for text in df_tor[0].head():\n",
        "    print(text)"
      ],
      "execution_count": 19,
      "outputs": [
        {
          "output_type": "stream",
          "text": [
            "0rt  please rt  food needed for shelter in nc in area that was hit hard by tornado please contact us at40657975\n",
            "1please rt  food needed for shelter in nc in area that was hit hard by tornado  please contact us at infoorg to help40657975\n",
            "3ôits raining and tornado warningsabout to be in a coma from eating all this food in a fewòªòª4065789792\n",
            "9lmao  rt  if i don't get any food i hope the tornado blow all yall food out yall mouth 4065776667\n",
            "10saved by the tornado warningi'm just ready to eat this good food4065775625\n"
          ],
          "name": "stdout"
        }
      ]
    },
    {
      "cell_type": "code",
      "metadata": {
        "id": "GugOlyTySb6e"
      },
      "source": [
        "d = contractions.contractions_dict"
      ],
      "execution_count": 20,
      "outputs": []
    },
    {
      "cell_type": "code",
      "metadata": {
        "id": "xbMSfc4eSfHc"
      },
      "source": [
        "df_tor[0] = df_tor[0].apply(lambda x: ' '.join([d[wor] if wor in d.keys() else wor for wor in x.split()]))"
      ],
      "execution_count": 21,
      "outputs": []
    },
    {
      "cell_type": "code",
      "metadata": {
        "colab": {
          "base_uri": "https://localhost:8080/"
        },
        "id": "hpG1ca11SmN1",
        "outputId": "c51d64c4-0578-46cc-e02a-311c966112b2"
      },
      "source": [
        "for text in df_tor[0].head():\n",
        "    print(text)"
      ],
      "execution_count": 22,
      "outputs": [
        {
          "output_type": "stream",
          "text": [
            "0rt please rt food needed for shelter in nc in area that was hit hard by tornado please contact us at40657975\n",
            "1please rt food needed for shelter in nc in area that was hit hard by tornado please contact us at infoorg to help40657975\n",
            "3ôits raining and tornado warningsabout to be in a coma from eating all this food in a fewòªòª4065789792\n",
            "9lmao rt if i do not get any food i hope the tornado blow all yall food out yall mouth 4065776667\n",
            "10saved by the tornado warningi'm just ready to eat this good food4065775625\n"
          ],
          "name": "stdout"
        }
      ]
    },
    {
      "cell_type": "code",
      "metadata": {
        "id": "lRlzSM1rSpi6"
      },
      "source": [
        "st_words = set(stopwords.words('english'))"
      ],
      "execution_count": 28,
      "outputs": []
    },
    {
      "cell_type": "code",
      "metadata": {
        "id": "iNqaMrSmSrGB"
      },
      "source": [
        "df_tor[0] = df_tor[0].apply(lambda x: [word for word in x.split() if word not in st_words])"
      ],
      "execution_count": 29,
      "outputs": []
    },
    {
      "cell_type": "code",
      "metadata": {
        "colab": {
          "base_uri": "https://localhost:8080/"
        },
        "id": "sNdzIZ_pTCBo",
        "outputId": "e24ef5bb-6e6b-4b8d-a3f2-86e02ce9a156"
      },
      "source": [
        "for text in df_tor[0].head():\n",
        "    print(text)"
      ],
      "execution_count": 30,
      "outputs": [
        {
          "output_type": "stream",
          "text": [
            "['0rt', 'please', 'rt', 'food', 'needed', 'shelter', 'nc', 'area', 'hit', 'hard', 'tornado', 'please', 'contact', 'us', 'at40657975']\n",
            "['1please', 'rt', 'food', 'needed', 'shelter', 'nc', 'area', 'hit', 'hard', 'tornado', 'please', 'contact', 'us', 'infoorg', 'help40657975']\n",
            "['3ôits', 'raining', 'tornado', 'warningsabout', 'coma', 'eating', 'food', 'fewòªòª4065789792']\n",
            "['9lmao', 'rt', 'get', 'food', 'hope', 'tornado', 'blow', 'yall', 'food', 'yall', 'mouth', '4065776667']\n",
            "['10saved', 'tornado', \"warningi'm\", 'ready', 'eat', 'good', 'food4065775625']\n"
          ],
          "name": "stdout"
        }
      ]
    },
    {
      "cell_type": "code",
      "metadata": {
        "id": "-pP3E5SoTEX7"
      },
      "source": [
        "wnl = WordNetLemmatizer()"
      ],
      "execution_count": 31,
      "outputs": []
    },
    {
      "cell_type": "code",
      "metadata": {
        "colab": {
          "base_uri": "https://localhost:8080/"
        },
        "id": "knDvqpIvTMD-",
        "outputId": "06191edf-2d02-4a6a-ba3c-a7d584f514cc"
      },
      "source": [
        "nltk.download('wordnet')"
      ],
      "execution_count": 33,
      "outputs": [
        {
          "output_type": "stream",
          "text": [
            "[nltk_data] Downloading package wordnet to /root/nltk_data...\n",
            "[nltk_data]   Unzipping corpora/wordnet.zip.\n"
          ],
          "name": "stdout"
        },
        {
          "output_type": "execute_result",
          "data": {
            "text/plain": [
              "True"
            ]
          },
          "metadata": {
            "tags": []
          },
          "execution_count": 33
        }
      ]
    },
    {
      "cell_type": "code",
      "metadata": {
        "id": "BLKGU_gxTFul"
      },
      "source": [
        "df_tor[0] = df_tor[0].apply(lambda x: [wnl.lemmatize(word) for word in x])"
      ],
      "execution_count": 34,
      "outputs": []
    },
    {
      "cell_type": "code",
      "metadata": {
        "colab": {
          "base_uri": "https://localhost:8080/"
        },
        "id": "_oBu3fO4TKAo",
        "outputId": "598e792a-8f08-454b-ff85-b7998423bc1b"
      },
      "source": [
        "for text in df_tor[0].head():\n",
        "    print(text)"
      ],
      "execution_count": 35,
      "outputs": [
        {
          "output_type": "stream",
          "text": [
            "['0rt', 'please', 'rt', 'food', 'needed', 'shelter', 'nc', 'area', 'hit', 'hard', 'tornado', 'please', 'contact', 'u', 'at40657975']\n",
            "['1please', 'rt', 'food', 'needed', 'shelter', 'nc', 'area', 'hit', 'hard', 'tornado', 'please', 'contact', 'u', 'infoorg', 'help40657975']\n",
            "['3ôits', 'raining', 'tornado', 'warningsabout', 'coma', 'eating', 'food', 'fewòªòª4065789792']\n",
            "['9lmao', 'rt', 'get', 'food', 'hope', 'tornado', 'blow', 'yall', 'food', 'yall', 'mouth', '4065776667']\n",
            "['10saved', 'tornado', \"warningi'm\", 'ready', 'eat', 'good', 'food4065775625']\n"
          ],
          "name": "stdout"
        }
      ]
    },
    {
      "cell_type": "code",
      "metadata": {
        "colab": {
          "base_uri": "https://localhost:8080/"
        },
        "id": "toXmL87gVfhN",
        "outputId": "ea24ab88-d5ec-468c-cacb-3d14ec1d5044"
      },
      "source": [
        "df_tor[0].str.split(expand=True).stack().value_counts()"
      ],
      "execution_count": 41,
      "outputs": [
        {
          "output_type": "execute_result",
          "data": {
            "text/plain": [
              "Series([], dtype: int64)"
            ]
          },
          "metadata": {
            "tags": []
          },
          "execution_count": 41
        }
      ]
    },
    {
      "cell_type": "code",
      "metadata": {
        "id": "sBR0tuCGVuSq"
      },
      "source": [
        "tweets_lemmatize_values = ','.join([item for sub_list in df_tor[0] for item in sub_list])"
      ],
      "execution_count": 42,
      "outputs": []
    },
    {
      "cell_type": "code",
      "metadata": {
        "id": "aD4yO18NWE2K"
      },
      "source": [
        "from collections import Counter  "
      ],
      "execution_count": 44,
      "outputs": []
    },
    {
      "cell_type": "code",
      "metadata": {
        "id": "n1gA9cBvWPHh"
      },
      "source": [
        "from spacy.lang.en import English"
      ],
      "execution_count": 47,
      "outputs": []
    },
    {
      "cell_type": "code",
      "metadata": {
        "id": "rpeHKnDxVuQQ"
      },
      "source": [
        "nlp = English()"
      ],
      "execution_count": 48,
      "outputs": []
    },
    {
      "cell_type": "code",
      "metadata": {
        "id": "Lr9TBPWkWTxG"
      },
      "source": [
        "nlp.max_length = 40000000"
      ],
      "execution_count": 49,
      "outputs": []
    },
    {
      "cell_type": "code",
      "metadata": {
        "colab": {
          "base_uri": "https://localhost:8080/"
        },
        "id": "yQeTzPn0WTuN",
        "outputId": "b6ffb1ac-99c3-46f9-8051-6390ea655eed"
      },
      "source": [
        "tweets_lemmatize_inter = nlp(tweets_lemmatize_values)\n",
        "\n",
        "\n",
        "tweets_lemmatize_inter1 = [token.text for token in tweets_lemmatize_inter if token.is_punct != True]\n",
        "\n",
        "\n",
        "all_word_freq = Counter(tweets_lemmatize_inter1)\n",
        "\n",
        "# get the 10 most frequent words\n",
        "top_ten_words = all_word_freq.most_common(10)\n",
        "\n",
        "# view the 10 most common words\n",
        "top_ten_words"
      ],
      "execution_count": 50,
      "outputs": [
        {
          "output_type": "execute_result",
          "data": {
            "text/plain": [
              "[('tornado', 2381),\n",
              " ('shelter', 843),\n",
              " ('car', 740),\n",
              " ('warning', 416),\n",
              " ('food', 320),\n",
              " ('rt', 283),\n",
              " ('take', 282),\n",
              " ('seek', 232),\n",
              " ('ride', 212),\n",
              " ('get', 209)]"
            ]
          },
          "metadata": {
            "tags": []
          },
          "execution_count": 50
        }
      ]
    },
    {
      "cell_type": "code",
      "metadata": {
        "id": "IVpDV-tXWTq2"
      },
      "source": [
        "frequency_data = pd.DataFrame.from_dict(all_word_freq, orient='index').reset_index()\n",
        "frequency_data.columns=[\"word\", \"frequency\"]"
      ],
      "execution_count": 51,
      "outputs": []
    },
    {
      "cell_type": "code",
      "metadata": {
        "colab": {
          "base_uri": "https://localhost:8080/"
        },
        "id": "aHk7ylLOWwkB",
        "outputId": "a6f167dd-0215-44b2-a681-0be2450d0cdf"
      },
      "source": [
        "pip install sns"
      ],
      "execution_count": 55,
      "outputs": [
        {
          "output_type": "stream",
          "text": [
            "Collecting sns\n",
            "  Downloading https://files.pythonhosted.org/packages/58/80/d5a2a12fae635474014e7e0c88959daab3bf815648250fbb7639dd02fe50/sns-0.1.tar.gz\n",
            "Building wheels for collected packages: sns\n",
            "  Building wheel for sns (setup.py) ... \u001b[?25l\u001b[?25hdone\n",
            "  Created wheel for sns: filename=sns-0.1-cp37-none-any.whl size=2664 sha256=13851f19ce83500fdefb276e49ada4330c19bae8bc19e97e10c537897a48c88c\n",
            "  Stored in directory: /root/.cache/pip/wheels/be/a5/d8/4390400ed430c8186a6af96dbb1cc7d0a00a5dee15d268b627\n",
            "Successfully built sns\n",
            "Installing collected packages: sns\n",
            "Successfully installed sns-0.1\n"
          ],
          "name": "stdout"
        }
      ]
    },
    {
      "cell_type": "code",
      "metadata": {
        "colab": {
          "base_uri": "https://localhost:8080/",
          "height": 404
        },
        "id": "v13xFquwWToN",
        "outputId": "e1078027-d005-48fb-ddfc-029332be9b5e"
      },
      "source": [
        "fig, ax = plt.subplots(figsize=(18,6))\n",
        "sns.barplot(data=frequency_data.sort_values(by=\"frequency\", ascending=False).head(10), \n",
        "            y=\"word\", \n",
        "            x=\"frequency\", \n",
        "            color='#FF4500')\n",
        "plt.ylabel(\"Word\")\n",
        "plt.xlabel(\"Frequency\")\n",
        "plt.title(\"Top 10 Most Frequent Words in Dataset\")\n",
        "sns.despine();"
      ],
      "execution_count": 60,
      "outputs": [
        {
          "output_type": "display_data",
          "data": {
            "image/png": "[encoded data removed]",
            "text/plain": [
              "<Figure size 1296x432 with 1 Axes>"
            ]
          },
          "metadata": {
            "tags": [],
            "needs_background": "light"
          }
        }
      ]
    },
    {
      "cell_type": "code",
      "metadata": {
        "id": "ez6Z1H_YTaPV"
      },
      "source": [
        "dictionary = corpora.Dictionary(df_tor[0].tolist())"
      ],
      "execution_count": 36,
      "outputs": []
    },
    {
      "cell_type": "code",
      "metadata": {
        "id": "Vqlrwdg7TdHu"
      },
      "source": [
        "doc_term_matrix = [dictionary.doc2bow(doc) for doc in df_tor[0]]"
      ],
      "execution_count": 37,
      "outputs": []
    },
    {
      "cell_type": "code",
      "metadata": {
        "id": "HFueyoLhTgEh"
      },
      "source": [
        "lda = gensim.models.ldamodel.LdaModel"
      ],
      "execution_count": 38,
      "outputs": []
    },
    {
      "cell_type": "code",
      "metadata": {
        "id": "ea9NR8LkTpXi"
      },
      "source": [
        "lda_model = lda(doc_term_matrix, num_topics=5, id2word=dictionary, passes=5)"
      ],
      "execution_count": 39,
      "outputs": []
    },
    {
      "cell_type": "code",
      "metadata": {
        "colab": {
          "base_uri": "https://localhost:8080/"
        },
        "id": "eB8HbHpuTr32",
        "outputId": "49134543-1d86-4300-a81b-3b91ee593ff0"
      },
      "source": [
        "print(lda_model.print_topics())"
      ],
      "execution_count": 40,
      "outputs": [
        {
          "output_type": "stream",
          "text": [
            "[(0, '0.059*\"tornado\" + 0.032*\"car\" + 0.017*\"shelter\" + 0.013*\"rt\" + 0.011*\"tuscaloosa\" + 0.006*\"ripping\" + 0.005*\"go\" + 0.005*\"destructive\" + 0.005*\"damage\" + 0.005*\"place\"'), (1, '0.055*\"tornado\" + 0.033*\"shelter\" + 0.024*\"warning\" + 0.016*\"seek\" + 0.009*\"food\" + 0.008*\"county\" + 0.007*\"car\" + 0.006*\"nw\" + 0.006*\"part\" + 0.005*\"victim\"'), (2, '0.051*\"tornado\" + 0.023*\"shelter\" + 0.010*\"go\" + 0.009*\"take\" + 0.009*\"i\\'m\" + 0.008*\"warning\" + 0.007*\"u\" + 0.007*\"near\" + 0.006*\"hit\" + 0.006*\"right\"'), (3, '0.052*\"tornado\" + 0.025*\"car\" + 0.013*\"shelter\" + 0.013*\"get\" + 0.011*\"warning\" + 0.008*\"storm\" + 0.007*\"take\" + 0.006*\"food\" + 0.005*\"want\" + 0.005*\"i\\'m\"'), (4, '0.060*\"tornado\" + 0.052*\"car\" + 0.027*\"ride\" + 0.007*\"rt\" + 0.006*\"food\" + 0.006*\"got\" + 0.005*\"i\\'m\" + 0.005*\"lol\" + 0.004*\"near\" + 0.004*\"going\"')]\n"
          ],
          "name": "stdout"
        }
      ]
    },
    {
      "cell_type": "code",
      "metadata": {
        "id": "hmxgIBf_TuTl"
      },
      "source": [
        ""
      ],
      "execution_count": null,
      "outputs": []
    }
  ]
}