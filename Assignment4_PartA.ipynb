{
  "nbformat": 4,
  "nbformat_minor": 0,
  "metadata": {
    "colab": {
      "name": "Assignment4_PartA.ipynb",
      "provenance": [],
      "authorship_tag": "ABX9TyP0DEjjWqTFYLolN7bmC1OI",
      "include_colab_link": true
    },
    "kernelspec": {
      "name": "python3",
      "display_name": "Python 3"
    },
    "language_info": {
      "name": "python"
    }
  },
  "cells": [
    {
      "cell_type": "markdown",
      "metadata": {
        "id": "view-in-github",
        "colab_type": "text"
      },
      "source": [
        "<a href=\"https://colab.research.google.com/github/HarmanBhutani/ML_projects/blob/main/Assignment4_PartA.ipynb\" target=\"_parent\"><img src=\"https://colab.research.google.com/assets/colab-badge.svg\" alt=\"Open In Colab\"/></a>"
      ]
    },
    {
      "cell_type": "markdown",
      "metadata": {
        "id": "BW9vZe78-rIh"
      },
      "source": [
        "\n",
        "\n",
        "<H1 align=\"center\"><b> Assignment 4 - Part A</b></H1>\n",
        "\n",
        "<H1 align=\"center\"><b> By: Harman Bhutani - 300144160 </b></H1>\n",
        "\n",
        "<H5 align=\"left\"><b> Overview:</b></H5>\n",
        "<p align=\"justify\">This assignment should be completed individually using either Python or R. Upon completion, present your result in one submission, including the report, answers generated and plots. Also, submit the source codes used to generate your results as a separate attachment.</p>\n",
        "<H5 align=\"left\"><b>Part A: Topic Modeling & Sentiment Analysis</b></H5>\n",
        "\n",
        "<p align=\"justify\"> Sentiment analysis is useful for identifying attitudes in text data about a subject of interest. It is scored using polarity\n",
        "values that range from 1 (i.e., more positivity) to -1 (i.e., more negativity). In this part, you will:\n",
        "<ol>\n",
        "\n",
        "<li>Estimate the public's perception of natural hazards using tweets from the tornado dataset provided</li>\n",
        "<li>Develop a text summarizer</li>\n"
      ]
    },
    {
      "cell_type": "code",
      "metadata": {
        "colab": {
          "base_uri": "https://localhost:8080/"
        },
        "id": "8tW568obQHOL",
        "outputId": "4546d72e-43c3-4dd8-e5dd-3cfa3c8d6ebb"
      },
      "source": [
        "pip install contractions"
      ],
      "execution_count": 23,
      "outputs": [
        {
          "output_type": "stream",
          "text": [
            "Requirement already satisfied: contractions in /usr/local/lib/python3.7/dist-packages (0.0.48)\n",
            "Requirement already satisfied: textsearch>=0.0.21 in /usr/local/lib/python3.7/dist-packages (from contractions) (0.0.21)\n",
            "Requirement already satisfied: anyascii in /usr/local/lib/python3.7/dist-packages (from textsearch>=0.0.21->contractions) (0.1.7)\n",
            "Requirement already satisfied: pyahocorasick in /usr/local/lib/python3.7/dist-packages (from textsearch>=0.0.21->contractions) (1.4.2)\n"
          ],
          "name": "stdout"
        }
      ]
    },
    {
      "cell_type": "code",
      "metadata": {
        "colab": {
          "base_uri": "https://localhost:8080/"
        },
        "id": "V0IP7ADSB7z5",
        "outputId": "ac4df5ca-94a9-4d00-b51d-ecb713c96121"
      },
      "source": [
        "nltk.download('stopwords')"
      ],
      "execution_count": 32,
      "outputs": [
        {
          "output_type": "stream",
          "text": [
            "[nltk_data] Downloading package stopwords to /root/nltk_data...\n",
            "[nltk_data]   Unzipping corpora/stopwords.zip.\n"
          ],
          "name": "stdout"
        },
        {
          "output_type": "execute_result",
          "data": {
            "text/plain": [
              "True"
            ]
          },
          "metadata": {
            "tags": []
          },
          "execution_count": 32
        }
      ]
    },
    {
      "cell_type": "code",
      "metadata": {
        "id": "zzGv0BXwPDxX"
      },
      "source": [
        "import pandas as pd\n",
        "import numpy as np\n",
        "from textblob import TextBlob\n",
        "import matplotlib.pyplot as plt\n",
        "import re\n",
        "import contractions\n",
        "import nltk\n",
        "from nltk.corpus import stopwords\n",
        "from nltk.stem import PorterStemmer, WordNetLemmatizer\n",
        "import gensim\n",
        "from gensim import corpora\n",
        "import spacy\n",
        "from spacy import displacy\n",
        "from collections import Counter\n",
        "import en_core_web_sm\n",
        "from sklearn.ensemble import RandomForestClassifier\n",
        "from sklearn.model_selection import cross_val_score\n",
        "from sklearn.metrics import accuracy_score, recall_score, precision_score, f1_score, confusion_matrix\n",
        "from sklearn.feature_extraction.text import CountVectorizer, TfidfVectorizer\n",
        "from sklearn.preprocessing import LabelEncoder, OneHotEncoder, MultiLabelBinarizer\n",
        "from sklearn.model_selection import RandomizedSearchCV\n",
        "import seaborn as sns"
      ],
      "execution_count": 25,
      "outputs": []
    },
    {
      "cell_type": "code",
      "metadata": {
        "id": "P6cP5_wcQLjW"
      },
      "source": [
        "df_tor = pd.read_excel('Tornado.xlsx', header=None)"
      ],
      "execution_count": 5,
      "outputs": []
    },
    {
      "cell_type": "code",
      "metadata": {
        "colab": {
          "base_uri": "https://localhost:8080/",
          "height": 520
        },
        "id": "T_ks-b8qQU71",
        "outputId": "d9564d47-c223-40e0-e8e0-02a09fd511e8"
      },
      "source": [
        "df_tor"
      ],
      "execution_count": 6,
      "outputs": [
        {
          "output_type": "execute_result",
          "data": {
            "text/html": [
              "<div>\n",
              "<style scoped>\n",
              "    .dataframe tbody tr th:only-of-type {\n",
              "        vertical-align: middle;\n",
              "    }\n",
              "\n",
              "    .dataframe tbody tr th {\n",
              "        vertical-align: top;\n",
              "    }\n",
              "\n",
              "    .dataframe thead th {\n",
              "        text-align: right;\n",
              "    }\n",
              "</style>\n",
              "<table border=\"1\" class=\"dataframe\">\n",
              "  <thead>\n",
              "    <tr style=\"text-align: right;\">\n",
              "      <th></th>\n",
              "      <th>0</th>\n",
              "      <th>1</th>\n",
              "      <th>2</th>\n",
              "      <th>3</th>\n",
              "      <th>4</th>\n",
              "      <th>5</th>\n",
              "      <th>6</th>\n",
              "      <th>7</th>\n",
              "      <th>8</th>\n",
              "      <th>9</th>\n",
              "      <th>10</th>\n",
              "    </tr>\n",
              "  </thead>\n",
              "  <tbody>\n",
              "    <tr>\n",
              "      <th>0</th>\n",
              "      <td>0\\tRT @uberdogfound: Please RT - Food needed f...</td>\n",
              "      <td>NaN</td>\n",
              "      <td>NaN</td>\n",
              "      <td>NaN</td>\n",
              "      <td>NaN</td>\n",
              "      <td>NaN</td>\n",
              "      <td>NaN</td>\n",
              "      <td>NaN</td>\n",
              "      <td>NaN</td>\n",
              "      <td>NaN</td>\n",
              "      <td>NaN</td>\n",
              "    </tr>\n",
              "    <tr>\n",
              "      <th>1</th>\n",
              "      <td>1\\tPlease RT - Food needed for shelter in NC i...</td>\n",
              "      <td>NaN</td>\n",
              "      <td>NaN</td>\n",
              "      <td>NaN</td>\n",
              "      <td>NaN</td>\n",
              "      <td>NaN</td>\n",
              "      <td>NaN</td>\n",
              "      <td>NaN</td>\n",
              "      <td>NaN</td>\n",
              "      <td>NaN</td>\n",
              "      <td>NaN</td>\n",
              "    </tr>\n",
              "    <tr>\n",
              "      <th>2</th>\n",
              "      <td>3\\t‚ô°its raining and tornado warnings....abou...</td>\n",
              "      <td>NaN</td>\n",
              "      <td>NaN</td>\n",
              "      <td>NaN</td>\n",
              "      <td>NaN</td>\n",
              "      <td>NaN</td>\n",
              "      <td>NaN</td>\n",
              "      <td>NaN</td>\n",
              "      <td>NaN</td>\n",
              "      <td>NaN</td>\n",
              "      <td>NaN</td>\n",
              "    </tr>\n",
              "    <tr>\n",
              "      <th>3</th>\n",
              "      <td>9\\tLmao #damn RT @LuCeCaNNoNn: If I don't get ...</td>\n",
              "      <td>NaN</td>\n",
              "      <td>NaN</td>\n",
              "      <td>NaN</td>\n",
              "      <td>NaN</td>\n",
              "      <td>NaN</td>\n",
              "      <td>NaN</td>\n",
              "      <td>NaN</td>\n",
              "      <td>NaN</td>\n",
              "      <td>NaN</td>\n",
              "      <td>NaN</td>\n",
              "    </tr>\n",
              "    <tr>\n",
              "      <th>4</th>\n",
              "      <td>10\\tSaved by the tornado warning....I'm just r...</td>\n",
              "      <td>NaN</td>\n",
              "      <td>NaN</td>\n",
              "      <td>NaN</td>\n",
              "      <td>NaN</td>\n",
              "      <td>NaN</td>\n",
              "      <td>NaN</td>\n",
              "      <td>NaN</td>\n",
              "      <td>NaN</td>\n",
              "      <td>NaN</td>\n",
              "      <td>NaN</td>\n",
              "    </tr>\n",
              "    <tr>\n",
              "      <th>...</th>\n",
              "      <td>...</td>\n",
              "      <td>...</td>\n",
              "      <td>...</td>\n",
              "      <td>...</td>\n",
              "      <td>...</td>\n",
              "      <td>...</td>\n",
              "      <td>...</td>\n",
              "      <td>...</td>\n",
              "      <td>...</td>\n",
              "      <td>...</td>\n",
              "      <td>...</td>\n",
              "    </tr>\n",
              "    <tr>\n",
              "      <th>3626</th>\n",
              "      <td>39\\tThanks to @BarackObama and @SethMeyers21 f...</td>\n",
              "      <td>NaN</td>\n",
              "      <td>NaN</td>\n",
              "      <td>NaN</td>\n",
              "      <td>NaN</td>\n",
              "      <td>NaN</td>\n",
              "      <td>NaN</td>\n",
              "      <td>NaN</td>\n",
              "      <td>NaN</td>\n",
              "      <td>NaN</td>\n",
              "      <td>NaN</td>\n",
              "    </tr>\n",
              "    <tr>\n",
              "      <th>3627</th>\n",
              "      <td>0\\tStamford-based AmeriCares is preparing to s...</td>\n",
              "      <td>NaN</td>\n",
              "      <td>NaN</td>\n",
              "      <td>NaN</td>\n",
              "      <td>NaN</td>\n",
              "      <td>NaN</td>\n",
              "      <td>NaN</td>\n",
              "      <td>NaN</td>\n",
              "      <td>NaN</td>\n",
              "      <td>NaN</td>\n",
              "      <td>NaN</td>\n",
              "    </tr>\n",
              "    <tr>\n",
              "      <th>3628</th>\n",
              "      <td>2\\t\"Semi-trailer parked at People's Church Spr...</td>\n",
              "      <td>leaves 2pm Sun. Need water food batteries bla...</td>\n",
              "      <td>NaN</td>\n",
              "      <td>NaN</td>\n",
              "      <td>NaN</td>\n",
              "      <td>NaN</td>\n",
              "      <td>NaN</td>\n",
              "      <td>NaN</td>\n",
              "      <td>NaN</td>\n",
              "      <td>NaN</td>\n",
              "      <td>NaN</td>\n",
              "    </tr>\n",
              "    <tr>\n",
              "      <th>3629</th>\n",
              "      <td>3\\tRT @TopNoTcH_B1tch: My mom is goin out of t...</td>\n",
              "      <td>NaN</td>\n",
              "      <td>NaN</td>\n",
              "      <td>NaN</td>\n",
              "      <td>NaN</td>\n",
              "      <td>NaN</td>\n",
              "      <td>NaN</td>\n",
              "      <td>NaN</td>\n",
              "      <td>NaN</td>\n",
              "      <td>NaN</td>\n",
              "      <td>NaN</td>\n",
              "    </tr>\n",
              "    <tr>\n",
              "      <th>3630</th>\n",
              "      <td>6\\t\"Volunteers Offer Support to Southern Torna...</td>\n",
              "      <td>water and medical supplies after tor... http:...</td>\n",
              "      <td>NaN</td>\n",
              "      <td>NaN</td>\n",
              "      <td>NaN</td>\n",
              "      <td>NaN</td>\n",
              "      <td>NaN</td>\n",
              "      <td>NaN</td>\n",
              "      <td>NaN</td>\n",
              "      <td>NaN</td>\n",
              "      <td>NaN</td>\n",
              "    </tr>\n",
              "  </tbody>\n",
              "</table>\n",
              "<p>3631 rows × 11 columns</p>\n",
              "</div>"
            ],
            "text/plain": [
              "                                                     0   ...   10\n",
              "0     0\\tRT @uberdogfound: Please RT - Food needed f...  ...  NaN\n",
              "1     1\\tPlease RT - Food needed for shelter in NC i...  ...  NaN\n",
              "2     3\\t‚ô°its raining and tornado warnings....abou...  ...  NaN\n",
              "3     9\\tLmao #damn RT @LuCeCaNNoNn: If I don't get ...  ...  NaN\n",
              "4     10\\tSaved by the tornado warning....I'm just r...  ...  NaN\n",
              "...                                                 ...  ...  ...\n",
              "3626  39\\tThanks to @BarackObama and @SethMeyers21 f...  ...  NaN\n",
              "3627  0\\tStamford-based AmeriCares is preparing to s...  ...  NaN\n",
              "3628  2\\t\"Semi-trailer parked at People's Church Spr...  ...  NaN\n",
              "3629  3\\tRT @TopNoTcH_B1tch: My mom is goin out of t...  ...  NaN\n",
              "3630  6\\t\"Volunteers Offer Support to Southern Torna...  ...  NaN\n",
              "\n",
              "[3631 rows x 11 columns]"
            ]
          },
          "metadata": {
            "tags": []
          },
          "execution_count": 6
        }
      ]
    },
    {
      "cell_type": "code",
      "metadata": {
        "id": "UUmWQZbCQXe8"
      },
      "source": [
        "df_tor=df_tor.fillna('')"
      ],
      "execution_count": 7,
      "outputs": []
    },
    {
      "cell_type": "code",
      "metadata": {
        "id": "UH-kdMPrQZsz"
      },
      "source": [
        "df_tor=df_tor.astype(str)"
      ],
      "execution_count": 8,
      "outputs": []
    },
    {
      "cell_type": "code",
      "metadata": {
        "colab": {
          "base_uri": "https://localhost:8080/"
        },
        "id": "6S04DYZsQbfl",
        "outputId": "866ec732-9090-48fb-aae9-409d4e30f137"
      },
      "source": [
        "df_tor.head().apply(lambda x: ''.join(x), axis=1)"
      ],
      "execution_count": 9,
      "outputs": [
        {
          "output_type": "execute_result",
          "data": {
            "text/plain": [
              "0    0\\tRT @uberdogfound: Please RT - Food needed f...\n",
              "1    1\\tPlease RT - Food needed for shelter in NC i...\n",
              "2    3\\t‚ô°its raining and tornado warnings....abou...\n",
              "3    9\\tLmao #damn RT @LuCeCaNNoNn: If I don't get ...\n",
              "4    10\\tSaved by the tornado warning....I'm just r...\n",
              "dtype: object"
            ]
          },
          "metadata": {
            "tags": []
          },
          "execution_count": 9
        }
      ]
    },
    {
      "cell_type": "code",
      "metadata": {
        "colab": {
          "base_uri": "https://localhost:8080/"
        },
        "id": "ffexs6hWQd30",
        "outputId": "6af97da6-a769-420e-a576-c9237b07c6f9"
      },
      "source": [
        "df_tor.shape"
      ],
      "execution_count": 10,
      "outputs": [
        {
          "output_type": "execute_result",
          "data": {
            "text/plain": [
              "(3631, 11)"
            ]
          },
          "metadata": {
            "tags": []
          },
          "execution_count": 10
        }
      ]
    },
    {
      "cell_type": "code",
      "metadata": {
        "colab": {
          "base_uri": "https://localhost:8080/",
          "height": 203
        },
        "id": "EWKd9GYXQkXB",
        "outputId": "ad6d1ecd-0688-4e8a-b150-320168129062"
      },
      "source": [
        "df_tor.head()"
      ],
      "execution_count": 11,
      "outputs": [
        {
          "output_type": "execute_result",
          "data": {
            "text/html": [
              "<div>\n",
              "<style scoped>\n",
              "    .dataframe tbody tr th:only-of-type {\n",
              "        vertical-align: middle;\n",
              "    }\n",
              "\n",
              "    .dataframe tbody tr th {\n",
              "        vertical-align: top;\n",
              "    }\n",
              "\n",
              "    .dataframe thead th {\n",
              "        text-align: right;\n",
              "    }\n",
              "</style>\n",
              "<table border=\"1\" class=\"dataframe\">\n",
              "  <thead>\n",
              "    <tr style=\"text-align: right;\">\n",
              "      <th></th>\n",
              "      <th>0</th>\n",
              "      <th>1</th>\n",
              "      <th>2</th>\n",
              "      <th>3</th>\n",
              "      <th>4</th>\n",
              "      <th>5</th>\n",
              "      <th>6</th>\n",
              "      <th>7</th>\n",
              "      <th>8</th>\n",
              "      <th>9</th>\n",
              "      <th>10</th>\n",
              "    </tr>\n",
              "  </thead>\n",
              "  <tbody>\n",
              "    <tr>\n",
              "      <th>0</th>\n",
              "      <td>0\\tRT @uberdogfound: Please RT - Food needed f...</td>\n",
              "      <td></td>\n",
              "      <td></td>\n",
              "      <td></td>\n",
              "      <td></td>\n",
              "      <td></td>\n",
              "      <td></td>\n",
              "      <td></td>\n",
              "      <td></td>\n",
              "      <td></td>\n",
              "      <td></td>\n",
              "    </tr>\n",
              "    <tr>\n",
              "      <th>1</th>\n",
              "      <td>1\\tPlease RT - Food needed for shelter in NC i...</td>\n",
              "      <td></td>\n",
              "      <td></td>\n",
              "      <td></td>\n",
              "      <td></td>\n",
              "      <td></td>\n",
              "      <td></td>\n",
              "      <td></td>\n",
              "      <td></td>\n",
              "      <td></td>\n",
              "      <td></td>\n",
              "    </tr>\n",
              "    <tr>\n",
              "      <th>2</th>\n",
              "      <td>3\\t‚ô°its raining and tornado warnings....abou...</td>\n",
              "      <td></td>\n",
              "      <td></td>\n",
              "      <td></td>\n",
              "      <td></td>\n",
              "      <td></td>\n",
              "      <td></td>\n",
              "      <td></td>\n",
              "      <td></td>\n",
              "      <td></td>\n",
              "      <td></td>\n",
              "    </tr>\n",
              "    <tr>\n",
              "      <th>3</th>\n",
              "      <td>9\\tLmao #damn RT @LuCeCaNNoNn: If I don't get ...</td>\n",
              "      <td></td>\n",
              "      <td></td>\n",
              "      <td></td>\n",
              "      <td></td>\n",
              "      <td></td>\n",
              "      <td></td>\n",
              "      <td></td>\n",
              "      <td></td>\n",
              "      <td></td>\n",
              "      <td></td>\n",
              "    </tr>\n",
              "    <tr>\n",
              "      <th>4</th>\n",
              "      <td>10\\tSaved by the tornado warning....I'm just r...</td>\n",
              "      <td></td>\n",
              "      <td></td>\n",
              "      <td></td>\n",
              "      <td></td>\n",
              "      <td></td>\n",
              "      <td></td>\n",
              "      <td></td>\n",
              "      <td></td>\n",
              "      <td></td>\n",
              "      <td></td>\n",
              "    </tr>\n",
              "  </tbody>\n",
              "</table>\n",
              "</div>"
            ],
            "text/plain": [
              "                                                  0  1  2  3  4   ... 6  7  8  9  10\n",
              "0  0\\tRT @uberdogfound: Please RT - Food needed f...              ...               \n",
              "1  1\\tPlease RT - Food needed for shelter in NC i...              ...               \n",
              "2  3\\t‚ô°its raining and tornado warnings....abou...              ...               \n",
              "3  9\\tLmao #damn RT @LuCeCaNNoNn: If I don't get ...              ...               \n",
              "4  10\\tSaved by the tornado warning....I'm just r...              ...               \n",
              "\n",
              "[5 rows x 11 columns]"
            ]
          },
          "metadata": {
            "tags": []
          },
          "execution_count": 11
        }
      ]
    },
    {
      "cell_type": "code",
      "metadata": {
        "colab": {
          "base_uri": "https://localhost:8080/"
        },
        "id": "6-RWCSI8Qyge",
        "outputId": "bee85945-8d78-46e9-ba65-932c30132fb0"
      },
      "source": [
        "for text in df_tor[0].head():\n",
        "    print(text)"
      ],
      "execution_count": 12,
      "outputs": [
        {
          "output_type": "stream",
          "text": [
            "0\tRT @uberdogfound: Please RT - Food needed for shelter in NC in area that was hit hard by tornado. Please contact us at…\t40657.975\n",
            "1\tPlease RT - Food needed for shelter in NC in area that was hit hard by tornado.  Please contact us at info@uberdogfoundation.org to help!\t40657.975\n",
            "3\t‚ô°its raining and tornado warnings....about to be in a coma from eating all this food in a few!!!‚òª‚òª\t40657.89792\n",
            "9\tLmao #damn RT @LuCeCaNNoNn: If I don't get any food I hope the tornado blow all yall food out yall mouth #SoIDC\t40657.76667\n",
            "10\tSaved by the tornado warning....I'm just ready to eat this good food\t40657.75625\n"
          ],
          "name": "stdout"
        }
      ]
    },
    {
      "cell_type": "markdown",
      "metadata": {
        "id": "Ag9OAx0f_P1P"
      },
      "source": [
        "1. Using the textblob package in python, calculate a polarity value for each tweet (10 points)"
      ]
    },
    {
      "cell_type": "code",
      "metadata": {
        "id": "Q4WIzG6fRE_I"
      },
      "source": [
        "sentiment_ob = [TextBlob(text) for text in df_tor[0]]"
      ],
      "execution_count": 13,
      "outputs": []
    },
    {
      "cell_type": "code",
      "metadata": {
        "id": "Q6ZxZfU1RQuy"
      },
      "source": [
        "polarity = [sen.sentiment.polarity for sen in sentiment_ob]"
      ],
      "execution_count": 14,
      "outputs": []
    },
    {
      "cell_type": "markdown",
      "metadata": {
        "id": "Ow4XdbCn_YQz"
      },
      "source": [
        "Plot the polarity values in a histogram to identify the overall sentiment (10 points)"
      ]
    },
    {
      "cell_type": "code",
      "metadata": {
        "colab": {
          "base_uri": "https://localhost:8080/",
          "height": 265
        },
        "id": "LMc7ESF9RXCB",
        "outputId": "614bbdea-1da1-4200-abe2-86b9c7401613"
      },
      "source": [
        "plt.hist(polarity, bins=15)\n",
        "plt.show()"
      ],
      "execution_count": 15,
      "outputs": [
        {
          "output_type": "display_data",
          "data": {
            "image/png": "[encoded data removed]",
            "text/plain": [
              "<Figure size 432x288 with 1 Axes>"
            ]
          },
          "metadata": {
            "tags": [],
            "needs_background": "light"
          }
        }
      ]
    },
    {
      "cell_type": "markdown",
      "metadata": {
        "id": "7wvc8yjqR2TV"
      },
      "source": [
        "A.3"
      ]
    },
    {
      "cell_type": "markdown",
      "metadata": {
        "id": "Qt59ozPA_d6i"
      },
      "source": [
        "What does the histogram of polarity values tell you about sentiments in the tweets? Are they positive or\n",
        "negative?"
      ]
    },
    {
      "cell_type": "markdown",
      "metadata": {
        "id": "_NIrZ-eO_thI"
      },
      "source": [
        "Values closer to 1 indicate more positivity, while values closer to -1 indicate more negativity.The number of tweets less than 0 are the negative tweets and on other side are considered as positive tweets.Considering 0 as the neutral value which is having highest value as shown in the above histogram . Since the total of values of histogram to the right of 0 are much more than in the left which means that they are much more positive sentiments in the tweets"
      ]
    },
    {
      "cell_type": "markdown",
      "metadata": {
        "id": "4kymKFc4SFLM"
      },
      "source": [
        "Part B"
      ]
    },
    {
      "cell_type": "markdown",
      "metadata": {
        "id": "zR_cNjwHAm9R"
      },
      "source": [
        "Preprocess the tweets & compute frequency distribution for most common 10 words"
      ]
    },
    {
      "cell_type": "code",
      "metadata": {
        "id": "D4C37MV5RZKn"
      },
      "source": [
        "df_tor[0] = [re.sub(r'@\\w+|http\\S+|www\\S+|#\\S+',\"\",line.lower()) for line in df_tor[0]]"
      ],
      "execution_count": 16,
      "outputs": []
    },
    {
      "cell_type": "code",
      "metadata": {
        "id": "YOshLy9qSPht"
      },
      "source": [
        "punc = set([word for line in df_tor[0] for word in line if not word.isalnum()])\n",
        "punc.remove(' ')\n",
        "punc.remove(\"'\")\n",
        "remove = '|'.join('\\\\'+i for i in punc)"
      ],
      "execution_count": 17,
      "outputs": []
    },
    {
      "cell_type": "code",
      "metadata": {
        "id": "_YYyWheJST41"
      },
      "source": [
        "df_tor[0] = df_tor[0].apply(lambda x: re.sub(remove, '', x))"
      ],
      "execution_count": 18,
      "outputs": []
    },
    {
      "cell_type": "code",
      "metadata": {
        "colab": {
          "base_uri": "https://localhost:8080/"
        },
        "id": "XZdN_NDJSY5p",
        "outputId": "917cf828-5f47-4e4b-bfeb-670f6ad1431f"
      },
      "source": [
        "for text in df_tor[0].head():\n",
        "    print(text)"
      ],
      "execution_count": 19,
      "outputs": [
        {
          "output_type": "stream",
          "text": [
            "0rt  please rt  food needed for shelter in nc in area that was hit hard by tornado please contact us at40657975\n",
            "1please rt  food needed for shelter in nc in area that was hit hard by tornado  please contact us at infoorg to help40657975\n",
            "3ôits raining and tornado warningsabout to be in a coma from eating all this food in a fewòªòª4065789792\n",
            "9lmao  rt  if i don't get any food i hope the tornado blow all yall food out yall mouth 4065776667\n",
            "10saved by the tornado warningi'm just ready to eat this good food4065775625\n"
          ],
          "name": "stdout"
        }
      ]
    },
    {
      "cell_type": "code",
      "metadata": {
        "id": "GugOlyTySb6e"
      },
      "source": [
        "d = contractions.contractions_dict"
      ],
      "execution_count": 26,
      "outputs": []
    },
    {
      "cell_type": "code",
      "metadata": {
        "id": "xbMSfc4eSfHc"
      },
      "source": [
        "df_tor[0] = df_tor[0].apply(lambda x: ' '.join([d[wor] if wor in d.keys() else wor for wor in x.split()]))"
      ],
      "execution_count": 27,
      "outputs": []
    },
    {
      "cell_type": "code",
      "metadata": {
        "colab": {
          "base_uri": "https://localhost:8080/"
        },
        "id": "hpG1ca11SmN1",
        "outputId": "efa2ba33-9aea-4098-8883-006cce32907f"
      },
      "source": [
        "for text in df_tor[0].head():\n",
        "    print(text)"
      ],
      "execution_count": 28,
      "outputs": [
        {
          "output_type": "stream",
          "text": [
            "0rt please rt food needed for shelter in nc in area that was hit hard by tornado please contact us at40657975\n",
            "1please rt food needed for shelter in nc in area that was hit hard by tornado please contact us at infoorg to help40657975\n",
            "3ôits raining and tornado warningsabout to be in a coma from eating all this food in a fewòªòª4065789792\n",
            "9lmao rt if i do not get any food i hope the tornado blow all yall food out yall mouth 4065776667\n",
            "10saved by the tornado warningi'm just ready to eat this good food4065775625\n"
          ],
          "name": "stdout"
        }
      ]
    },
    {
      "cell_type": "code",
      "metadata": {
        "id": "lRlzSM1rSpi6"
      },
      "source": [
        "st_words = set(stopwords.words('english'))"
      ],
      "execution_count": 33,
      "outputs": []
    },
    {
      "cell_type": "code",
      "metadata": {
        "id": "iNqaMrSmSrGB"
      },
      "source": [
        "df_tor[0] = df_tor[0].apply(lambda x: [word for word in x.split() if word not in st_words])"
      ],
      "execution_count": 34,
      "outputs": []
    },
    {
      "cell_type": "code",
      "metadata": {
        "colab": {
          "base_uri": "https://localhost:8080/"
        },
        "id": "sNdzIZ_pTCBo",
        "outputId": "ad05ec10-fca1-456c-cff2-98ba98685b85"
      },
      "source": [
        "for text in df_tor[0].head():\n",
        "    print(text)"
      ],
      "execution_count": 35,
      "outputs": [
        {
          "output_type": "stream",
          "text": [
            "['0rt', 'please', 'rt', 'food', 'needed', 'shelter', 'nc', 'area', 'hit', 'hard', 'tornado', 'please', 'contact', 'us', 'at40657975']\n",
            "['1please', 'rt', 'food', 'needed', 'shelter', 'nc', 'area', 'hit', 'hard', 'tornado', 'please', 'contact', 'us', 'infoorg', 'help40657975']\n",
            "['3ôits', 'raining', 'tornado', 'warningsabout', 'coma', 'eating', 'food', 'fewòªòª4065789792']\n",
            "['9lmao', 'rt', 'get', 'food', 'hope', 'tornado', 'blow', 'yall', 'food', 'yall', 'mouth', '4065776667']\n",
            "['10saved', 'tornado', \"warningi'm\", 'ready', 'eat', 'good', 'food4065775625']\n"
          ],
          "name": "stdout"
        }
      ]
    },
    {
      "cell_type": "code",
      "metadata": {
        "id": "-pP3E5SoTEX7"
      },
      "source": [
        "wnl = WordNetLemmatizer()"
      ],
      "execution_count": 36,
      "outputs": []
    },
    {
      "cell_type": "code",
      "metadata": {
        "colab": {
          "base_uri": "https://localhost:8080/"
        },
        "id": "knDvqpIvTMD-",
        "outputId": "d64eacc2-706d-49f0-cff9-6d2ae1d8600c"
      },
      "source": [
        "nltk.download('wordnet')"
      ],
      "execution_count": 37,
      "outputs": [
        {
          "output_type": "stream",
          "text": [
            "[nltk_data] Downloading package wordnet to /root/nltk_data...\n",
            "[nltk_data]   Unzipping corpora/wordnet.zip.\n"
          ],
          "name": "stdout"
        },
        {
          "output_type": "execute_result",
          "data": {
            "text/plain": [
              "True"
            ]
          },
          "metadata": {
            "tags": []
          },
          "execution_count": 37
        }
      ]
    },
    {
      "cell_type": "code",
      "metadata": {
        "id": "BLKGU_gxTFul"
      },
      "source": [
        "df_tor[0] = df_tor[0].apply(lambda x: [wnl.lemmatize(word) for word in x])"
      ],
      "execution_count": 38,
      "outputs": []
    },
    {
      "cell_type": "code",
      "metadata": {
        "colab": {
          "base_uri": "https://localhost:8080/"
        },
        "id": "_oBu3fO4TKAo",
        "outputId": "926582d0-96b8-4e97-971f-9c24d50212d6"
      },
      "source": [
        "for text in df_tor[0].head():\n",
        "    print(text)"
      ],
      "execution_count": 39,
      "outputs": [
        {
          "output_type": "stream",
          "text": [
            "['0rt', 'please', 'rt', 'food', 'needed', 'shelter', 'nc', 'area', 'hit', 'hard', 'tornado', 'please', 'contact', 'u', 'at40657975']\n",
            "['1please', 'rt', 'food', 'needed', 'shelter', 'nc', 'area', 'hit', 'hard', 'tornado', 'please', 'contact', 'u', 'infoorg', 'help40657975']\n",
            "['3ôits', 'raining', 'tornado', 'warningsabout', 'coma', 'eating', 'food', 'fewòªòª4065789792']\n",
            "['9lmao', 'rt', 'get', 'food', 'hope', 'tornado', 'blow', 'yall', 'food', 'yall', 'mouth', '4065776667']\n",
            "['10saved', 'tornado', \"warningi'm\", 'ready', 'eat', 'good', 'food4065775625']\n"
          ],
          "name": "stdout"
        }
      ]
    },
    {
      "cell_type": "code",
      "metadata": {
        "colab": {
          "base_uri": "https://localhost:8080/"
        },
        "id": "toXmL87gVfhN",
        "outputId": "60b9da56-b2bc-4402-a59f-d3917ff6bbe8"
      },
      "source": [
        "df_tor[0].str.split(expand=True).stack().value_counts()"
      ],
      "execution_count": 40,
      "outputs": [
        {
          "output_type": "execute_result",
          "data": {
            "text/plain": [
              "Series([], dtype: int64)"
            ]
          },
          "metadata": {
            "tags": []
          },
          "execution_count": 40
        }
      ]
    },
    {
      "cell_type": "code",
      "metadata": {
        "id": "sBR0tuCGVuSq"
      },
      "source": [
        "tweets_lemmatize_values = ','.join([item for sub_list in df_tor[0] for item in sub_list])"
      ],
      "execution_count": 41,
      "outputs": []
    },
    {
      "cell_type": "code",
      "metadata": {
        "id": "aD4yO18NWE2K"
      },
      "source": [
        "from collections import Counter  "
      ],
      "execution_count": 42,
      "outputs": []
    },
    {
      "cell_type": "code",
      "metadata": {
        "id": "n1gA9cBvWPHh"
      },
      "source": [
        "from spacy.lang.en import English"
      ],
      "execution_count": 43,
      "outputs": []
    },
    {
      "cell_type": "code",
      "metadata": {
        "id": "rpeHKnDxVuQQ"
      },
      "source": [
        "nlp = English()"
      ],
      "execution_count": 44,
      "outputs": []
    },
    {
      "cell_type": "code",
      "metadata": {
        "id": "Lr9TBPWkWTxG"
      },
      "source": [
        "nlp.max_length = 40000000"
      ],
      "execution_count": 45,
      "outputs": []
    },
    {
      "cell_type": "code",
      "metadata": {
        "colab": {
          "base_uri": "https://localhost:8080/"
        },
        "id": "yQeTzPn0WTuN",
        "outputId": "8565d64b-94f4-493e-c888-ac3bf0dd2f74"
      },
      "source": [
        "tweets_lemmatize_inter = nlp(tweets_lemmatize_values)\n",
        "\n",
        "\n",
        "tweets_lemmatize_inter1 = [token.text for token in tweets_lemmatize_inter if token.is_punct != True]\n",
        "\n",
        "\n",
        "all_word_freq = Counter(tweets_lemmatize_inter1)\n",
        "\n",
        "\n",
        "top_ten_words = all_word_freq.most_common(10)\n",
        "top_ten_words"
      ],
      "execution_count": 47,
      "outputs": [
        {
          "output_type": "execute_result",
          "data": {
            "text/plain": [
              "[('tornado', 2381),\n",
              " ('shelter', 843),\n",
              " ('car', 740),\n",
              " ('warning', 416),\n",
              " ('food', 320),\n",
              " ('rt', 283),\n",
              " ('take', 282),\n",
              " ('seek', 232),\n",
              " ('ride', 212),\n",
              " ('get', 209)]"
            ]
          },
          "metadata": {
            "tags": []
          },
          "execution_count": 47
        }
      ]
    },
    {
      "cell_type": "code",
      "metadata": {
        "id": "IVpDV-tXWTq2"
      },
      "source": [
        "frequency_data = pd.DataFrame.from_dict(all_word_freq, orient='index').reset_index()\n",
        "frequency_data.columns=[\"word\", \"frequency\"]"
      ],
      "execution_count": 48,
      "outputs": []
    },
    {
      "cell_type": "code",
      "metadata": {
        "colab": {
          "base_uri": "https://localhost:8080/",
          "height": 386
        },
        "id": "v13xFquwWToN",
        "outputId": "2c01faef-021b-4c1e-ebc5-698a60d3292b"
      },
      "source": [
        "fig, ax = plt.subplots(figsize=(18,6))\n",
        "sns.barplot(data=frequency_data.sort_values(by=\"frequency\", ascending=False).head(10), \n",
        "            y=\"word\", \n",
        "            x=\"frequency\", \n",
        "            color='#FF4500')\n",
        "plt.ylabel(\"Word\")\n",
        "plt.xlabel(\"Frequency\")\n",
        "plt.title(\"Top 10 Most Frequent Words in Dataset\")\n",
        "sns.despine();"
      ],
      "execution_count": 50,
      "outputs": [
        {
          "output_type": "display_data",
          "data": {
            "image/png": "[encoded data removed]",
            "text/plain": [
              "<Figure size 1296x432 with 1 Axes>"
            ]
          },
          "metadata": {
            "tags": [],
            "needs_background": "light"
          }
        }
      ]
    },
    {
      "cell_type": "markdown",
      "metadata": {
        "id": "pkLwk0zwAwHJ"
      },
      "source": [
        "Create a topic model using the LDA approach & extract 10 meaningful topics (15 points)"
      ]
    },
    {
      "cell_type": "code",
      "metadata": {
        "id": "ez6Z1H_YTaPV"
      },
      "source": [
        "dictionary = corpora.Dictionary(df_tor[0].tolist())"
      ],
      "execution_count": 51,
      "outputs": []
    },
    {
      "cell_type": "code",
      "metadata": {
        "id": "Vqlrwdg7TdHu"
      },
      "source": [
        "doc_term_matrix = [dictionary.doc2bow(doc) for doc in df_tor[0]]"
      ],
      "execution_count": 52,
      "outputs": []
    },
    {
      "cell_type": "code",
      "metadata": {
        "id": "HFueyoLhTgEh"
      },
      "source": [
        "lda = gensim.models.ldamodel.LdaModel"
      ],
      "execution_count": 53,
      "outputs": []
    },
    {
      "cell_type": "code",
      "metadata": {
        "id": "ea9NR8LkTpXi"
      },
      "source": [
        "lda_model = lda(doc_term_matrix, num_topics=10, id2word=dictionary, passes=5)"
      ],
      "execution_count": 59,
      "outputs": []
    },
    {
      "cell_type": "code",
      "metadata": {
        "colab": {
          "base_uri": "https://localhost:8080/"
        },
        "id": "eB8HbHpuTr32",
        "outputId": "4b758815-baca-477b-f509-7437700b1042"
      },
      "source": [
        "print(lda_model.print_topics())"
      ],
      "execution_count": 60,
      "outputs": [
        {
          "output_type": "stream",
          "text": [
            "[(0, '0.049*\"tornado\" + 0.042*\"car\" + 0.012*\"right\" + 0.011*\"go\" + 0.010*\"shelter\" + 0.007*\"st\" + 0.007*\"home\" + 0.006*\"louis\" + 0.006*\"still\" + 0.006*\"watch\"'), (1, '0.061*\"tornado\" + 0.056*\"ride\" + 0.019*\"car\" + 0.015*\"shelter\" + 0.012*\"go\" + 0.012*\"safe\" + 0.011*\"rt\" + 0.010*\"place\" + 0.010*\"warning\" + 0.010*\"like\"'), (2, '0.031*\"tornado\" + 0.014*\"damage\" + 0.009*\"would\" + 0.008*\"birmingham\" + 0.008*\"downtown\" + 0.007*\"back\" + 0.006*\"rt\" + 0.005*\"food\" + 0.005*\"resident\" + 0.005*\"really\"'), (3, '0.041*\"tornado\" + 0.015*\"shelter\" + 0.009*\"survive\" + 0.009*\"as\" + 0.008*\"tree\" + 0.006*\"two\" + 0.006*\"warning\" + 0.005*\"damn\" + 0.005*\"love\" + 0.005*\"find\"'), (4, '0.068*\"tornado\" + 0.036*\"car\" + 0.024*\"shelter\" + 0.022*\"warning\" + 0.009*\"get\" + 0.009*\"part\" + 0.009*\"seek\" + 0.008*\"nw\" + 0.008*\"food\" + 0.007*\"2\"'), (5, '0.049*\"tornado\" + 0.045*\"car\" + 0.013*\"take\" + 0.013*\"shelter\" + 0.007*\"side\" + 0.007*\"warning\" + 0.006*\"u\" + 0.006*\"i\\'m\" + 0.006*\"shit\" + 0.006*\"old\"'), (6, '0.049*\"tornado\" + 0.016*\"food\" + 0.012*\"shelter\" + 0.011*\"get\" + 0.009*\"warning\" + 0.009*\"victim\" + 0.008*\"go\" + 0.007*\"damaged\" + 0.007*\"storm\" + 0.006*\"watch\"'), (7, '0.085*\"tornado\" + 0.036*\"shelter\" + 0.015*\"take\" + 0.013*\"rt\" + 0.011*\"warning\" + 0.010*\"tuscaloosa\" + 0.009*\"near\" + 0.008*\"car\" + 0.008*\"seek\" + 0.007*\"ripping\"'), (8, '0.040*\"tornado\" + 0.019*\"shelter\" + 0.010*\"life\" + 0.007*\"safe\" + 0.007*\"park\" + 0.007*\"seek\" + 0.007*\"storm\" + 0.005*\"one\" + 0.005*\"warning\" + 0.005*\"lil\"'), (9, '0.079*\"car\" + 0.050*\"tornado\" + 0.012*\"rt\" + 0.010*\"video\" + 0.010*\"house\" + 0.009*\"hit\" + 0.008*\"u\" + 0.007*\"got\" + 0.007*\"near\" + 0.006*\"man\"')]\n"
          ],
          "name": "stdout"
        }
      ]
    }
  ]
}