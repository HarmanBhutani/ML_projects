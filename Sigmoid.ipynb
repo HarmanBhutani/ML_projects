{
  "nbformat": 4,
  "nbformat_minor": 0,
  "metadata": {
    "colab": {
      "name": "Sigmoid.ipynb",
      "provenance": [],
      "authorship_tag": "ABX9TyNSAwlp2evDm1d5BPmaM/sQ",
      "include_colab_link": true
    },
    "kernelspec": {
      "name": "python3",
      "display_name": "Python 3"
    }
  },
  "cells": [
    {
      "cell_type": "markdown",
      "metadata": {
        "id": "view-in-github",
        "colab_type": "text"
      },
      "source": [
        "<a href=\"https://colab.research.google.com/github/HarmanBhutani/ML_projects/blob/main/Sigmoid.ipynb\" target=\"_parent\"><img src=\"https://colab.research.google.com/assets/colab-badge.svg\" alt=\"Open In Colab\"/></a>"
      ]
    },
    {
      "cell_type": "code",
      "metadata": {
        "id": "_HaMCOtzHtMU"
      },
      "source": [
        "import numpy as np\n",
        "import pandas as pd\n",
        "import matplotlib.pyplot as plt"
      ],
      "execution_count": 1,
      "outputs": []
    },
    {
      "cell_type": "code",
      "metadata": {
        "id": "3NdOSZABIMQA"
      },
      "source": [
        "sigmoid = lambda z: 1/(1+np.exp(-z))\n",
        "sig_a = lambda z: (np.exp(z) - np.exp(-z))/(np.exp(z)+np.exp(-z))\n",
        "z = [x for x in range(-10,11)]\n",
        "fz = []\n",
        "sig = []\n",
        "for i in z:\n",
        "    fz.append(sig_a(i))\n",
        "    sig.append(sigmoid(i))"
      ],
      "execution_count": 2,
      "outputs": []
    },
    {
      "cell_type": "code",
      "metadata": {
        "colab": {
          "base_uri": "https://localhost:8080/",
          "height": 279
        },
        "id": "7rA6UrCnIMNs",
        "outputId": "73a329e7-6cf5-450b-8db6-bb6b0b08bd63"
      },
      "source": [
        "plt.plot(z, fz)\n",
        "plt.plot(z, sig)\n",
        "plt.xlabel('z')\n",
        "plt.ylabel('f(z)')\n",
        "plt.show()"
      ],
      "execution_count": 3,
      "outputs": [
        {
          "output_type": "display_data",
          "data": {
            "image/png": "[encoded data removed]",
            "text/plain": [
              "<Figure size 432x288 with 1 Axes>"
            ]
          },
          "metadata": {
            "tags": [],
            "needs_background": "light"
          }
        }
      ]
    },
    {
      "cell_type": "code",
      "metadata": {
        "id": "5_XjcvosIMLE"
      },
      "source": [
        ""
      ],
      "execution_count": null,
      "outputs": []
    },
    {
      "cell_type": "code",
      "metadata": {
        "id": "0U8WwU5QIMIi"
      },
      "source": [
        ""
      ],
      "execution_count": null,
      "outputs": []
    }
  ]
}