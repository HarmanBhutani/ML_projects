{
  "nbformat": 4,
  "nbformat_minor": 0,
  "metadata": {
    "colab": {
      "name": "Assignment_DataScience.ipynb",
      "provenance": [],
      "authorship_tag": "ABX9TyMUuoKxRq2tDwxE9+LdJuAR",
      "include_colab_link": true
    },
    "kernelspec": {
      "name": "python3",
      "display_name": "Python 3"
    },
    "accelerator": "GPU"
  },
  "cells": [
    {
      "cell_type": "markdown",
      "metadata": {
        "id": "view-in-github",
        "colab_type": "text"
      },
      "source": [
        "<a href=\"https://colab.research.google.com/github/HarmanBhutani/ML_projects/blob/main/Assignment_DataScience.ipynb\" target=\"_parent\"><img src=\"https://colab.research.google.com/assets/colab-badge.svg\" alt=\"Open In Colab\"/></a>"
      ]
    },
    {
      "cell_type": "code",
      "metadata": {
        "colab": {
          "base_uri": "https://localhost:8080/"
        },
        "id": "B84wo6lcl6Ma",
        "outputId": "fd835b14-8007-4f78-c0a3-96d0c8bbb6e9"
      },
      "source": [
        "pip install nltk"
      ],
      "execution_count": 1,
      "outputs": [
        {
          "output_type": "stream",
          "text": [
            "Requirement already satisfied: nltk in /usr/local/lib/python3.6/dist-packages (3.2.5)\n",
            "Requirement already satisfied: six in /usr/local/lib/python3.6/dist-packages (from nltk) (1.15.0)\n"
          ],
          "name": "stdout"
        }
      ]
    },
    {
      "cell_type": "code",
      "metadata": {
        "colab": {
          "base_uri": "https://localhost:8080/"
        },
        "id": "dm1yLeO-TwJq",
        "outputId": "60381deb-74bd-4b33-b3f4-7dc7a2a954cb"
      },
      "source": [
        "pip install contractions"
      ],
      "execution_count": 2,
      "outputs": [
        {
          "output_type": "stream",
          "text": [
            "Collecting contractions\n",
            "  Downloading https://files.pythonhosted.org/packages/4a/5f/91102df95715fdda07f56a7eba2baae983e2ae16a080eb52d79e08ec6259/contractions-0.0.45-py2.py3-none-any.whl\n",
            "Collecting textsearch\n",
            "  Downloading https://files.pythonhosted.org/packages/42/a8/03407021f9555043de5492a2bd7a35c56cc03c2510092b5ec018cae1bbf1/textsearch-0.0.17-py2.py3-none-any.whl\n",
            "Collecting pyahocorasick\n",
            "\u001b[?25l  Downloading https://files.pythonhosted.org/packages/4a/92/b3c70b8cf2b76f7e3e8b7243d6f06f7cb3bab6ada237b1bce57604c5c519/pyahocorasick-1.4.1.tar.gz (321kB)\n",
            "\u001b[K     |████████████████████████████████| 327kB 7.8MB/s \n",
            "\u001b[?25hCollecting Unidecode\n",
            "\u001b[?25l  Downloading https://files.pythonhosted.org/packages/74/65/91eab655041e9e92f948cb7302e54962035762ce7b518272ed9d6b269e93/Unidecode-1.1.2-py2.py3-none-any.whl (239kB)\n",
            "\u001b[K     |████████████████████████████████| 245kB 13.8MB/s \n",
            "\u001b[?25hBuilding wheels for collected packages: pyahocorasick\n",
            "  Building wheel for pyahocorasick (setup.py) ... \u001b[?25l\u001b[?25hdone\n",
            "  Created wheel for pyahocorasick: filename=pyahocorasick-1.4.1-cp36-cp36m-linux_x86_64.whl size=84339 sha256=9925b92a2b6f230b09f4b03e1adc999cd8d1b65c0369644fb5c7773adfa3ba6a\n",
            "  Stored in directory: /root/.cache/pip/wheels/e4/ab/f7/cb39270df8f6126f3dd4c33d302357167086db460968cfc80c\n",
            "Successfully built pyahocorasick\n",
            "Installing collected packages: pyahocorasick, Unidecode, textsearch, contractions\n",
            "Successfully installed Unidecode-1.1.2 contractions-0.0.45 pyahocorasick-1.4.1 textsearch-0.0.17\n"
          ],
          "name": "stdout"
        }
      ]
    },
    {
      "cell_type": "code",
      "metadata": {
        "colab": {
          "base_uri": "https://localhost:8080/"
        },
        "id": "fM03wXmIYq7r",
        "outputId": "ea224622-1e9a-406c-bb9a-332b7626e346"
      },
      "source": [
        "!pip install autocorrect"
      ],
      "execution_count": 3,
      "outputs": [
        {
          "output_type": "stream",
          "text": [
            "Collecting autocorrect\n",
            "\u001b[?25l  Downloading https://files.pythonhosted.org/packages/16/a8/1fc332535fc26db807fa48bdb54070355b83a36c797451c3d563bc190fa8/autocorrect-2.3.0.tar.gz (621kB)\n",
            "\r\u001b[K     |▌                               | 10kB 20.3MB/s eta 0:00:01\r\u001b[K     |█                               | 20kB 15.1MB/s eta 0:00:01\r\u001b[K     |█▋                              | 30kB 12.9MB/s eta 0:00:01\r\u001b[K     |██                              | 40kB 11.9MB/s eta 0:00:01\r\u001b[K     |██▋                             | 51kB 8.3MB/s eta 0:00:01\r\u001b[K     |███▏                            | 61kB 7.6MB/s eta 0:00:01\r\u001b[K     |███▊                            | 71kB 8.6MB/s eta 0:00:01\r\u001b[K     |████▏                           | 81kB 9.5MB/s eta 0:00:01\r\u001b[K     |████▊                           | 92kB 10.1MB/s eta 0:00:01\r\u001b[K     |█████▎                          | 102kB 10.1MB/s eta 0:00:01\r\u001b[K     |█████▉                          | 112kB 10.1MB/s eta 0:00:01\r\u001b[K     |██████▎                         | 122kB 10.1MB/s eta 0:00:01\r\u001b[K     |██████▉                         | 133kB 10.1MB/s eta 0:00:01\r\u001b[K     |███████▍                        | 143kB 10.1MB/s eta 0:00:01\r\u001b[K     |████████                        | 153kB 10.1MB/s eta 0:00:01\r\u001b[K     |████████▍                       | 163kB 10.1MB/s eta 0:00:01\r\u001b[K     |█████████                       | 174kB 10.1MB/s eta 0:00:01\r\u001b[K     |█████████▌                      | 184kB 10.1MB/s eta 0:00:01\r\u001b[K     |██████████                      | 194kB 10.1MB/s eta 0:00:01\r\u001b[K     |██████████▌                     | 204kB 10.1MB/s eta 0:00:01\r\u001b[K     |███████████                     | 215kB 10.1MB/s eta 0:00:01\r\u001b[K     |███████████▋                    | 225kB 10.1MB/s eta 0:00:01\r\u001b[K     |████████████▏                   | 235kB 10.1MB/s eta 0:00:01\r\u001b[K     |████████████▋                   | 245kB 10.1MB/s eta 0:00:01\r\u001b[K     |█████████████▏                  | 256kB 10.1MB/s eta 0:00:01\r\u001b[K     |█████████████▊                  | 266kB 10.1MB/s eta 0:00:01\r\u001b[K     |██████████████▎                 | 276kB 10.1MB/s eta 0:00:01\r\u001b[K     |██████████████▊                 | 286kB 10.1MB/s eta 0:00:01\r\u001b[K     |███████████████▎                | 296kB 10.1MB/s eta 0:00:01\r\u001b[K     |███████████████▉                | 307kB 10.1MB/s eta 0:00:01\r\u001b[K     |████████████████▍               | 317kB 10.1MB/s eta 0:00:01\r\u001b[K     |████████████████▉               | 327kB 10.1MB/s eta 0:00:01\r\u001b[K     |█████████████████▍              | 337kB 10.1MB/s eta 0:00:01\r\u001b[K     |██████████████████              | 348kB 10.1MB/s eta 0:00:01\r\u001b[K     |██████████████████▍             | 358kB 10.1MB/s eta 0:00:01\r\u001b[K     |███████████████████             | 368kB 10.1MB/s eta 0:00:01\r\u001b[K     |███████████████████▌            | 378kB 10.1MB/s eta 0:00:01\r\u001b[K     |████████████████████            | 389kB 10.1MB/s eta 0:00:01\r\u001b[K     |████████████████████▌           | 399kB 10.1MB/s eta 0:00:01\r\u001b[K     |█████████████████████           | 409kB 10.1MB/s eta 0:00:01\r\u001b[K     |█████████████████████▋          | 419kB 10.1MB/s eta 0:00:01\r\u001b[K     |██████████████████████▏         | 430kB 10.1MB/s eta 0:00:01\r\u001b[K     |██████████████████████▋         | 440kB 10.1MB/s eta 0:00:01\r\u001b[K     |███████████████████████▏        | 450kB 10.1MB/s eta 0:00:01\r\u001b[K     |███████████████████████▊        | 460kB 10.1MB/s eta 0:00:01\r\u001b[K     |████████████████████████▎       | 471kB 10.1MB/s eta 0:00:01\r\u001b[K     |████████████████████████▊       | 481kB 10.1MB/s eta 0:00:01\r\u001b[K     |█████████████████████████▎      | 491kB 10.1MB/s eta 0:00:01\r\u001b[K     |█████████████████████████▉      | 501kB 10.1MB/s eta 0:00:01\r\u001b[K     |██████████████████████████▍     | 512kB 10.1MB/s eta 0:00:01\r\u001b[K     |██████████████████████████▉     | 522kB 10.1MB/s eta 0:00:01\r\u001b[K     |███████████████████████████▍    | 532kB 10.1MB/s eta 0:00:01\r\u001b[K     |████████████████████████████    | 542kB 10.1MB/s eta 0:00:01\r\u001b[K     |████████████████████████████▌   | 552kB 10.1MB/s eta 0:00:01\r\u001b[K     |█████████████████████████████   | 563kB 10.1MB/s eta 0:00:01\r\u001b[K     |█████████████████████████████▌  | 573kB 10.1MB/s eta 0:00:01\r\u001b[K     |██████████████████████████████  | 583kB 10.1MB/s eta 0:00:01\r\u001b[K     |██████████████████████████████▋ | 593kB 10.1MB/s eta 0:00:01\r\u001b[K     |███████████████████████████████ | 604kB 10.1MB/s eta 0:00:01\r\u001b[K     |███████████████████████████████▋| 614kB 10.1MB/s eta 0:00:01\r\u001b[K     |████████████████████████████████| 624kB 10.1MB/s \n",
            "\u001b[?25hBuilding wheels for collected packages: autocorrect\n",
            "  Building wheel for autocorrect (setup.py) ... \u001b[?25l\u001b[?25hdone\n",
            "  Created wheel for autocorrect: filename=autocorrect-2.3.0-cp36-none-any.whl size=621588 sha256=3024c39823230df1c211027e5c9f8cd4a866c03ee7f1485687d8592cc07247e3\n",
            "  Stored in directory: /root/.cache/pip/wheels/cc/1c/30/6b0199afbd20eef5959f5eaa0ead86aeef84391740482b2279\n",
            "Successfully built autocorrect\n",
            "Installing collected packages: autocorrect\n",
            "Successfully installed autocorrect-2.3.0\n"
          ],
          "name": "stdout"
        }
      ]
    },
    {
      "cell_type": "code",
      "metadata": {
        "id": "bX7jYFGLnILI"
      },
      "source": [
        "import pandas as pd\n",
        "import numpy as np\n",
        "import csv\n",
        "from bs4 import BeautifulSoup\n",
        "import contractions\n",
        "from nltk.corpus import stopwords\n",
        "from autocorrect import Speller"
      ],
      "execution_count": 4,
      "outputs": []
    },
    {
      "cell_type": "markdown",
      "metadata": {
        "id": "GkmnMthkk85B"
      },
      "source": [
        "## Part 1"
      ]
    },
    {
      "cell_type": "markdown",
      "metadata": {
        "id": "Rrp3Vk2TytSC"
      },
      "source": [
        "Load the data"
      ]
    },
    {
      "cell_type": "code",
      "metadata": {
        "colab": {
          "base_uri": "https://localhost:8080/",
          "height": 348
        },
        "id": "yAmmrVzkyAMv",
        "outputId": "26d4de7d-6e0a-4614-e66f-d9ed8312a154"
      },
      "source": [
        "df = pd.read_csv('movie_review.tsv', header=0, delimiter=\"\\t\", quoting=csv.QUOTE_NONE)\n",
        "df.head(10)"
      ],
      "execution_count": 5,
      "outputs": [
        {
          "output_type": "execute_result",
          "data": {
            "text/html": [
              "<div>\n",
              "<style scoped>\n",
              "    .dataframe tbody tr th:only-of-type {\n",
              "        vertical-align: middle;\n",
              "    }\n",
              "\n",
              "    .dataframe tbody tr th {\n",
              "        vertical-align: top;\n",
              "    }\n",
              "\n",
              "    .dataframe thead th {\n",
              "        text-align: right;\n",
              "    }\n",
              "</style>\n",
              "<table border=\"1\" class=\"dataframe\">\n",
              "  <thead>\n",
              "    <tr style=\"text-align: right;\">\n",
              "      <th></th>\n",
              "      <th>id</th>\n",
              "      <th>review</th>\n",
              "    </tr>\n",
              "  </thead>\n",
              "  <tbody>\n",
              "    <tr>\n",
              "      <th>0</th>\n",
              "      <td>\"9999_0\"</td>\n",
              "      <td>\"Watching Time Chasers, it obvious that it was...</td>\n",
              "    </tr>\n",
              "    <tr>\n",
              "      <th>1</th>\n",
              "      <td>\"45057_0\"</td>\n",
              "      <td>\"I saw this film about 20 years ago and rememb...</td>\n",
              "    </tr>\n",
              "    <tr>\n",
              "      <th>2</th>\n",
              "      <td>\"15561_0\"</td>\n",
              "      <td>\"Minor Spoilers&lt;br /&gt;&lt;br /&gt;In New York, Joan B...</td>\n",
              "    </tr>\n",
              "    <tr>\n",
              "      <th>3</th>\n",
              "      <td>\"7161_0\"</td>\n",
              "      <td>\"I went to see this film with a great deal of ...</td>\n",
              "    </tr>\n",
              "    <tr>\n",
              "      <th>4</th>\n",
              "      <td>\"43971_0\"</td>\n",
              "      <td>\"Yes, I agree with everyone on this site this ...</td>\n",
              "    </tr>\n",
              "    <tr>\n",
              "      <th>5</th>\n",
              "      <td>\"36495_0\"</td>\n",
              "      <td>\"Jennifer Ehle was sparkling in \\\"Pride and Pr...</td>\n",
              "    </tr>\n",
              "    <tr>\n",
              "      <th>6</th>\n",
              "      <td>\"49472_0\"</td>\n",
              "      <td>\"Amy Poehler is a terrific comedian on Saturda...</td>\n",
              "    </tr>\n",
              "    <tr>\n",
              "      <th>7</th>\n",
              "      <td>\"36693_0\"</td>\n",
              "      <td>\"A plane carrying employees of a large biotech...</td>\n",
              "    </tr>\n",
              "    <tr>\n",
              "      <th>8</th>\n",
              "      <td>\"316_0\"</td>\n",
              "      <td>\"A well made, gritty science fiction movie, it...</td>\n",
              "    </tr>\n",
              "    <tr>\n",
              "      <th>9</th>\n",
              "      <td>\"32454_0\"</td>\n",
              "      <td>\"Incredibly dumb and utterly predictable story...</td>\n",
              "    </tr>\n",
              "  </tbody>\n",
              "</table>\n",
              "</div>"
            ],
            "text/plain": [
              "          id                                             review\n",
              "0   \"9999_0\"  \"Watching Time Chasers, it obvious that it was...\n",
              "1  \"45057_0\"  \"I saw this film about 20 years ago and rememb...\n",
              "2  \"15561_0\"  \"Minor Spoilers<br /><br />In New York, Joan B...\n",
              "3   \"7161_0\"  \"I went to see this film with a great deal of ...\n",
              "4  \"43971_0\"  \"Yes, I agree with everyone on this site this ...\n",
              "5  \"36495_0\"  \"Jennifer Ehle was sparkling in \\\"Pride and Pr...\n",
              "6  \"49472_0\"  \"Amy Poehler is a terrific comedian on Saturda...\n",
              "7  \"36693_0\"  \"A plane carrying employees of a large biotech...\n",
              "8    \"316_0\"  \"A well made, gritty science fiction movie, it...\n",
              "9  \"32454_0\"  \"Incredibly dumb and utterly predictable story..."
            ]
          },
          "metadata": {
            "tags": []
          },
          "execution_count": 5
        }
      ]
    },
    {
      "cell_type": "code",
      "metadata": {
        "id": "G8xkS8M2yovk"
      },
      "source": [
        ""
      ],
      "execution_count": 5,
      "outputs": []
    },
    {
      "cell_type": "code",
      "metadata": {
        "id": "Aa7IfyWdmFxF"
      },
      "source": [
        ""
      ],
      "execution_count": 5,
      "outputs": []
    },
    {
      "cell_type": "code",
      "metadata": {
        "id": "KUVp7h0DmFuT"
      },
      "source": [
        "a = df.iloc[[4]]['review']"
      ],
      "execution_count": 6,
      "outputs": []
    },
    {
      "cell_type": "code",
      "metadata": {
        "colab": {
          "base_uri": "https://localhost:8080/"
        },
        "id": "WbhLGA__oONY",
        "outputId": "a3e50196-6c66-4111-810d-80fbd0844689"
      },
      "source": [
        "a"
      ],
      "execution_count": 7,
      "outputs": [
        {
          "output_type": "execute_result",
          "data": {
            "text/plain": [
              "4    \"Yes, I agree with everyone on this site this ...\n",
              "Name: review, dtype: object"
            ]
          },
          "metadata": {
            "tags": []
          },
          "execution_count": 7
        }
      ]
    },
    {
      "cell_type": "code",
      "metadata": {
        "id": "W8L7UAXip7Fw"
      },
      "source": [
        "fields = ['review']"
      ],
      "execution_count": 8,
      "outputs": []
    },
    {
      "cell_type": "code",
      "metadata": {
        "colab": {
          "base_uri": "https://localhost:8080/",
          "height": 348
        },
        "id": "nToDVEcGojuV",
        "outputId": "bbfe3a46-00bb-45eb-8569-2fed6e93207e"
      },
      "source": [
        "dataframe = pd.read_csv('movie_review.tsv', header=0, delimiter=\"\\t\", usecols=fields , quoting=csv.QUOTE_NONE)\n",
        "dataframe.head(10)"
      ],
      "execution_count": 85,
      "outputs": [
        {
          "output_type": "execute_result",
          "data": {
            "text/html": [
              "<div>\n",
              "<style scoped>\n",
              "    .dataframe tbody tr th:only-of-type {\n",
              "        vertical-align: middle;\n",
              "    }\n",
              "\n",
              "    .dataframe tbody tr th {\n",
              "        vertical-align: top;\n",
              "    }\n",
              "\n",
              "    .dataframe thead th {\n",
              "        text-align: right;\n",
              "    }\n",
              "</style>\n",
              "<table border=\"1\" class=\"dataframe\">\n",
              "  <thead>\n",
              "    <tr style=\"text-align: right;\">\n",
              "      <th></th>\n",
              "      <th>review</th>\n",
              "    </tr>\n",
              "  </thead>\n",
              "  <tbody>\n",
              "    <tr>\n",
              "      <th>0</th>\n",
              "      <td>\"Watching Time Chasers, it obvious that it was...</td>\n",
              "    </tr>\n",
              "    <tr>\n",
              "      <th>1</th>\n",
              "      <td>\"I saw this film about 20 years ago and rememb...</td>\n",
              "    </tr>\n",
              "    <tr>\n",
              "      <th>2</th>\n",
              "      <td>\"Minor Spoilers&lt;br /&gt;&lt;br /&gt;In New York, Joan B...</td>\n",
              "    </tr>\n",
              "    <tr>\n",
              "      <th>3</th>\n",
              "      <td>\"I went to see this film with a great deal of ...</td>\n",
              "    </tr>\n",
              "    <tr>\n",
              "      <th>4</th>\n",
              "      <td>\"Yes, I agree with everyone on this site this ...</td>\n",
              "    </tr>\n",
              "    <tr>\n",
              "      <th>5</th>\n",
              "      <td>\"Jennifer Ehle was sparkling in \\\"Pride and Pr...</td>\n",
              "    </tr>\n",
              "    <tr>\n",
              "      <th>6</th>\n",
              "      <td>\"Amy Poehler is a terrific comedian on Saturda...</td>\n",
              "    </tr>\n",
              "    <tr>\n",
              "      <th>7</th>\n",
              "      <td>\"A plane carrying employees of a large biotech...</td>\n",
              "    </tr>\n",
              "    <tr>\n",
              "      <th>8</th>\n",
              "      <td>\"A well made, gritty science fiction movie, it...</td>\n",
              "    </tr>\n",
              "    <tr>\n",
              "      <th>9</th>\n",
              "      <td>\"Incredibly dumb and utterly predictable story...</td>\n",
              "    </tr>\n",
              "  </tbody>\n",
              "</table>\n",
              "</div>"
            ],
            "text/plain": [
              "                                              review\n",
              "0  \"Watching Time Chasers, it obvious that it was...\n",
              "1  \"I saw this film about 20 years ago and rememb...\n",
              "2  \"Minor Spoilers<br /><br />In New York, Joan B...\n",
              "3  \"I went to see this film with a great deal of ...\n",
              "4  \"Yes, I agree with everyone on this site this ...\n",
              "5  \"Jennifer Ehle was sparkling in \\\"Pride and Pr...\n",
              "6  \"Amy Poehler is a terrific comedian on Saturda...\n",
              "7  \"A plane carrying employees of a large biotech...\n",
              "8  \"A well made, gritty science fiction movie, it...\n",
              "9  \"Incredibly dumb and utterly predictable story..."
            ]
          },
          "metadata": {
            "tags": []
          },
          "execution_count": 85
        }
      ]
    },
    {
      "cell_type": "code",
      "metadata": {
        "colab": {
          "base_uri": "https://localhost:8080/"
        },
        "id": "ST5YZczamFmH",
        "outputId": "40e53657-a025-4b16-a6e2-f4a9156b39f8"
      },
      "source": [
        "len(dataframe)"
      ],
      "execution_count": 86,
      "outputs": [
        {
          "output_type": "execute_result",
          "data": {
            "text/plain": [
              "50000"
            ]
          },
          "metadata": {
            "tags": []
          },
          "execution_count": 86
        }
      ]
    },
    {
      "cell_type": "markdown",
      "metadata": {
        "id": "-n3vUHA5O7PU"
      },
      "source": [
        "Removing unnecessary tag elements"
      ]
    },
    {
      "cell_type": "code",
      "metadata": {
        "colab": {
          "base_uri": "https://localhost:8080/",
          "height": 105
        },
        "id": "x5DZr9g6OE6-",
        "outputId": "fb5d1034-f7da-4e54-8a11-6a107c42f333"
      },
      "source": [
        "dataframe.loc[2,'review']"
      ],
      "execution_count": 87,
      "outputs": [
        {
          "output_type": "execute_result",
          "data": {
            "application/vnd.google.colaboratory.intrinsic+json": {
              "type": "string"
            },
            "text/plain": [
              "'\"Minor Spoilers<br /><br />In New York, Joan Barnard (Elvire Audrey) is informed that her husband, the archeologist Arthur Barnard (John Saxon), was mysteriously murdered in Italy while searching an Etruscan tomb. Joan decides to travel to Italy, in the company of her colleague, who offers his support. Once in Italy, she starts having visions relative to an ancient people and maggots, many maggots. After shootings and weird events, Joan realizes that her father is an international drug dealer, there are drugs hidden in the tomb and her colleague is a detective of the narcotic department. The story ends back in New York, when Joan and her colleague decide to get married with each other, in a very romantic end. Yesterday I had the displeasure of wasting my time watching this crap. The story is so absurd, mixing thriller, crime, supernatural and horror (and even a romantic end) in a non-sense way. The acting is the worst possible, highlighting the horrible performance of the beautiful Elvire Audrey. John Saxon just gives his name to the credits and works less than five minutes, when his character is killed. The special effects are limited to maggots everywhere. The direction is ridiculous. I lost a couple of hours of my life watching \\'Assassinio al Cimitero Etrusco\\'. If you have the desire or curiosity of seeing this trash, choose another movie, go to a pizzeria, watch TV, go sleep, navigate in Internet, go to the gym, but do not waste your time like I did. My vote is two.<br /><br />Title (Brazil): \\'O Mistério Etrusco\\' (\\'The Etruscan Mystery\\')\"'"
            ]
          },
          "metadata": {
            "tags": []
          },
          "execution_count": 87
        }
      ]
    },
    {
      "cell_type": "code",
      "metadata": {
        "id": "f9UsyqRGN6xe"
      },
      "source": [
        "import re\n",
        "def Clean_html_text(raw_html):\n",
        "  cleanr = re.compile('<.*?>')\n",
        "  html_free_review = re.sub(cleanr, ' ', raw_html)\n",
        "  return html_free_review"
      ],
      "execution_count": 89,
      "outputs": []
    },
    {
      "cell_type": "code",
      "metadata": {
        "id": "7OitD91oOC-0"
      },
      "source": [
        "L  = []\n",
        "for i in range (0,len(dataframe)):\n",
        "  b = dataframe.loc[i,'review']\n",
        "  soup = Clean_html_text(b)\n",
        "  L.append(soup)"
      ],
      "execution_count": 90,
      "outputs": []
    },
    {
      "cell_type": "code",
      "metadata": {
        "id": "CvE5Y7klmFg_"
      },
      "source": [
        "# L  = []\n",
        "# for i in range (0,len(dataframe)):\n",
        "#   b = dataframe.loc[i,'review']\n",
        "#   soup = BeautifulSoup(b)\n",
        "#   L.append(soup.get_text())"
      ],
      "execution_count": 91,
      "outputs": []
    },
    {
      "cell_type": "code",
      "metadata": {
        "id": "qn2bKaaSOBIU"
      },
      "source": [
        "data_f = pd.DataFrame(L, columns=['review'])"
      ],
      "execution_count": 92,
      "outputs": []
    },
    {
      "cell_type": "code",
      "metadata": {
        "colab": {
          "base_uri": "https://localhost:8080/"
        },
        "id": "zxPG_Gm7OVNE",
        "outputId": "b982d934-6075-43fd-c8d1-50380f38834d"
      },
      "source": [
        "len(data_f)"
      ],
      "execution_count": 93,
      "outputs": [
        {
          "output_type": "execute_result",
          "data": {
            "text/plain": [
              "50000"
            ]
          },
          "metadata": {
            "tags": []
          },
          "execution_count": 93
        }
      ]
    },
    {
      "cell_type": "code",
      "metadata": {
        "colab": {
          "base_uri": "https://localhost:8080/",
          "height": 348
        },
        "id": "t2Oqe72JOXeF",
        "outputId": "2bc49c83-049e-4ad6-ee79-777c3ec1ca4a"
      },
      "source": [
        "data_f.head(10)"
      ],
      "execution_count": 94,
      "outputs": [
        {
          "output_type": "execute_result",
          "data": {
            "text/html": [
              "<div>\n",
              "<style scoped>\n",
              "    .dataframe tbody tr th:only-of-type {\n",
              "        vertical-align: middle;\n",
              "    }\n",
              "\n",
              "    .dataframe tbody tr th {\n",
              "        vertical-align: top;\n",
              "    }\n",
              "\n",
              "    .dataframe thead th {\n",
              "        text-align: right;\n",
              "    }\n",
              "</style>\n",
              "<table border=\"1\" class=\"dataframe\">\n",
              "  <thead>\n",
              "    <tr style=\"text-align: right;\">\n",
              "      <th></th>\n",
              "      <th>review</th>\n",
              "    </tr>\n",
              "  </thead>\n",
              "  <tbody>\n",
              "    <tr>\n",
              "      <th>0</th>\n",
              "      <td>\"Watching Time Chasers, it obvious that it was...</td>\n",
              "    </tr>\n",
              "    <tr>\n",
              "      <th>1</th>\n",
              "      <td>\"I saw this film about 20 years ago and rememb...</td>\n",
              "    </tr>\n",
              "    <tr>\n",
              "      <th>2</th>\n",
              "      <td>\"Minor Spoilers  In New York, Joan Barnard (El...</td>\n",
              "    </tr>\n",
              "    <tr>\n",
              "      <th>3</th>\n",
              "      <td>\"I went to see this film with a great deal of ...</td>\n",
              "    </tr>\n",
              "    <tr>\n",
              "      <th>4</th>\n",
              "      <td>\"Yes, I agree with everyone on this site this ...</td>\n",
              "    </tr>\n",
              "    <tr>\n",
              "      <th>5</th>\n",
              "      <td>\"Jennifer Ehle was sparkling in \\\"Pride and Pr...</td>\n",
              "    </tr>\n",
              "    <tr>\n",
              "      <th>6</th>\n",
              "      <td>\"Amy Poehler is a terrific comedian on Saturda...</td>\n",
              "    </tr>\n",
              "    <tr>\n",
              "      <th>7</th>\n",
              "      <td>\"A plane carrying employees of a large biotech...</td>\n",
              "    </tr>\n",
              "    <tr>\n",
              "      <th>8</th>\n",
              "      <td>\"A well made, gritty science fiction movie, it...</td>\n",
              "    </tr>\n",
              "    <tr>\n",
              "      <th>9</th>\n",
              "      <td>\"Incredibly dumb and utterly predictable story...</td>\n",
              "    </tr>\n",
              "  </tbody>\n",
              "</table>\n",
              "</div>"
            ],
            "text/plain": [
              "                                              review\n",
              "0  \"Watching Time Chasers, it obvious that it was...\n",
              "1  \"I saw this film about 20 years ago and rememb...\n",
              "2  \"Minor Spoilers  In New York, Joan Barnard (El...\n",
              "3  \"I went to see this film with a great deal of ...\n",
              "4  \"Yes, I agree with everyone on this site this ...\n",
              "5  \"Jennifer Ehle was sparkling in \\\"Pride and Pr...\n",
              "6  \"Amy Poehler is a terrific comedian on Saturda...\n",
              "7  \"A plane carrying employees of a large biotech...\n",
              "8  \"A well made, gritty science fiction movie, it...\n",
              "9  \"Incredibly dumb and utterly predictable story..."
            ]
          },
          "metadata": {
            "tags": []
          },
          "execution_count": 94
        }
      ]
    },
    {
      "cell_type": "markdown",
      "metadata": {
        "id": "zJxWRVKNPFis"
      },
      "source": [
        "Removing Punctuations"
      ]
    },
    {
      "cell_type": "code",
      "metadata": {
        "colab": {
          "base_uri": "https://localhost:8080/"
        },
        "id": "zw-jrRFfQGwG",
        "outputId": "851ad673-5f7c-477e-b018-f20190c67e11"
      },
      "source": [
        "data_f['review']"
      ],
      "execution_count": 98,
      "outputs": [
        {
          "output_type": "execute_result",
          "data": {
            "text/plain": [
              "0         Watching Time Chasers  it obvious that it was...\n",
              "1         I saw this film about 20 years ago and rememb...\n",
              "2         Minor Spoilers  In New York  Joan Barnard  El...\n",
              "3         I went to see this film with a great deal of ...\n",
              "4         Yes  I agree with everyone on this site this ...\n",
              "                               ...                        \n",
              "49995     The original Man Eater by Joe D Amato is some...\n",
              "49996     When Home Box Office was in it s early days m...\n",
              "49997     Griffin Dunne was born into a cultural family...\n",
              "49998     Not a bad story  but the low budget rears its...\n",
              "49999     This not very good mummy alien flick does fea...\n",
              "Name: review, Length: 50000, dtype: object"
            ]
          },
          "metadata": {
            "tags": []
          },
          "execution_count": 98
        }
      ]
    },
    {
      "cell_type": "code",
      "metadata": {
        "colab": {
          "base_uri": "https://localhost:8080/"
        },
        "id": "50iuyeUK-EkF",
        "outputId": "84509ab6-a49d-47dd-e93e-40d42c65439c"
      },
      "source": [
        "data_f['review'] = data_f['review'].str.replace('[^\\w\\s]',' ')\n",
        "data_f['review']"
      ],
      "execution_count": 99,
      "outputs": [
        {
          "output_type": "execute_result",
          "data": {
            "text/plain": [
              "0         Watching Time Chasers  it obvious that it was...\n",
              "1         I saw this film about 20 years ago and rememb...\n",
              "2         Minor Spoilers  In New York  Joan Barnard  El...\n",
              "3         I went to see this film with a great deal of ...\n",
              "4         Yes  I agree with everyone on this site this ...\n",
              "                               ...                        \n",
              "49995     The original Man Eater by Joe D Amato is some...\n",
              "49996     When Home Box Office was in it s early days m...\n",
              "49997     Griffin Dunne was born into a cultural family...\n",
              "49998     Not a bad story  but the low budget rears its...\n",
              "49999     This not very good mummy alien flick does fea...\n",
              "Name: review, Length: 50000, dtype: object"
            ]
          },
          "metadata": {
            "tags": []
          },
          "execution_count": 99
        }
      ]
    },
    {
      "cell_type": "code",
      "metadata": {
        "colab": {
          "base_uri": "https://localhost:8080/",
          "height": 105
        },
        "id": "ekzi7wCQQnVh",
        "outputId": "e13f6d2b-3d2d-4715-c4c8-778d1e09095b"
      },
      "source": [
        "data_f['review'][7]"
      ],
      "execution_count": 100,
      "outputs": [
        {
          "output_type": "execute_result",
          "data": {
            "application/vnd.google.colaboratory.intrinsic+json": {
              "type": "string"
            },
            "text/plain": [
              "' A plane carrying employees of a large biotech firm  including the CEO s daughter  goes down in thick forest in the Pacific Northwest  When the search and rescue mission is called off  the CEO  Harlan Knowles  Lance Henriksen   puts together a small ragtag group to execute their own search and rescue mission  But just what is Knowles searching for and trying to rescue  and just what is following and watching them in the woods    Oy  what a mess this film was  It was a shame  because for one  it stars Lance Henriksen  who is one of my favorite modern genre actors  and two  it could have easily been a decent film  It suffers from two major flaws  and they re probably both writer director Jonas Quastel s fault  this film  which I ll be calling by its aka of Sasquatch  has just about the worst editing I ve ever seen next to Alone in the Dark  2005   and Quastel s constant advice for the cast appears to have been    Okay  let s try that again  but this time I want everyone to talk on top of each other  improvise non sequiturs and generally try to be as annoying as possible     The potential was there  Despite the rip off aspects  any material related to the plane crash was obviously trying to crib The Blair Witch Project  1999  and any material related to the titular monster was cribbing Predator  1987    Ed Wood like exposition and ridiculous dialogue  the plot had promise and potential for subtler and far less saccharine subtexts  The monster costume  once we actually get to see it  was more than sufficient for my tastes  The mixture of character types trudging through the woods could have been great if Quastel and fellow writer Chris Lanning would have turned down the stereotype notch from 11 to at least 5 and spent more time exploring their relationships  The monster s   lair   had some nice production design  specifically the corpse decorations ala a more primitive Jeepers Creepers  2001   If it had been edited well  there were some scenes with decent dialogue that could have easily been effective   But the most frightening thing about Sasquatch is the number of missteps made  For some reason  Quastel thinks it s a good idea to chop up dialogue scenes that occur within minutes of each other in real time so that instead we see a few lines of scene A  then a few lines of scene B  then back to A  back to B  and so on   For some reason  he thinks it s a good idea to use frequently use black screens in between snippets of dialogue  whether we need the idea of an unspecified amount of time passing between irrelevant comments or whether the irrelevant comments seem to be occurring one after the other in time anyway   For some reason  he doesn t care whether scenes were shot during the morning  afternoon  middle of the night  etc  He just cuts to them at random  For that matter  the scenes we re shown appear to be selected at random  Important events either never or barely appear  and we re stuck with far too many pointless scenes   For some reason  he left a scene about cave art in the film when it either needs more exposition to justify getting there  or it needs to just be cut out  because it s not that important  the monster s intelligence and   humanity   could have easily been shown in another way    For some reason  there is a whole character  Mary Mancini  left in the script even though she s superfluous   For some reason we suddenly go to a extremely soft core porno scene  even though the motif is never repeated again   For some reason  characters keep calling Harlan Knowles   Mr  H    like they re stereotypes of Asian domestics   For some reason  Quastel insists on using the   Blurry Cam   and   Distorto Cam   for the monster attack scenes  even though the costume doesn t look that bad  and it would have been much more effective to put in some fog  a subtle filter  or anything else other than bad cinematography   I could go on  but you get the idea   I really wanted to like this film better than I did I m a Henriksen fan  I m intrigued by the subject  I loved the setting  I love hiking and this is basically a hiking film on one level  but I just couldn t  Every time I thought it was   going to be better from this point until the end    Quastel made some other awful move  In the end  my score was a 3 out of 10  '"
            ]
          },
          "metadata": {
            "tags": []
          },
          "execution_count": 100
        }
      ]
    },
    {
      "cell_type": "code",
      "metadata": {
        "id": "gs7ZIhP7SzDo"
      },
      "source": [
        ""
      ],
      "execution_count": 100,
      "outputs": []
    },
    {
      "cell_type": "markdown",
      "metadata": {
        "id": "58njWVTTMe0o"
      },
      "source": [
        "Contractions"
      ]
    },
    {
      "cell_type": "code",
      "metadata": {
        "id": "N104riV-SzAS"
      },
      "source": [
        "import contractions\n"
      ],
      "execution_count": 101,
      "outputs": []
    },
    {
      "cell_type": "code",
      "metadata": {
        "colab": {
          "base_uri": "https://localhost:8080/"
        },
        "id": "dT_eloUpT76n",
        "outputId": "d9641215-b2f4-4a49-fe00-c6da706dd9cb"
      },
      "source": [
        "len(data_f)"
      ],
      "execution_count": 107,
      "outputs": [
        {
          "output_type": "execute_result",
          "data": {
            "text/plain": [
              "50000"
            ]
          },
          "metadata": {
            "tags": []
          },
          "execution_count": 107
        }
      ]
    },
    {
      "cell_type": "code",
      "metadata": {
        "id": "nWlFzdpVTiDQ"
      },
      "source": [
        "for i in range (0,len(data_f)):\n",
        "  data_f['review'][i] = contractions.fix(data_f['review'][i])"
      ],
      "execution_count": 108,
      "outputs": []
    },
    {
      "cell_type": "markdown",
      "metadata": {
        "id": "9Ce4Wr-KX_DE"
      },
      "source": [
        "Converting text data to lowercase"
      ]
    },
    {
      "cell_type": "code",
      "metadata": {
        "colab": {
          "base_uri": "https://localhost:8080/"
        },
        "id": "IYFSn3spX2m_",
        "outputId": "860663a2-d944-4d2a-9296-fee293bf6070"
      },
      "source": [
        "data_f['review'] = data_f['review'].apply(lambda x: \" \".join(x.lower() for x in x.split()))\n",
        "data_f['review']"
      ],
      "execution_count": 109,
      "outputs": [
        {
          "output_type": "execute_result",
          "data": {
            "text/plain": [
              "0        watching time chasers it obvious that it was m...\n",
              "1        i saw this film about 20 years ago and remembe...\n",
              "2        minor spoilers in new york joan barnard elvire...\n",
              "3        i went to see this film with a great deal of e...\n",
              "4        yes i agree with everyone on this site this mo...\n",
              "                               ...                        \n",
              "49995    the original man eater by joe d amato is somew...\n",
              "49996    when home box office was in it s early days mo...\n",
              "49997    griffin dunne was born into a cultural family ...\n",
              "49998    not a bad story but the low budget rears its u...\n",
              "49999    this not very good mummy alien flick does feat...\n",
              "Name: review, Length: 50000, dtype: object"
            ]
          },
          "metadata": {
            "tags": []
          },
          "execution_count": 109
        }
      ]
    },
    {
      "cell_type": "markdown",
      "metadata": {
        "id": "d84nr8mkY0v6"
      },
      "source": [
        "Adding Spelling Corrector"
      ]
    },
    {
      "cell_type": "code",
      "metadata": {
        "id": "Z7TQjR4VYKZf"
      },
      "source": [
        "my_speller = Speller(lang='en')"
      ],
      "execution_count": 38,
      "outputs": []
    },
    {
      "cell_type": "code",
      "metadata": {
        "id": "-xnN91y2Nbwa"
      },
      "source": [
        "for i in range (0,len(data_f)):\n",
        "  my_speller(data_f['reviews'][i])\n",
        "  print(i)"
      ],
      "execution_count": null,
      "outputs": []
    },
    {
      "cell_type": "markdown",
      "metadata": {
        "id": "N7KquhCsd0Kq"
      },
      "source": [
        "Splitting the sentences into tokens "
      ]
    },
    {
      "cell_type": "code",
      "metadata": {
        "colab": {
          "base_uri": "https://localhost:8080/"
        },
        "id": "fkj71DJocDzd",
        "outputId": "9a58a0c4-1f1f-47df-c7c7-96bd3aa0dcd0"
      },
      "source": [
        "nltk.download()"
      ],
      "execution_count": 82,
      "outputs": [
        {
          "output_type": "stream",
          "text": [
            "NLTK Downloader\n",
            "---------------------------------------------------------------------------\n",
            "    d) Download   l) List    u) Update   c) Config   h) Help   q) Quit\n",
            "---------------------------------------------------------------------------\n",
            "Downloader> d\n",
            "\n",
            "Download which package (l=list; x=cancel)?\n",
            "  Identifier> punkt\n",
            "    Downloading package punkt to /root/nltk_data...\n",
            "      Unzipping tokenizers/punkt.zip.\n",
            "\n",
            "---------------------------------------------------------------------------\n",
            "    d) Download   l) List    u) Update   c) Config   h) Help   q) Quit\n",
            "---------------------------------------------------------------------------\n",
            "Downloader> q\n"
          ],
          "name": "stdout"
        },
        {
          "output_type": "execute_result",
          "data": {
            "text/plain": [
              "True"
            ]
          },
          "metadata": {
            "tags": []
          },
          "execution_count": 82
        }
      ]
    },
    {
      "cell_type": "code",
      "metadata": {
        "id": "qqExKXkNYo-N"
      },
      "source": [
        "word_tokens = data_f['review'][3]\n",
        "har = nltk.word_tokenize(word_tokens)"
      ],
      "execution_count": 122,
      "outputs": []
    },
    {
      "cell_type": "code",
      "metadata": {
        "colab": {
          "base_uri": "https://localhost:8080/",
          "height": 105
        },
        "id": "dqAE56dBVipV",
        "outputId": "a59f20d3-e031-43aa-fb98-94b25279bb4f"
      },
      "source": [
        "data_f['review'][3]"
      ],
      "execution_count": 124,
      "outputs": [
        {
          "output_type": "execute_result",
          "data": {
            "application/vnd.google.colaboratory.intrinsic+json": {
              "type": "string"
            },
            "text/plain": [
              "'i went to see this film with a great deal of excitement as i was at school with the director he was even a good friend of mine for a while but sorry mate this film stinks i can only talk about what was wrong with the first half because that s when i walked out and went to the pub for a much needed drink 1 someone s standing on a balcony about to jump and so you send a helicopter to shine a searchlight on them i don t think so nothing would make them more likely to jump 2 local radio doesn t send reporters to cover people about to attempt suicide again for fear of pressuring them into jumping or for fear of encouraging copy cat instances 3 whatever the circumstances radio reporters don t do live broadcasts from the 10th floor of a tower block radio cars don t carry leads long enough to connect the microphone and headphones to the transmitter 4 the stuck in the lift scene was utterly derivative 5 the acting and direction was almost non existent i could go on but i won t'"
            ]
          },
          "metadata": {
            "tags": []
          },
          "execution_count": 124
        }
      ]
    },
    {
      "cell_type": "code",
      "metadata": {
        "colab": {
          "base_uri": "https://localhost:8080/"
        },
        "id": "m5SVEKbwTrE0",
        "outputId": "52474664-b1d6-4514-8b09-f0f45f389e37"
      },
      "source": [
        "har"
      ],
      "execution_count": 123,
      "outputs": [
        {
          "output_type": "execute_result",
          "data": {
            "text/plain": [
              "['i',\n",
              " 'went',\n",
              " 'to',\n",
              " 'see',\n",
              " 'this',\n",
              " 'film',\n",
              " 'with',\n",
              " 'a',\n",
              " 'great',\n",
              " 'deal',\n",
              " 'of',\n",
              " 'excitement',\n",
              " 'as',\n",
              " 'i',\n",
              " 'was',\n",
              " 'at',\n",
              " 'school',\n",
              " 'with',\n",
              " 'the',\n",
              " 'director',\n",
              " 'he',\n",
              " 'was',\n",
              " 'even',\n",
              " 'a',\n",
              " 'good',\n",
              " 'friend',\n",
              " 'of',\n",
              " 'mine',\n",
              " 'for',\n",
              " 'a',\n",
              " 'while',\n",
              " 'but',\n",
              " 'sorry',\n",
              " 'mate',\n",
              " 'this',\n",
              " 'film',\n",
              " 'stinks',\n",
              " 'i',\n",
              " 'can',\n",
              " 'only',\n",
              " 'talk',\n",
              " 'about',\n",
              " 'what',\n",
              " 'was',\n",
              " 'wrong',\n",
              " 'with',\n",
              " 'the',\n",
              " 'first',\n",
              " 'half',\n",
              " 'because',\n",
              " 'that',\n",
              " 's',\n",
              " 'when',\n",
              " 'i',\n",
              " 'walked',\n",
              " 'out',\n",
              " 'and',\n",
              " 'went',\n",
              " 'to',\n",
              " 'the',\n",
              " 'pub',\n",
              " 'for',\n",
              " 'a',\n",
              " 'much',\n",
              " 'needed',\n",
              " 'drink',\n",
              " '1',\n",
              " 'someone',\n",
              " 's',\n",
              " 'standing',\n",
              " 'on',\n",
              " 'a',\n",
              " 'balcony',\n",
              " 'about',\n",
              " 'to',\n",
              " 'jump',\n",
              " 'and',\n",
              " 'so',\n",
              " 'you',\n",
              " 'send',\n",
              " 'a',\n",
              " 'helicopter',\n",
              " 'to',\n",
              " 'shine',\n",
              " 'a',\n",
              " 'searchlight',\n",
              " 'on',\n",
              " 'them',\n",
              " 'i',\n",
              " 'don',\n",
              " 't',\n",
              " 'think',\n",
              " 'so',\n",
              " 'nothing',\n",
              " 'would',\n",
              " 'make',\n",
              " 'them',\n",
              " 'more',\n",
              " 'likely',\n",
              " 'to',\n",
              " 'jump',\n",
              " '2',\n",
              " 'local',\n",
              " 'radio',\n",
              " 'doesn',\n",
              " 't',\n",
              " 'send',\n",
              " 'reporters',\n",
              " 'to',\n",
              " 'cover',\n",
              " 'people',\n",
              " 'about',\n",
              " 'to',\n",
              " 'attempt',\n",
              " 'suicide',\n",
              " 'again',\n",
              " 'for',\n",
              " 'fear',\n",
              " 'of',\n",
              " 'pressuring',\n",
              " 'them',\n",
              " 'into',\n",
              " 'jumping',\n",
              " 'or',\n",
              " 'for',\n",
              " 'fear',\n",
              " 'of',\n",
              " 'encouraging',\n",
              " 'copy',\n",
              " 'cat',\n",
              " 'instances',\n",
              " '3',\n",
              " 'whatever',\n",
              " 'the',\n",
              " 'circumstances',\n",
              " 'radio',\n",
              " 'reporters',\n",
              " 'don',\n",
              " 't',\n",
              " 'do',\n",
              " 'live',\n",
              " 'broadcasts',\n",
              " 'from',\n",
              " 'the',\n",
              " '10th',\n",
              " 'floor',\n",
              " 'of',\n",
              " 'a',\n",
              " 'tower',\n",
              " 'block',\n",
              " 'radio',\n",
              " 'cars',\n",
              " 'don',\n",
              " 't',\n",
              " 'carry',\n",
              " 'leads',\n",
              " 'long',\n",
              " 'enough',\n",
              " 'to',\n",
              " 'connect',\n",
              " 'the',\n",
              " 'microphone',\n",
              " 'and',\n",
              " 'headphones',\n",
              " 'to',\n",
              " 'the',\n",
              " 'transmitter',\n",
              " '4',\n",
              " 'the',\n",
              " 'stuck',\n",
              " 'in',\n",
              " 'the',\n",
              " 'lift',\n",
              " 'scene',\n",
              " 'was',\n",
              " 'utterly',\n",
              " 'derivative',\n",
              " '5',\n",
              " 'the',\n",
              " 'acting',\n",
              " 'and',\n",
              " 'direction',\n",
              " 'was',\n",
              " 'almost',\n",
              " 'non',\n",
              " 'existent',\n",
              " 'i',\n",
              " 'could',\n",
              " 'go',\n",
              " 'on',\n",
              " 'but',\n",
              " 'i',\n",
              " 'won',\n",
              " 't']"
            ]
          },
          "metadata": {
            "tags": []
          },
          "execution_count": 123
        }
      ]
    },
    {
      "cell_type": "code",
      "metadata": {
        "colab": {
          "base_uri": "https://localhost:8080/"
        },
        "id": "NSfQ_j-UWd8B",
        "outputId": "4705a4a4-339b-4c7a-de3a-cd43a7dfb160"
      },
      "source": [
        "type(har)"
      ],
      "execution_count": 129,
      "outputs": [
        {
          "output_type": "execute_result",
          "data": {
            "text/plain": [
              "list"
            ]
          },
          "metadata": {
            "tags": []
          },
          "execution_count": 129
        }
      ]
    },
    {
      "cell_type": "code",
      "metadata": {
        "colab": {
          "base_uri": "https://localhost:8080/",
          "height": 105
        },
        "id": "SYXpjztbTk6-",
        "outputId": "c2dee6ba-9cb2-420d-b470-ffda961e8335"
      },
      "source": [
        "word_tokens"
      ],
      "execution_count": 111,
      "outputs": [
        {
          "output_type": "execute_result",
          "data": {
            "application/vnd.google.colaboratory.intrinsic+json": {
              "type": "string"
            },
            "text/plain": [
              "'a plane carrying employees of a large biotech firm including the ceo s daughter goes down in thick forest in the pacific northwest when the search and rescue mission is called off the ceo harlan knowles lance henriksen puts together a small ragtag group to execute their own search and rescue mission but just what is knowles searching for and trying to rescue and just what is following and watching them in the woods oy what a mess this film was it was a shame because for one it stars lance henriksen who is one of my favorite modern genre actors and two it could have easily been a decent film it suffers from two major flaws and they re probably both writer director jonas quastel s fault this film which i ll be calling by its aka of sasquatch has just about the worst editing i ve ever seen next to alone in the dark 2005 and quastel s constant advice for the cast appears to have been okay let s try that again but this time i want everyone to talk on top of each other improvise non sequiturs and generally try to be as annoying as possible the potential was there despite the rip off aspects any material related to the plane crash was obviously trying to crib the blair witch project 1999 and any material related to the titular monster was cribbing predator 1987 ed wood like exposition and ridiculous dialogue the plot had promise and potential for subtler and far less saccharine subtexts the monster costume once we actually get to see it was more than sufficient for my tastes the mixture of character types trudging through the woods could have been great if quastel and fellow writer chris lanning would have turned down the stereotype notch from 11 to at least 5 and spent more time exploring their relationships the monster s lair had some nice production design specifically the corpse decorations ala a more primitive jeepers creepers 2001 if it had been edited well there were some scenes with decent dialogue that could have easily been effective but the most frightening thing about sasquatch is the number of missteps made for some reason quastel thinks it s a good idea to chop up dialogue scenes that occur within minutes of each other in real time so that instead we see a few lines of scene a then a few lines of scene b then back to a back to b and so on for some reason he thinks it s a good idea to use frequently use black screens in between snippets of dialogue whether we need the idea of an unspecified amount of time passing between irrelevant comments or whether the irrelevant comments seem to be occurring one after the other in time anyway for some reason he doesn t care whether scenes were shot during the morning afternoon middle of the night etc he just cuts to them at random for that matter the scenes we re shown appear to be selected at random important events either never or barely appear and we re stuck with far too many pointless scenes for some reason he left a scene about cave art in the film when it either needs more exposition to justify getting there or it needs to just be cut out because it s not that important the monster s intelligence and humanity could have easily been shown in another way for some reason there is a whole character mary mancini left in the script even though she s superfluous for some reason we suddenly go to a extremely soft core porno scene even though the motif is never repeated again for some reason characters keep calling harlan knowles mr h like they re stereotypes of asian domestics for some reason quastel insists on using the blurry cam and distorto cam for the monster attack scenes even though the costume doesn t look that bad and it would have been much more effective to put in some fog a subtle filter or anything else other than bad cinematography i could go on but you get the idea i really wanted to like this film better than i did i m a henriksen fan i m intrigued by the subject i loved the setting i love hiking and this is basically a hiking film on one level but i just couldn t every time i thought it was going to be better from this point until the end quastel made some other awful move in the end my score was a 3 out of 10'"
            ]
          },
          "metadata": {
            "tags": []
          },
          "execution_count": 111
        }
      ]
    },
    {
      "cell_type": "code",
      "metadata": {
        "colab": {
          "base_uri": "https://localhost:8080/"
        },
        "id": "wNGSBnSvcAje",
        "outputId": "e4e75cd2-c403-4461-9f3c-f7ccc82c3503"
      },
      "source": [
        "punkt_st = nltk.tokenize.PunktSentenceTokenizer()\n",
        "sample_sentences = punkt_st.tokenize(word_tokens)\n",
        "print(np.array(sample_sentences))"
      ],
      "execution_count": 152,
      "outputs": [
        {
          "output_type": "stream",
          "text": [
            "['Machine learning enables models to train on data sets before being deployed']\n"
          ],
          "name": "stdout"
        }
      ]
    },
    {
      "cell_type": "code",
      "metadata": {
        "id": "ymu9LTHFcAe-"
      },
      "source": [
        "data_token  = []\n",
        "for i in range (0,len(data_f)):\n",
        "  word_tokens = data_f.loc[i,'review']\n",
        "  token_data = nltk.word_tokenize(word_tokens)\n",
        "  df_tokens.loc[i] = token_data"
      ],
      "execution_count": null,
      "outputs": []
    },
    {
      "cell_type": "code",
      "metadata": {
        "id": "ovxZ7_qmT48t"
      },
      "source": [
        "df_tokens = pd.DataFrame()"
      ],
      "execution_count": 127,
      "outputs": []
    },
    {
      "cell_type": "code",
      "metadata": {
        "colab": {
          "base_uri": "https://localhost:8080/"
        },
        "id": "72dEWfuAUG3_",
        "outputId": "f8d3d0a4-ce37-4f31-a369-4a8b953618ef"
      },
      "source": [
        "df_token.loc[3]"
      ],
      "execution_count": 121,
      "outputs": [
        {
          "output_type": "execute_result",
          "data": {
            "text/plain": [
              "0          i\n",
              "1       went\n",
              "2         to\n",
              "3        see\n",
              "4       this\n",
              "        ... \n",
              "2441    None\n",
              "2442    None\n",
              "2443    None\n",
              "2444    None\n",
              "2445    None\n",
              "Name: 3, Length: 2446, dtype: object"
            ]
          },
          "metadata": {
            "tags": []
          },
          "execution_count": 121
        }
      ]
    },
    {
      "cell_type": "markdown",
      "metadata": {
        "id": "UYhT0llAVdW7"
      },
      "source": [
        "Remove Stop-words"
      ]
    },
    {
      "cell_type": "code",
      "metadata": {
        "colab": {
          "base_uri": "https://localhost:8080/"
        },
        "id": "w963G9KWXZWk",
        "outputId": "ed6467e2-0c51-4677-b81c-350849cf6603"
      },
      "source": [
        "nltk.download()"
      ],
      "execution_count": 66,
      "outputs": [
        {
          "output_type": "stream",
          "text": [
            "NLTK Downloader\n",
            "---------------------------------------------------------------------------\n",
            "    d) Download   l) List    u) Update   c) Config   h) Help   q) Quit\n",
            "---------------------------------------------------------------------------\n",
            "Downloader> q\n"
          ],
          "name": "stdout"
        },
        {
          "output_type": "execute_result",
          "data": {
            "text/plain": [
              "True"
            ]
          },
          "metadata": {
            "tags": []
          },
          "execution_count": 66
        }
      ]
    },
    {
      "cell_type": "code",
      "metadata": {
        "colab": {
          "base_uri": "https://localhost:8080/"
        },
        "id": "HDBeJqqaW5a_",
        "outputId": "085b37c7-9341-49ad-c5fb-b56af2c8c20f"
      },
      "source": [
        "import nltk\n",
        "nltk.download()\n",
        "from nltk.corpus import stopwords"
      ],
      "execution_count": 65,
      "outputs": [
        {
          "output_type": "stream",
          "text": [
            "NLTK Downloader\n",
            "---------------------------------------------------------------------------\n",
            "    d) Download   l) List    u) Update   c) Config   h) Help   q) Quit\n",
            "---------------------------------------------------------------------------\n",
            "Downloader> d\n",
            "\n",
            "Download which package (l=list; x=cancel)?\n",
            "  Identifier> stopwords\n",
            "    Downloading package stopwords to /root/nltk_data...\n",
            "      Package stopwords is already up-to-date!\n",
            "\n",
            "---------------------------------------------------------------------------\n",
            "    d) Download   l) List    u) Update   c) Config   h) Help   q) Quit\n",
            "---------------------------------------------------------------------------\n",
            "Downloader> q\n"
          ],
          "name": "stdout"
        }
      ]
    },
    {
      "cell_type": "code",
      "metadata": {
        "id": "ImeCI4UMUt9X"
      },
      "source": [
        "stop = stopwords.words('english')"
      ],
      "execution_count": 67,
      "outputs": []
    },
    {
      "cell_type": "code",
      "metadata": {
        "colab": {
          "base_uri": "https://localhost:8080/"
        },
        "id": "qA5yuUtKWpYK",
        "outputId": "bec75155-e565-4eb5-f655-4f601f7bc543"
      },
      "source": [
        "stop = stopwords.words('english')\n",
        "data_f['review'] = data_f['review'].apply(lambda x: \" \".join(x for x in x.split() if x not in stop))\n",
        "data_f['review']"
      ],
      "execution_count": 69,
      "outputs": [
        {
          "output_type": "execute_result",
          "data": {
            "text/plain": [
              "0        Watching Time Chasers obvious made bunch frien...\n",
              "1        I saw film 20 years ago remember particularly ...\n",
              "2        Minor Spoilers In New York Joan Barnard Elvire...\n",
              "3        I went see film great deal excitement I school...\n",
              "4        Yes I agree everyone site movie VERY VERY bad ...\n",
              "                               ...                        \n",
              "49995    The original Man Eater Joe D Amato somewhat cu...\n",
              "49996    When Home Box Office early days movies like on...\n",
              "49997    Griffin Dunne born cultural family His father ...\n",
              "49998    Not bad story low budget rears ugly head times...\n",
              "49999    This good mummy alien flick feature cornucopia...\n",
              "Name: review, Length: 50000, dtype: object"
            ]
          },
          "metadata": {
            "tags": []
          },
          "execution_count": 69
        }
      ]
    },
    {
      "cell_type": "code",
      "metadata": {
        "id": "oP8I5qNQcAbb"
      },
      "source": [
        ""
      ],
      "execution_count": null,
      "outputs": []
    },
    {
      "cell_type": "code",
      "metadata": {
        "id": "PFd5gUzyYo7V"
      },
      "source": [
        ""
      ],
      "execution_count": null,
      "outputs": []
    }
  ]
}