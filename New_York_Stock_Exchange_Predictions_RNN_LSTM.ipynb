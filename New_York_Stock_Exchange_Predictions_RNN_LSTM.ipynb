{
  "nbformat": 4,
  "nbformat_minor": 0,
  "metadata": {
    "kernelspec": {
      "display_name": "Python 3",
      "language": "python",
      "name": "python3"
    },
    "language_info": {
      "codemirror_mode": {
        "name": "ipython",
        "version": 3
      },
      "file_extension": ".py",
      "mimetype": "text/x-python",
      "name": "python",
      "nbconvert_exporter": "python",
      "pygments_lexer": "ipython3",
      "version": "3.7.4"
    },
    "colab": {
      "name": "New York Stock Exchange Predictions RNN-LSTM.ipynb",
      "provenance": [],
      "toc_visible": true,
      "include_colab_link": true
    }
  },
  "cells": [
    {
      "cell_type": "markdown",
      "metadata": {
        "id": "view-in-github",
        "colab_type": "text"
      },
      "source": [
        "<a href=\"https://colab.research.google.com/github/HarmanBhutani/ML_projects/blob/main/New_York_Stock_Exchange_Predictions_RNN_LSTM.ipynb\" target=\"_parent\"><img src=\"https://colab.research.google.com/assets/colab-badge.svg\" alt=\"Open In Colab\"/></a>"
      ]
    },
    {
      "cell_type": "markdown",
      "metadata": {
        "id": "xUGegEw6Uh3f"
      },
      "source": [
        "# New York Stock Exhange Predictions RNN-LSTM"
      ]
    },
    {
      "cell_type": "code",
      "metadata": {
        "_cell_guid": "b1076dfc-b9ad-4769-8c92-a6c4dae69d19",
        "_uuid": "8f2839f25d086af736a60e9eeb907d3b93b6e0e5",
        "id": "-8JK7GdXUh3o"
      },
      "source": [
        "import numpy as np # linear algebra\n",
        "import pandas as pd # data processing, CSV file I/O (e.g. pd.read_csv)\n",
        "import os\n",
        "import matplotlib.pyplot as plt"
      ],
      "execution_count": 2,
      "outputs": []
    },
    {
      "cell_type": "code",
      "metadata": {
        "id": "sLjB3B11Vn2z"
      },
      "source": [
        "from google.colab import drive\n",
        "drive.mount('/content/drive')"
      ],
      "execution_count": null,
      "outputs": []
    },
    {
      "cell_type": "code",
      "metadata": {
        "colab": {
          "base_uri": "https://localhost:8080/",
          "height": 203
        },
        "id": "16n-znEsV2fg",
        "outputId": "e695bda0-e282-47ff-f23e-22d9068552d7"
      },
      "source": [
        "df.head()"
      ],
      "execution_count": 8,
      "outputs": [
        {
          "output_type": "execute_result",
          "data": {
            "text/html": [
              "<div>\n",
              "<style scoped>\n",
              "    .dataframe tbody tr th:only-of-type {\n",
              "        vertical-align: middle;\n",
              "    }\n",
              "\n",
              "    .dataframe tbody tr th {\n",
              "        vertical-align: top;\n",
              "    }\n",
              "\n",
              "    .dataframe thead th {\n",
              "        text-align: right;\n",
              "    }\n",
              "</style>\n",
              "<table border=\"1\" class=\"dataframe\">\n",
              "  <thead>\n",
              "    <tr style=\"text-align: right;\">\n",
              "      <th></th>\n",
              "      <th>date</th>\n",
              "      <th>symbol</th>\n",
              "      <th>open</th>\n",
              "      <th>close</th>\n",
              "      <th>low</th>\n",
              "      <th>high</th>\n",
              "      <th>volume</th>\n",
              "    </tr>\n",
              "  </thead>\n",
              "  <tbody>\n",
              "    <tr>\n",
              "      <th>0</th>\n",
              "      <td>2016-01-05</td>\n",
              "      <td>WLTW</td>\n",
              "      <td>123.430000</td>\n",
              "      <td>125.839996</td>\n",
              "      <td>122.309998</td>\n",
              "      <td>126.250000</td>\n",
              "      <td>2163600.0</td>\n",
              "    </tr>\n",
              "    <tr>\n",
              "      <th>1</th>\n",
              "      <td>2016-01-06</td>\n",
              "      <td>WLTW</td>\n",
              "      <td>125.239998</td>\n",
              "      <td>119.980003</td>\n",
              "      <td>119.940002</td>\n",
              "      <td>125.540001</td>\n",
              "      <td>2386400.0</td>\n",
              "    </tr>\n",
              "    <tr>\n",
              "      <th>2</th>\n",
              "      <td>2016-01-07</td>\n",
              "      <td>WLTW</td>\n",
              "      <td>116.379997</td>\n",
              "      <td>114.949997</td>\n",
              "      <td>114.930000</td>\n",
              "      <td>119.739998</td>\n",
              "      <td>2489500.0</td>\n",
              "    </tr>\n",
              "    <tr>\n",
              "      <th>3</th>\n",
              "      <td>2016-01-08</td>\n",
              "      <td>WLTW</td>\n",
              "      <td>115.480003</td>\n",
              "      <td>116.620003</td>\n",
              "      <td>113.500000</td>\n",
              "      <td>117.440002</td>\n",
              "      <td>2006300.0</td>\n",
              "    </tr>\n",
              "    <tr>\n",
              "      <th>4</th>\n",
              "      <td>2016-01-11</td>\n",
              "      <td>WLTW</td>\n",
              "      <td>117.010002</td>\n",
              "      <td>114.970001</td>\n",
              "      <td>114.089996</td>\n",
              "      <td>117.330002</td>\n",
              "      <td>1408600.0</td>\n",
              "    </tr>\n",
              "  </tbody>\n",
              "</table>\n",
              "</div>"
            ],
            "text/plain": [
              "         date symbol        open       close         low        high     volume\n",
              "0  2016-01-05   WLTW  123.430000  125.839996  122.309998  126.250000  2163600.0\n",
              "1  2016-01-06   WLTW  125.239998  119.980003  119.940002  125.540001  2386400.0\n",
              "2  2016-01-07   WLTW  116.379997  114.949997  114.930000  119.739998  2489500.0\n",
              "3  2016-01-08   WLTW  115.480003  116.620003  113.500000  117.440002  2006300.0\n",
              "4  2016-01-11   WLTW  117.010002  114.970001  114.089996  117.330002  1408600.0"
            ]
          },
          "metadata": {
            "tags": []
          },
          "execution_count": 8
        }
      ]
    },
    {
      "cell_type": "code",
      "metadata": {
        "_cell_guid": "79c7e3d0-c299-4dcb-8224-4455121ee9b0",
        "_uuid": "d629ff2d2480ee46fbb7e2d37f6b5fab8052498a",
        "colab": {
          "base_uri": "https://localhost:8080/",
          "height": 203
        },
        "id": "3ejBN3zPUh3v",
        "outputId": "7bbf69f6-e8d8-467a-a681-b5644cb1fb3b"
      },
      "source": [
        "df =  pd.read_csv('NYSE Data.csv', header=0)\n",
        "df.head()"
      ],
      "execution_count": 3,
      "outputs": [
        {
          "output_type": "execute_result",
          "data": {
            "text/html": [
              "<div>\n",
              "<style scoped>\n",
              "    .dataframe tbody tr th:only-of-type {\n",
              "        vertical-align: middle;\n",
              "    }\n",
              "\n",
              "    .dataframe tbody tr th {\n",
              "        vertical-align: top;\n",
              "    }\n",
              "\n",
              "    .dataframe thead th {\n",
              "        text-align: right;\n",
              "    }\n",
              "</style>\n",
              "<table border=\"1\" class=\"dataframe\">\n",
              "  <thead>\n",
              "    <tr style=\"text-align: right;\">\n",
              "      <th></th>\n",
              "      <th>date</th>\n",
              "      <th>symbol</th>\n",
              "      <th>open</th>\n",
              "      <th>close</th>\n",
              "      <th>low</th>\n",
              "      <th>high</th>\n",
              "      <th>volume</th>\n",
              "    </tr>\n",
              "  </thead>\n",
              "  <tbody>\n",
              "    <tr>\n",
              "      <th>0</th>\n",
              "      <td>2016-01-05</td>\n",
              "      <td>WLTW</td>\n",
              "      <td>123.430000</td>\n",
              "      <td>125.839996</td>\n",
              "      <td>122.309998</td>\n",
              "      <td>126.250000</td>\n",
              "      <td>2163600.0</td>\n",
              "    </tr>\n",
              "    <tr>\n",
              "      <th>1</th>\n",
              "      <td>2016-01-06</td>\n",
              "      <td>WLTW</td>\n",
              "      <td>125.239998</td>\n",
              "      <td>119.980003</td>\n",
              "      <td>119.940002</td>\n",
              "      <td>125.540001</td>\n",
              "      <td>2386400.0</td>\n",
              "    </tr>\n",
              "    <tr>\n",
              "      <th>2</th>\n",
              "      <td>2016-01-07</td>\n",
              "      <td>WLTW</td>\n",
              "      <td>116.379997</td>\n",
              "      <td>114.949997</td>\n",
              "      <td>114.930000</td>\n",
              "      <td>119.739998</td>\n",
              "      <td>2489500.0</td>\n",
              "    </tr>\n",
              "    <tr>\n",
              "      <th>3</th>\n",
              "      <td>2016-01-08</td>\n",
              "      <td>WLTW</td>\n",
              "      <td>115.480003</td>\n",
              "      <td>116.620003</td>\n",
              "      <td>113.500000</td>\n",
              "      <td>117.440002</td>\n",
              "      <td>2006300.0</td>\n",
              "    </tr>\n",
              "    <tr>\n",
              "      <th>4</th>\n",
              "      <td>2016-01-11</td>\n",
              "      <td>WLTW</td>\n",
              "      <td>117.010002</td>\n",
              "      <td>114.970001</td>\n",
              "      <td>114.089996</td>\n",
              "      <td>117.330002</td>\n",
              "      <td>1408600.0</td>\n",
              "    </tr>\n",
              "  </tbody>\n",
              "</table>\n",
              "</div>"
            ],
            "text/plain": [
              "         date symbol        open       close         low        high     volume\n",
              "0  2016-01-05   WLTW  123.430000  125.839996  122.309998  126.250000  2163600.0\n",
              "1  2016-01-06   WLTW  125.239998  119.980003  119.940002  125.540001  2386400.0\n",
              "2  2016-01-07   WLTW  116.379997  114.949997  114.930000  119.739998  2489500.0\n",
              "3  2016-01-08   WLTW  115.480003  116.620003  113.500000  117.440002  2006300.0\n",
              "4  2016-01-11   WLTW  117.010002  114.970001  114.089996  117.330002  1408600.0"
            ]
          },
          "metadata": {
            "tags": []
          },
          "execution_count": 3
        }
      ]
    },
    {
      "cell_type": "code",
      "metadata": {
        "_uuid": "218ec1759efe8472d2b316d320dc06e98efe1930",
        "colab": {
          "base_uri": "https://localhost:8080/"
        },
        "id": "bnFE19aEUh3w",
        "outputId": "48b34412-9c3c-4195-868a-6656eab45e47"
      },
      "source": [
        "print(df.shape)"
      ],
      "execution_count": 4,
      "outputs": [
        {
          "output_type": "stream",
          "text": [
            "(221675, 7)\n"
          ],
          "name": "stdout"
        }
      ]
    },
    {
      "cell_type": "code",
      "metadata": {
        "_uuid": "2db426eb4902a4f41f940bb1198575b62d5de5b7",
        "colab": {
          "base_uri": "https://localhost:8080/"
        },
        "id": "IGnaEBOhUh3x",
        "outputId": "3f96256b-08b7-43c8-a5ad-f5af3afabd03"
      },
      "source": [
        "df.symbol.unique()[0:20]"
      ],
      "execution_count": 9,
      "outputs": [
        {
          "output_type": "execute_result",
          "data": {
            "text/plain": [
              "array(['WLTW', 'A', 'AAL', 'AAP', 'AAPL', 'ABC', 'ABT', 'ACN', 'ADBE',\n",
              "       'ADI', 'ADM', 'ADP', 'ADS', 'ADSK', 'AEE', 'AEP', 'AES', 'AET',\n",
              "       'AFL', 'AGN'], dtype=object)"
            ]
          },
          "metadata": {
            "tags": []
          },
          "execution_count": 9
        }
      ]
    },
    {
      "cell_type": "code",
      "metadata": {
        "_uuid": "aa98c697c1cc1b43ee10f7fc0e18386d2958ed75",
        "colab": {
          "base_uri": "https://localhost:8080/"
        },
        "id": "IMCVqzMaUh3x",
        "outputId": "6d7ea6e1-f407-464c-b5df-78cb53a0a1be"
      },
      "source": [
        "print(len(df.symbol.values))"
      ],
      "execution_count": 10,
      "outputs": [
        {
          "output_type": "stream",
          "text": [
            "221675\n"
          ],
          "name": "stdout"
        }
      ]
    },
    {
      "cell_type": "code",
      "metadata": {
        "_uuid": "a9f0e53afb3aa44b63d3d5b86c6eb15212b1191d",
        "colab": {
          "base_uri": "https://localhost:8080/",
          "height": 295
        },
        "id": "JiOoikeDUh3y",
        "outputId": "9559748c-9ca6-4059-9690-9fddeff1907f"
      },
      "source": [
        "df.describe()"
      ],
      "execution_count": 11,
      "outputs": [
        {
          "output_type": "execute_result",
          "data": {
            "text/html": [
              "<div>\n",
              "<style scoped>\n",
              "    .dataframe tbody tr th:only-of-type {\n",
              "        vertical-align: middle;\n",
              "    }\n",
              "\n",
              "    .dataframe tbody tr th {\n",
              "        vertical-align: top;\n",
              "    }\n",
              "\n",
              "    .dataframe thead th {\n",
              "        text-align: right;\n",
              "    }\n",
              "</style>\n",
              "<table border=\"1\" class=\"dataframe\">\n",
              "  <thead>\n",
              "    <tr style=\"text-align: right;\">\n",
              "      <th></th>\n",
              "      <th>open</th>\n",
              "      <th>close</th>\n",
              "      <th>low</th>\n",
              "      <th>high</th>\n",
              "      <th>volume</th>\n",
              "    </tr>\n",
              "  </thead>\n",
              "  <tbody>\n",
              "    <tr>\n",
              "      <th>count</th>\n",
              "      <td>221675.000000</td>\n",
              "      <td>221675.000000</td>\n",
              "      <td>221674.000000</td>\n",
              "      <td>221674.000000</td>\n",
              "      <td>2.216740e+05</td>\n",
              "    </tr>\n",
              "    <tr>\n",
              "      <th>mean</th>\n",
              "      <td>44.368583</td>\n",
              "      <td>44.386386</td>\n",
              "      <td>43.827288</td>\n",
              "      <td>44.892859</td>\n",
              "      <td>7.078490e+06</td>\n",
              "    </tr>\n",
              "    <tr>\n",
              "      <th>std</th>\n",
              "      <td>38.997651</td>\n",
              "      <td>39.011817</td>\n",
              "      <td>38.523293</td>\n",
              "      <td>39.461045</td>\n",
              "      <td>1.672430e+07</td>\n",
              "    </tr>\n",
              "    <tr>\n",
              "      <th>min</th>\n",
              "      <td>2.980000</td>\n",
              "      <td>3.020000</td>\n",
              "      <td>2.820000</td>\n",
              "      <td>3.200000</td>\n",
              "      <td>0.000000e+00</td>\n",
              "    </tr>\n",
              "    <tr>\n",
              "      <th>25%</th>\n",
              "      <td>23.510000</td>\n",
              "      <td>23.514981</td>\n",
              "      <td>23.180000</td>\n",
              "      <td>23.809999</td>\n",
              "      <td>1.488300e+06</td>\n",
              "    </tr>\n",
              "    <tr>\n",
              "      <th>50%</th>\n",
              "      <td>35.750000</td>\n",
              "      <td>35.761429</td>\n",
              "      <td>35.320000</td>\n",
              "      <td>36.150002</td>\n",
              "      <td>3.128400e+06</td>\n",
              "    </tr>\n",
              "    <tr>\n",
              "      <th>75%</th>\n",
              "      <td>53.630001</td>\n",
              "      <td>53.641578</td>\n",
              "      <td>53.020000</td>\n",
              "      <td>54.209999</td>\n",
              "      <td>6.629575e+06</td>\n",
              "    </tr>\n",
              "    <tr>\n",
              "      <th>max</th>\n",
              "      <td>556.469971</td>\n",
              "      <td>555.650024</td>\n",
              "      <td>551.219971</td>\n",
              "      <td>561.880005</td>\n",
              "      <td>8.596434e+08</td>\n",
              "    </tr>\n",
              "  </tbody>\n",
              "</table>\n",
              "</div>"
            ],
            "text/plain": [
              "                open          close            low           high        volume\n",
              "count  221675.000000  221675.000000  221674.000000  221674.000000  2.216740e+05\n",
              "mean       44.368583      44.386386      43.827288      44.892859  7.078490e+06\n",
              "std        38.997651      39.011817      38.523293      39.461045  1.672430e+07\n",
              "min         2.980000       3.020000       2.820000       3.200000  0.000000e+00\n",
              "25%        23.510000      23.514981      23.180000      23.809999  1.488300e+06\n",
              "50%        35.750000      35.761429      35.320000      36.150002  3.128400e+06\n",
              "75%        53.630001      53.641578      53.020000      54.209999  6.629575e+06\n",
              "max       556.469971     555.650024     551.219971     561.880005  8.596434e+08"
            ]
          },
          "metadata": {
            "tags": []
          },
          "execution_count": 11
        }
      ]
    },
    {
      "cell_type": "code",
      "metadata": {
        "_uuid": "45a1e90e9a7eba6cffb0593603920403ecdb7e1b",
        "colab": {
          "base_uri": "https://localhost:8080/"
        },
        "id": "jahzFB4NUh3y",
        "outputId": "dbf5bc52-8fee-4a0c-f627-f6451b78e54e"
      },
      "source": [
        "df.isnull().sum()"
      ],
      "execution_count": 12,
      "outputs": [
        {
          "output_type": "execute_result",
          "data": {
            "text/plain": [
              "date      0\n",
              "symbol    0\n",
              "open      0\n",
              "close     0\n",
              "low       1\n",
              "high      1\n",
              "volume    1\n",
              "dtype: int64"
            ]
          },
          "metadata": {
            "tags": []
          },
          "execution_count": 12
        }
      ]
    },
    {
      "cell_type": "code",
      "metadata": {
        "_uuid": "d5b727df06a7696e894552d48c346e8b1aecc151",
        "colab": {
          "base_uri": "https://localhost:8080/"
        },
        "id": "umHFJIpfUh3z",
        "outputId": "efa4962c-da6d-483f-818e-9b41e93edfff"
      },
      "source": [
        "df.date.unique()"
      ],
      "execution_count": 13,
      "outputs": [
        {
          "output_type": "execute_result",
          "data": {
            "text/plain": [
              "array(['2016-01-05', '2016-01-06', '2016-01-07', '2016-01-08',\n",
              "       '2016-01-11', '2016-01-12', '2016-01-13', '2016-01-14',\n",
              "       '2016-01-15', '2016-01-19', '2016-01-20', '2016-01-21',\n",
              "       '2016-01-22', '2016-01-25', '2016-01-26', '2016-01-27',\n",
              "       '2016-01-28', '2016-01-29', '2016-02-01', '2016-02-02',\n",
              "       '2016-02-03', '2016-02-04', '2016-02-05', '2016-02-08',\n",
              "       '2016-02-09', '2016-02-10', '2016-02-11', '2016-02-12',\n",
              "       '2016-02-16', '2016-02-17', '2016-02-18', '2016-02-19',\n",
              "       '2016-02-22', '2016-02-23', '2016-02-24', '2016-02-25',\n",
              "       '2016-02-26', '2016-02-29', '2016-03-01', '2016-03-02',\n",
              "       '2016-03-03', '2016-03-04', '2016-03-07', '2016-03-08',\n",
              "       '2016-03-09', '2016-03-10', '2016-03-11', '2016-03-14',\n",
              "       '2016-03-15', '2016-03-16', '2016-03-17', '2016-03-18',\n",
              "       '2016-03-21', '2016-03-22', '2016-03-23', '2016-03-24',\n",
              "       '2016-03-28', '2016-03-29', '2016-03-30', '2016-03-31',\n",
              "       '2016-04-01', '2016-04-04', '2016-04-05', '2016-04-06',\n",
              "       '2016-04-07', '2016-04-08', '2016-04-11', '2016-04-12',\n",
              "       '2016-04-13', '2016-04-14', '2016-04-15', '2016-04-18',\n",
              "       '2016-04-19', '2016-04-20', '2016-04-21', '2016-04-22',\n",
              "       '2016-04-25', '2016-04-26', '2016-04-27', '2016-04-28',\n",
              "       '2016-04-29', '2016-05-02', '2016-05-03', '2016-05-04',\n",
              "       '2016-05-05', '2016-05-06', '2016-05-09', '2016-05-10',\n",
              "       '2016-05-11', '2016-05-12', '2016-05-13', '2016-05-16',\n",
              "       '2016-05-17', '2016-05-18', '2016-05-19', '2016-05-20',\n",
              "       '2016-05-23', '2016-05-24', '2016-05-25', '2016-05-26',\n",
              "       '2016-05-27', '2016-05-31', '2016-06-01', '2016-06-02',\n",
              "       '2016-06-03', '2016-06-06', '2016-06-07', '2016-06-08',\n",
              "       '2016-06-09', '2016-06-10', '2016-06-13', '2016-06-14',\n",
              "       '2016-06-15', '2016-06-16', '2016-06-17', '2016-06-20',\n",
              "       '2016-06-21', '2016-06-22', '2016-06-23', '2016-06-24',\n",
              "       '2016-06-27', '2016-06-28', '2016-06-29', '2016-06-30',\n",
              "       '2016-07-01', '2016-07-05', '2016-07-06', '2016-07-07',\n",
              "       '2016-07-08', '2016-07-11', '2016-07-12', '2016-07-13',\n",
              "       '2016-07-14', '2016-07-15', '2016-07-18', '2016-07-19',\n",
              "       '2016-07-20', '2016-07-21', '2016-07-22', '2016-07-25',\n",
              "       '2016-07-26', '2016-07-27', '2016-07-28', '2016-07-29',\n",
              "       '2016-08-01', '2016-08-02', '2016-08-03', '2016-08-04',\n",
              "       '2016-08-05', '2016-08-08', '2016-08-09', '2016-08-10',\n",
              "       '2016-08-11', '2016-08-12', '2016-08-15', '2016-08-16',\n",
              "       '2016-08-17', '2016-08-18', '2016-08-19', '2016-08-22',\n",
              "       '2016-08-23', '2016-08-24', '2016-08-25', '2016-08-26',\n",
              "       '2016-08-29', '2016-08-30', '2016-08-31', '2016-09-01',\n",
              "       '2016-09-02', '2016-09-06', '2016-09-07', '2016-09-08',\n",
              "       '2016-09-09', '2016-09-12', '2016-09-13', '2016-09-14',\n",
              "       '2016-09-15', '2016-09-16', '2016-09-19', '2016-09-20',\n",
              "       '2016-09-21', '2016-09-22', '2016-09-23', '2016-09-26',\n",
              "       '2016-09-27', '2016-09-28', '2016-09-29', '2016-09-30',\n",
              "       '2016-10-03', '2016-10-04', '2016-10-05', '2016-10-06',\n",
              "       '2016-10-07', '2016-10-10', '2016-10-11', '2016-10-12',\n",
              "       '2016-10-13', '2016-10-14', '2016-10-17', '2016-10-18',\n",
              "       '2016-10-19', '2016-10-20', '2016-10-21', '2016-10-24',\n",
              "       '2016-10-25', '2016-10-26', '2016-10-27', '2016-10-28',\n",
              "       '2016-10-31', '2016-11-01', '2016-11-02', '2016-11-03',\n",
              "       '2016-11-04', '2016-11-07', '2016-11-08', '2016-11-09',\n",
              "       '2016-11-10', '2016-11-11', '2016-11-14', '2016-11-15',\n",
              "       '2016-11-16', '2016-11-17', '2016-11-18', '2016-11-21',\n",
              "       '2016-11-22', '2016-11-23', '2016-11-25', '2016-11-28',\n",
              "       '2016-11-29', '2016-11-30', '2016-12-01', '2016-12-02',\n",
              "       '2016-12-05', '2016-12-06', '2016-12-07', '2016-12-08',\n",
              "       '2016-12-09', '2016-12-12', '2016-12-13', '2016-12-14',\n",
              "       '2016-12-15', '2016-12-16', '2016-12-19', '2016-12-20',\n",
              "       '2016-12-21', '2016-12-22', '2016-12-23', '2016-12-27',\n",
              "       '2016-12-28', '2016-12-29', '2016-12-30', '2010-01-04',\n",
              "       '2010-01-05', '2010-01-06', '2010-01-07', '2010-01-08',\n",
              "       '2010-01-11', '2010-01-12', '2010-01-13', '2010-01-14',\n",
              "       '2010-01-15', '2010-01-19', '2010-01-20', '2010-01-21',\n",
              "       '2010-01-22', '2010-01-25', '2010-01-26', '2010-01-27',\n",
              "       '2010-01-28', '2010-01-29', '2010-02-01', '2010-02-02',\n",
              "       '2010-02-03', '2010-02-04', '2010-02-05', '2010-02-08',\n",
              "       '2010-02-09', '2010-02-10', '2010-02-11', '2010-02-12',\n",
              "       '2010-02-16', '2010-02-17', '2010-02-18', '2010-02-19',\n",
              "       '2010-02-22', '2010-02-23', '2010-02-24', '2010-02-25',\n",
              "       '2010-02-26', '2010-03-01', '2010-03-02', '2010-03-03',\n",
              "       '2010-03-04', '2010-03-05', '2010-03-08', '2010-03-09',\n",
              "       '2010-03-10', '2010-03-11', '2010-03-12', '2010-03-15',\n",
              "       '2010-03-16', '2010-03-17', '2010-03-18', '2010-03-19',\n",
              "       '2010-03-22', '2010-03-23', '2010-03-24', '2010-03-25',\n",
              "       '2010-03-26', '2010-03-29', '2010-03-30', '2010-03-31',\n",
              "       '2010-04-01', '2010-04-05', '2010-04-06', '2010-04-07',\n",
              "       '2010-04-08', '2010-04-09', '2010-04-12', '2010-04-13',\n",
              "       '2010-04-14', '2010-04-15', '2010-04-16', '2010-04-19',\n",
              "       '2010-04-20', '2010-04-21', '2010-04-22', '2010-04-23',\n",
              "       '2010-04-26', '2010-04-27', '2010-04-28', '2010-04-29',\n",
              "       '2010-04-30', '2010-05-03', '2010-05-04', '2010-05-05',\n",
              "       '2010-05-06', '2010-05-07', '2010-05-10', '2010-05-11',\n",
              "       '2010-05-12', '2010-05-13', '2010-05-14', '2010-05-17',\n",
              "       '2010-05-18', '2010-05-19', '2010-05-20', '2010-05-21',\n",
              "       '2010-05-24', '2010-05-25', '2010-05-26', '2010-05-27',\n",
              "       '2010-05-28', '2010-06-01', '2010-06-02', '2010-06-03',\n",
              "       '2010-06-04', '2010-06-07', '2010-06-08', '2010-06-09',\n",
              "       '2010-06-10', '2010-06-11', '2010-06-14', '2010-06-15',\n",
              "       '2010-06-16', '2010-06-17', '2010-06-18', '2010-06-21',\n",
              "       '2010-06-22', '2010-06-23', '2010-06-24', '2010-06-25',\n",
              "       '2010-06-28', '2010-06-29', '2010-06-30', '2010-07-01',\n",
              "       '2010-07-02', '2010-07-06', '2010-07-07', '2010-07-08',\n",
              "       '2010-07-09', '2010-07-12', '2010-07-13', '2010-07-14',\n",
              "       '2010-07-15', '2010-07-16', '2010-07-19', '2010-07-20',\n",
              "       '2010-07-21', '2010-07-22', '2010-07-23', '2010-07-26',\n",
              "       '2010-07-27', '2010-07-28', '2010-07-29', '2010-07-30',\n",
              "       '2010-08-02', '2010-08-03', '2010-08-04', '2010-08-05',\n",
              "       '2010-08-06', '2010-08-09', '2010-08-10', '2010-08-11',\n",
              "       '2010-08-12', '2010-08-13', '2010-08-16', '2010-08-17',\n",
              "       '2010-08-18', '2010-08-19', '2010-08-20', '2010-08-23',\n",
              "       '2010-08-24', '2010-08-25', '2010-08-26', '2010-08-27',\n",
              "       '2010-08-30', '2010-08-31', '2010-09-01', '2010-09-02',\n",
              "       '2010-09-03', '2010-09-07', '2010-09-08', '2010-09-09',\n",
              "       '2010-09-10', '2010-09-13', '2010-09-14', '2010-09-15',\n",
              "       '2010-09-16', '2010-09-17', '2010-09-20', '2010-09-21',\n",
              "       '2010-09-22', '2010-09-23', '2010-09-24', '2010-09-27',\n",
              "       '2010-09-28', '2010-09-29', '2010-09-30', '2010-10-01',\n",
              "       '2010-10-04', '2010-10-05', '2010-10-06', '2010-10-07',\n",
              "       '2010-10-08', '2010-10-11', '2010-10-12', '2010-10-13',\n",
              "       '2010-10-14', '2010-10-15', '2010-10-18', '2010-10-19',\n",
              "       '2010-10-20', '2010-10-21', '2010-10-22', '2010-10-25',\n",
              "       '2010-10-26', '2010-10-27', '2010-10-28', '2010-10-29',\n",
              "       '2010-11-01', '2010-11-02', '2010-11-03', '2010-11-04',\n",
              "       '2010-11-05', '2010-11-08', '2010-11-09', '2010-11-10',\n",
              "       '2010-11-11', '2010-11-12', '2010-11-15', '2010-11-16',\n",
              "       '2010-11-17', '2010-11-18', '2010-11-19', '2010-11-22',\n",
              "       '2010-11-23', '2010-11-24', '2010-11-26', '2010-11-29',\n",
              "       '2010-11-30', '2010-12-01', '2010-12-02', '2010-12-03',\n",
              "       '2010-12-06', '2010-12-07', '2010-12-08', '2010-12-09',\n",
              "       '2010-12-10', '2010-12-13', '2010-12-14', '2010-12-15',\n",
              "       '2010-12-16', '2010-12-17', '2010-12-20', '2010-12-21',\n",
              "       '2010-12-22', '2010-12-23', '2010-12-27', '2010-12-28',\n",
              "       '2010-12-29', '2010-12-30', '2010-12-31', '2011-01-03',\n",
              "       '2011-01-04', '2011-01-05', '2011-01-06', '2011-01-07',\n",
              "       '2011-01-10', '2011-01-11', '2011-01-12', '2011-01-13',\n",
              "       '2011-01-14', '2011-01-18', '2011-01-19', '2011-01-20',\n",
              "       '2011-01-21', '2011-01-24', '2011-01-25', '2011-01-26',\n",
              "       '2011-01-27', '2011-01-28', '2011-01-31', '2011-02-01',\n",
              "       '2011-02-02', '2011-02-03', '2011-02-04', '2011-02-07',\n",
              "       '2011-02-08', '2011-02-09', '2011-02-10', '2011-02-11',\n",
              "       '2011-02-14', '2011-02-15', '2011-02-16', '2011-02-17',\n",
              "       '2011-02-18', '2011-02-22', '2011-02-23', '2011-02-24',\n",
              "       '2011-02-25', '2011-02-28', '2011-03-01', '2011-03-02',\n",
              "       '2011-03-03', '2011-03-04', '2011-03-07', '2011-03-08',\n",
              "       '2011-03-09', '2011-03-10', '2011-03-11', '2011-03-14',\n",
              "       '2011-03-15', '2011-03-16', '2011-03-17', '2011-03-18',\n",
              "       '2011-03-21', '2011-03-22', '2011-03-23', '2011-03-24',\n",
              "       '2011-03-25', '2011-03-28', '2011-03-29', '2011-03-30',\n",
              "       '2011-03-31', '2011-04-01', '2011-04-04', '2011-04-05',\n",
              "       '2011-04-06', '2011-04-07', '2011-04-08', '2011-04-11',\n",
              "       '2011-04-12', '2011-04-13', '2011-04-14', '2011-04-15',\n",
              "       '2011-04-18', '2011-04-19', '2011-04-20', '2011-04-21',\n",
              "       '2011-04-25', '2011-04-26', '2011-04-27', '2011-04-28',\n",
              "       '2011-04-29', '2011-05-02', '2011-05-03', '2011-05-04',\n",
              "       '2011-05-05', '2011-05-06', '2011-05-09', '2011-05-10',\n",
              "       '2011-05-11', '2011-05-12', '2011-05-13', '2011-05-16',\n",
              "       '2011-05-17', '2011-05-18', '2011-05-19', '2011-05-20',\n",
              "       '2011-05-23', '2011-05-24', '2011-05-25', '2011-05-26',\n",
              "       '2011-05-27', '2011-05-31', '2011-06-01', '2011-06-02',\n",
              "       '2011-06-03', '2011-06-06', '2011-06-07', '2011-06-08',\n",
              "       '2011-06-09', '2011-06-10', '2011-06-13', '2011-06-14',\n",
              "       '2011-06-15', '2011-06-16', '2011-06-17', '2011-06-20',\n",
              "       '2011-06-21', '2011-06-22', '2011-06-23', '2011-06-24',\n",
              "       '2011-06-27', '2011-06-28', '2011-06-29', '2011-06-30',\n",
              "       '2011-07-01', '2011-07-05', '2011-07-06', '2011-07-07',\n",
              "       '2011-07-08', '2011-07-11', '2011-07-12', '2011-07-13',\n",
              "       '2011-07-14', '2011-07-15', '2011-07-18', '2011-07-19',\n",
              "       '2011-07-20', '2011-07-21', '2011-07-22', '2011-07-25',\n",
              "       '2011-07-26', '2011-07-27', '2011-07-28', '2011-07-29',\n",
              "       '2011-08-01', '2011-08-02', '2011-08-03', '2011-08-04',\n",
              "       '2011-08-05', '2011-08-08', '2011-08-09', '2011-08-10',\n",
              "       '2011-08-11', '2011-08-12', '2011-08-15', '2011-08-16',\n",
              "       '2011-08-17', '2011-08-18', '2011-08-19', '2011-08-22',\n",
              "       '2011-08-23', '2011-08-24', '2011-08-25', '2011-08-26',\n",
              "       '2011-08-29', '2011-08-30', '2011-08-31', '2011-09-01',\n",
              "       '2011-09-02', '2011-09-06', '2011-09-07', '2011-09-08',\n",
              "       '2011-09-09', '2011-09-12', '2011-09-13', '2011-09-14',\n",
              "       '2011-09-15', '2011-09-16', '2011-09-19', '2011-09-20',\n",
              "       '2011-09-21', '2011-09-22', '2011-09-23', '2011-09-26',\n",
              "       '2011-09-27', '2011-09-28', '2011-09-29', '2011-09-30',\n",
              "       '2011-10-03', '2011-10-04', '2011-10-05', '2011-10-06',\n",
              "       '2011-10-07', '2011-10-10', '2011-10-11', '2011-10-12',\n",
              "       '2011-10-13', '2011-10-14', '2011-10-17', '2011-10-18',\n",
              "       '2011-10-19', '2011-10-20', '2011-10-21', '2011-10-24',\n",
              "       '2011-10-25', '2011-10-26', '2011-10-27', '2011-10-28',\n",
              "       '2011-10-31', '2011-11-01', '2011-11-02', '2011-11-03',\n",
              "       '2011-11-04', '2011-11-07', '2011-11-08', '2011-11-09',\n",
              "       '2011-11-10', '2011-11-11', '2011-11-14'], dtype=object)"
            ]
          },
          "metadata": {
            "tags": []
          },
          "execution_count": 13
        }
      ]
    },
    {
      "cell_type": "markdown",
      "metadata": {
        "_uuid": "317c78f50c1e0eac990d250def86f61697c651b7",
        "id": "5mw6DEypUh30"
      },
      "source": [
        "**Some companies and their opening and closing stock prices.**\n",
        "**Note: The differences is marginal , you might take open and close same but they are actually different after looking carefully.**"
      ]
    },
    {
      "cell_type": "code",
      "metadata": {
        "id": "X5_WpnlsWAyr"
      },
      "source": [
        "comp_stockss = df['symbol'].unique()[:5]"
      ],
      "execution_count": 16,
      "outputs": []
    },
    {
      "cell_type": "code",
      "metadata": {
        "_uuid": "ad8683f971dfc70d3626be60500632b7b75e270a",
        "colab": {
          "base_uri": "https://localhost:8080/",
          "height": 1000
        },
        "id": "udMjvRE-Uh31",
        "outputId": "413f7a46-b7a6-4d1e-fe86-4f946772130a"
      },
      "source": [
        "def plotter(code):\n",
        "    global closing_stock\n",
        "    global opening_stock\n",
        "    f, axs = plt.subplots(2,2,figsize=(8,8))\n",
        "    plt.subplot(212)\n",
        "    company = df[df['symbol']==code]\n",
        "    company = company.open.values.astype('float32')\n",
        "    company = company.reshape(-1, 1)\n",
        "    opening_stock = company\n",
        "    plt.grid(True)\n",
        "    plt.xlabel('Time')\n",
        "    plt.ylabel(code + \" open stock prices\")\n",
        "    plt.title('prices Vs Time')\n",
        "    plt.plot(company , 'g')\n",
        "    \n",
        "    plt.subplot(211)\n",
        "    company_close = df[df['symbol']==code]\n",
        "    company_close = company_close.close.values.astype('float32')\n",
        "    company_close = company_close.reshape(-1, 1)\n",
        "    closing_stock = company_close\n",
        "    plt.xlabel('Time')\n",
        "    plt.ylabel(code + \" close stock prices\")\n",
        "    plt.title('prices Vs Time')\n",
        "    plt.grid(True)\n",
        "    plt.plot(company_close , 'b')\n",
        "    plt.show()\n",
        "for i in comp_stockss:\n",
        "    plotter(i)"
      ],
      "execution_count": 17,
      "outputs": [
        {
          "output_type": "display_data",
          "data": {
            "image/png": "[encoded data removed]",
            "text/plain": [
              "<Figure size 576x576 with 2 Axes>"
            ]
          },
          "metadata": {
            "tags": [],
            "needs_background": "light"
          }
        },
        {
          "output_type": "display_data",
          "data": {
            "image/png": "[encoded data removed]",
            "text/plain": [
              "<Figure size 576x576 with 2 Axes>"
            ]
          },
          "metadata": {
            "tags": [],
            "needs_background": "light"
          }
        },
        {
          "output_type": "display_data",
          "data": {
            "image/png": "[encoded data removed]",
            "text/plain": [
              "<Figure size 576x576 with 2 Axes>"
            ]
          },
          "metadata": {
            "tags": [],
            "needs_background": "light"
          }
        },
        {
          "output_type": "display_data",
          "data": {
            "image/png": "[encoded data removed]",
            "text/plain": [
              "<Figure size 576x576 with 2 Axes>"
            ]
          },
          "metadata": {
            "tags": [],
            "needs_background": "light"
          }
        },
        {
          "output_type": "display_data",
          "data": {
            "image/png": "[encoded data removed]",
            "text/plain": [
              "<Figure size 576x576 with 2 Axes>"
            ]
          },
          "metadata": {
            "tags": [],
            "needs_background": "light"
          }
        }
      ]
    },
    {
      "cell_type": "markdown",
      "metadata": {
        "_uuid": "7fff78b6e9d93e97548016451cc84223a1433eff",
        "id": "NtoZGuYhUh33"
      },
      "source": [
        "**Lets take a single stock as a sample to forecast further stock prices.**"
      ]
    },
    {
      "cell_type": "code",
      "metadata": {
        "_uuid": "ca105e9fdd3ef59a2cad9fbe09140a71b788c057",
        "colab": {
          "base_uri": "https://localhost:8080/"
        },
        "id": "WpNe-Y0TUh33",
        "outputId": "896999aa-218f-435f-96e7-16d95b027183"
      },
      "source": [
        "closing_stock[: , 0]"
      ],
      "execution_count": 18,
      "outputs": [
        {
          "output_type": "execute_result",
          "data": {
            "text/plain": [
              "array([30.572857, 30.625713, 30.13857 , 30.082857, 30.282858, 30.015715,\n",
              "       29.674286, 30.092857, 29.918571, 29.418571, 30.72    , 30.247143,\n",
              "       29.724285, 28.25    , 29.01    , 29.42    , 29.697144, 28.47    ,\n",
              "       27.437143, 27.818571, 27.98    , 28.461428, 27.435715, 27.922857,\n",
              "       27.731428, 28.027143, 27.874287, 28.381428, 28.625713, 29.057142,\n",
              "       28.935715, 28.99    , 28.81    , 28.631428, 28.151428, 28.665714,\n",
              "       28.857143, 29.231428, 29.855715, 29.835714, 29.904285, 30.101429,\n",
              "       31.278572, 31.297142, 31.86    , 32.12    , 32.214287, 32.37143 ,\n",
              "       31.977142, 32.064285, 32.017143, 32.092857, 31.75    , 32.107143,\n",
              "       32.622856, 32.767143, 32.37857 , 32.985714, 33.19857 , 33.692856,\n",
              "       33.57143 , 33.71    , 34.07    , 34.22    , 34.37143 , 34.278572,\n",
              "       34.541428, 34.612858, 34.63286 , 35.09857 , 35.56    , 35.342857,\n",
              "       35.295715, 34.94143 , 37.03143 , 38.067142, 38.69    , 38.5     ,\n",
              "       37.434284, 37.37143 , 38.377144, 37.298573, 38.05    , 36.954285,\n",
              "       36.57    , 35.17857 , 33.694286, 36.284286, 36.645714, 37.44143 ,\n",
              "       36.908573, 36.26    , 36.317142, 36.05143 , 35.477142, 33.965714,\n",
              "       34.61714 , 35.251427, 35.03143 , 34.872856, 36.192856, 36.697144,\n",
              "       37.26143 , 37.70714 , 37.58857 , 36.565716, 35.84857 , 35.618572,\n",
              "       34.74286 , 35.787144, 36.215714, 36.325714, 37.09857 , 38.17857 ,\n",
              "       38.83857 , 39.15286 , 38.595715, 39.12143 , 38.71    , 38.42857 ,\n",
              "       38.1     , 38.32857 , 36.595715, 35.932858, 35.497143, 35.27714 ,\n",
              "       35.51857 , 36.952858, 36.87    , 37.08857 , 36.755714, 35.971428,\n",
              "       36.104286, 35.92143 , 35.7     , 35.08286 , 35.984287, 36.32    ,\n",
              "       37.002857, 37.134285, 37.04    , 37.725716, 37.28    , 36.872856,\n",
              "       36.75    , 37.407143, 37.41857 , 37.568573, 37.385715, 37.155716,\n",
              "       37.392857, 37.05857 , 35.74143 , 35.97    , 35.585712, 35.377144,\n",
              "       35.995716, 36.15286 , 35.697144, 35.662857, 35.114285, 34.275715,\n",
              "       34.69857 , 34.325714, 34.517143, 34.642857, 34.728573, 35.76143 ,\n",
              "       36.024284, 36.967144, 36.83    , 37.56    , 37.58143 , 37.63    ,\n",
              "       38.14857 , 38.294285, 38.602856, 39.51    , 39.33857 , 40.46143 ,\n",
              "       40.53857 , 41.107143, 41.274284, 41.76    , 41.594284, 40.98    ,\n",
              "       41.052856, 40.535713, 40.36    , 39.805714, 41.27714 , 41.31286 ,\n",
              "       41.317142, 42.01    , 42.194286, 42.64857 , 42.877144, 43.18714 ,\n",
              "       44.962856, 45.42857 , 44.212856, 44.361427, 44.217144, 43.924286,\n",
              "       44.12    , 44.00714 , 43.975716, 43.605713, 42.997143, 43.454285,\n",
              "       44.194286, 44.685715, 45.467144, 45.304287, 45.517143, 45.154285,\n",
              "       45.432858, 45.235714, 44.004284, 43.862858, 43.084286, 42.92857 ,\n",
              "       44.061428, 43.818573, 44.765713, 44.104286, 44.971428, 45.      ,\n",
              "       45.267143, 44.45    , 45.2     , 45.45    , 45.34857 , 45.735714,\n",
              "       45.458572, 45.85857 , 45.68    , 45.794285, 45.952858, 45.755714,\n",
              "       45.765713, 45.892857, 45.80143 , 46.03    , 46.314285, 46.451427,\n",
              "       46.228573, 46.38286 , 46.495716, 46.47    , 46.237144, 46.08    ,\n",
              "       47.08143 , 47.327145, 47.714287, 47.675713, 48.017143, 48.92143 ,\n",
              "       48.805714, 49.202858, 49.38286 , 49.782856, 48.664288, 48.405716,\n",
              "       47.525715, 46.674286, 48.20714 , 48.771427, 49.12143 , 49.03    ,\n",
              "       48.014286, 48.474285, 49.29    , 49.188572, 49.06286 , 49.5     ,\n",
              "       50.26857 , 50.74286 , 51.165714, 50.64857 , 50.978573, 51.311428,\n",
              "       51.414288, 51.875713, 51.185715, 50.08    , 48.372856, 48.945713,\n",
              "       48.982857, 49.737144, 50.458572, 49.90143 , 50.302856, 51.365715,\n",
              "       51.42857 , 50.765713, 50.822857, 50.352856, 49.524284, 50.284286,\n",
              "       50.50857 , 49.34714 , 47.144287, 47.805714, 47.23857 , 48.471428,\n",
              "       48.74286 , 48.455715, 49.28143 , 50.22    , 50.06286 , 50.137142,\n",
              "       49.804287, 49.787144, 49.22286 , 48.74143 , 48.412857, 48.291428,\n",
              "       48.297142, 47.865715, 47.25714 , 47.485714, 48.01857 , 47.48857 ,\n",
              "       46.78    , 47.407143, 48.265713, 48.915714, 50.1     , 50.43    ,\n",
              "       50.06    , 50.021427, 49.535713, 50.01857 , 49.46857 , 49.74286 ,\n",
              "       49.938572, 49.535713, 49.522858, 49.657143, 49.92143 , 49.604286,\n",
              "       49.51    , 48.642857, 47.614285, 48.02    , 48.552856, 48.647144,\n",
              "       47.888573, 47.771427, 47.455715, 48.111427, 47.857143, 48.201427,\n",
              "       49.69    , 49.35857 , 49.442856, 49.06286 , 48.291428, 47.434284,\n",
              "       47.462856, 47.355713, 46.557144, 46.657143, 47.49143 , 46.67857 ,\n",
              "       46.451427, 45.751427, 45.045715, 46.471428, 46.087143, 47.318573,\n",
              "       46.62143 , 47.434284, 47.894287, 47.72    , 47.952858, 49.037144,\n",
              "       49.91857 , 50.251427, 51.028572, 51.387142, 50.57143 , 50.535713,\n",
              "       51.145714, 51.11    , 52.131428, 53.4     , 53.835712, 55.271427,\n",
              "       55.327145, 56.185715, 56.92857 , 57.63    , 56.084286, 55.974285,\n",
              "       55.782856, 56.67857 , 55.55857 , 56.08143 , 53.91    , 53.374287,\n",
              "       50.458572, 53.43    , 51.955715, 53.385715, 53.855713, 54.772858,\n",
              "       54.354286, 54.34857 , 52.29286 , 50.861427, 50.92    , 53.37143 ,\n",
              "       53.74    , 53.388573, 54.797142, 55.71    , 55.712856, 54.975716,\n",
              "       54.432858, 53.435715, 54.248573, 54.84714 , 54.877144, 53.925713,\n",
              "       54.27714 , 54.945713, 55.614285, 56.137142, 57.214287, 58.804287,\n",
              "       59.064285, 58.877144, 57.40286 , 57.75714 , 57.595715, 57.037144,\n",
              "       56.715714, 55.795715, 54.474285, 53.514286, 53.214287, 54.035713,\n",
              "       53.91    , 52.82857 , 55.544285, 57.184284, 57.455715, 58.34714 ,\n",
              "       60.285713, 59.998573, 60.32    , 56.945713, 56.47286 , 56.124287,\n",
              "       57.967144, 56.824287, 57.228573, 57.81286 , 57.85    , 57.825714,\n",
              "       56.644287, 56.772858, 57.58143 , 57.177143, 57.104286, 58.032856,\n",
              "       56.46857 , 55.03143 , 54.945713, 54.18    ], dtype=float32)"
            ]
          },
          "metadata": {
            "tags": []
          },
          "execution_count": 18
        }
      ]
    },
    {
      "cell_type": "code",
      "metadata": {
        "_uuid": "50b950b5b6f8f44e538229e35dd0d2de055c8e39",
        "colab": {
          "base_uri": "https://localhost:8080/"
        },
        "id": "A1RwhUOeUh34",
        "outputId": "aadf6559-4511-4804-ffba-310ba5a792b6"
      },
      "source": [
        "stocks = closing_stock[: , 0]\n",
        "print(stocks)\n",
        "stocks = stocks.reshape(len(stocks) , 1)"
      ],
      "execution_count": 19,
      "outputs": [
        {
          "output_type": "stream",
          "text": [
            "[30.572857 30.625713 30.13857  30.082857 30.282858 30.015715 29.674286\n",
            " 30.092857 29.918571 29.418571 30.72     30.247143 29.724285 28.25\n",
            " 29.01     29.42     29.697144 28.47     27.437143 27.818571 27.98\n",
            " 28.461428 27.435715 27.922857 27.731428 28.027143 27.874287 28.381428\n",
            " 28.625713 29.057142 28.935715 28.99     28.81     28.631428 28.151428\n",
            " 28.665714 28.857143 29.231428 29.855715 29.835714 29.904285 30.101429\n",
            " 31.278572 31.297142 31.86     32.12     32.214287 32.37143  31.977142\n",
            " 32.064285 32.017143 32.092857 31.75     32.107143 32.622856 32.767143\n",
            " 32.37857  32.985714 33.19857  33.692856 33.57143  33.71     34.07\n",
            " 34.22     34.37143  34.278572 34.541428 34.612858 34.63286  35.09857\n",
            " 35.56     35.342857 35.295715 34.94143  37.03143  38.067142 38.69\n",
            " 38.5      37.434284 37.37143  38.377144 37.298573 38.05     36.954285\n",
            " 36.57     35.17857  33.694286 36.284286 36.645714 37.44143  36.908573\n",
            " 36.26     36.317142 36.05143  35.477142 33.965714 34.61714  35.251427\n",
            " 35.03143  34.872856 36.192856 36.697144 37.26143  37.70714  37.58857\n",
            " 36.565716 35.84857  35.618572 34.74286  35.787144 36.215714 36.325714\n",
            " 37.09857  38.17857  38.83857  39.15286  38.595715 39.12143  38.71\n",
            " 38.42857  38.1      38.32857  36.595715 35.932858 35.497143 35.27714\n",
            " 35.51857  36.952858 36.87     37.08857  36.755714 35.971428 36.104286\n",
            " 35.92143  35.7      35.08286  35.984287 36.32     37.002857 37.134285\n",
            " 37.04     37.725716 37.28     36.872856 36.75     37.407143 37.41857\n",
            " 37.568573 37.385715 37.155716 37.392857 37.05857  35.74143  35.97\n",
            " 35.585712 35.377144 35.995716 36.15286  35.697144 35.662857 35.114285\n",
            " 34.275715 34.69857  34.325714 34.517143 34.642857 34.728573 35.76143\n",
            " 36.024284 36.967144 36.83     37.56     37.58143  37.63     38.14857\n",
            " 38.294285 38.602856 39.51     39.33857  40.46143  40.53857  41.107143\n",
            " 41.274284 41.76     41.594284 40.98     41.052856 40.535713 40.36\n",
            " 39.805714 41.27714  41.31286  41.317142 42.01     42.194286 42.64857\n",
            " 42.877144 43.18714  44.962856 45.42857  44.212856 44.361427 44.217144\n",
            " 43.924286 44.12     44.00714  43.975716 43.605713 42.997143 43.454285\n",
            " 44.194286 44.685715 45.467144 45.304287 45.517143 45.154285 45.432858\n",
            " 45.235714 44.004284 43.862858 43.084286 42.92857  44.061428 43.818573\n",
            " 44.765713 44.104286 44.971428 45.       45.267143 44.45     45.2\n",
            " 45.45     45.34857  45.735714 45.458572 45.85857  45.68     45.794285\n",
            " 45.952858 45.755714 45.765713 45.892857 45.80143  46.03     46.314285\n",
            " 46.451427 46.228573 46.38286  46.495716 46.47     46.237144 46.08\n",
            " 47.08143  47.327145 47.714287 47.675713 48.017143 48.92143  48.805714\n",
            " 49.202858 49.38286  49.782856 48.664288 48.405716 47.525715 46.674286\n",
            " 48.20714  48.771427 49.12143  49.03     48.014286 48.474285 49.29\n",
            " 49.188572 49.06286  49.5      50.26857  50.74286  51.165714 50.64857\n",
            " 50.978573 51.311428 51.414288 51.875713 51.185715 50.08     48.372856\n",
            " 48.945713 48.982857 49.737144 50.458572 49.90143  50.302856 51.365715\n",
            " 51.42857  50.765713 50.822857 50.352856 49.524284 50.284286 50.50857\n",
            " 49.34714  47.144287 47.805714 47.23857  48.471428 48.74286  48.455715\n",
            " 49.28143  50.22     50.06286  50.137142 49.804287 49.787144 49.22286\n",
            " 48.74143  48.412857 48.291428 48.297142 47.865715 47.25714  47.485714\n",
            " 48.01857  47.48857  46.78     47.407143 48.265713 48.915714 50.1\n",
            " 50.43     50.06     50.021427 49.535713 50.01857  49.46857  49.74286\n",
            " 49.938572 49.535713 49.522858 49.657143 49.92143  49.604286 49.51\n",
            " 48.642857 47.614285 48.02     48.552856 48.647144 47.888573 47.771427\n",
            " 47.455715 48.111427 47.857143 48.201427 49.69     49.35857  49.442856\n",
            " 49.06286  48.291428 47.434284 47.462856 47.355713 46.557144 46.657143\n",
            " 47.49143  46.67857  46.451427 45.751427 45.045715 46.471428 46.087143\n",
            " 47.318573 46.62143  47.434284 47.894287 47.72     47.952858 49.037144\n",
            " 49.91857  50.251427 51.028572 51.387142 50.57143  50.535713 51.145714\n",
            " 51.11     52.131428 53.4      53.835712 55.271427 55.327145 56.185715\n",
            " 56.92857  57.63     56.084286 55.974285 55.782856 56.67857  55.55857\n",
            " 56.08143  53.91     53.374287 50.458572 53.43     51.955715 53.385715\n",
            " 53.855713 54.772858 54.354286 54.34857  52.29286  50.861427 50.92\n",
            " 53.37143  53.74     53.388573 54.797142 55.71     55.712856 54.975716\n",
            " 54.432858 53.435715 54.248573 54.84714  54.877144 53.925713 54.27714\n",
            " 54.945713 55.614285 56.137142 57.214287 58.804287 59.064285 58.877144\n",
            " 57.40286  57.75714  57.595715 57.037144 56.715714 55.795715 54.474285\n",
            " 53.514286 53.214287 54.035713 53.91     52.82857  55.544285 57.184284\n",
            " 57.455715 58.34714  60.285713 59.998573 60.32     56.945713 56.47286\n",
            " 56.124287 57.967144 56.824287 57.228573 57.81286  57.85     57.825714\n",
            " 56.644287 56.772858 57.58143  57.177143 57.104286 58.032856 56.46857\n",
            " 55.03143  54.945713 54.18    ]\n"
          ],
          "name": "stdout"
        }
      ]
    },
    {
      "cell_type": "markdown",
      "metadata": {
        "id": "o7AwBfGfUh34"
      },
      "source": [
        "**Feature scaling the vector for better model performance.**"
      ]
    },
    {
      "cell_type": "code",
      "metadata": {
        "_uuid": "f4a41a09ed193ec858120fd83f6bf1c0a47f737d",
        "collapsed": true,
        "id": "ij_ECAQIUh35"
      },
      "source": [
        "from sklearn.preprocessing import MinMaxScaler\n",
        "scaler = MinMaxScaler(feature_range=(0, 1))\n",
        "stocks = scaler.fit_transform(stocks)"
      ],
      "execution_count": 20,
      "outputs": []
    },
    {
      "cell_type": "code",
      "metadata": {
        "colab": {
          "base_uri": "https://localhost:8080/"
        },
        "id": "S7Dh_DApW5sz",
        "outputId": "aa3b11ff-6e10-4349-8a26-5ea333fd7054"
      },
      "source": [
        "len(stocks)"
      ],
      "execution_count": 23,
      "outputs": [
        {
          "output_type": "execute_result",
          "data": {
            "text/plain": [
              "472"
            ]
          },
          "metadata": {
            "tags": []
          },
          "execution_count": 23
        }
      ]
    },
    {
      "cell_type": "code",
      "metadata": {
        "_uuid": "62c6b9de14738b7bb41999bcbd2cf2cd36eedb8e",
        "collapsed": true,
        "id": "RqjFlUYwUh35"
      },
      "source": [
        "train = int(len(stocks) * 0.80)\n",
        "test = len(stocks) - train"
      ],
      "execution_count": 26,
      "outputs": []
    },
    {
      "cell_type": "code",
      "metadata": {
        "_uuid": "50a3196f0c077fac6fd83115e9c025255f134c1b",
        "colab": {
          "base_uri": "https://localhost:8080/"
        },
        "id": "FfhW_rctUh35",
        "outputId": "a3cce9fc-358e-4bc2-a926-04ddba801545"
      },
      "source": [
        "print(train , test)"
      ],
      "execution_count": 22,
      "outputs": [
        {
          "output_type": "stream",
          "text": [
            "377 95\n"
          ],
          "name": "stdout"
        }
      ]
    },
    {
      "cell_type": "code",
      "metadata": {
        "_uuid": "7c2d615c6e78b9be8fd737ee68f659089c237bdb",
        "id": "ebWeU3HSUh35"
      },
      "source": [
        "train = stocks[0:train]\n"
      ],
      "execution_count": null,
      "outputs": []
    },
    {
      "cell_type": "code",
      "metadata": {
        "_uuid": "557f2292078bb03a0e3adeed3a6e9a1236a7f62a",
        "collapsed": true,
        "id": "7rED6YaEUh36"
      },
      "source": [
        "test = stocks[len(train) : ]"
      ],
      "execution_count": 28,
      "outputs": []
    },
    {
      "cell_type": "code",
      "metadata": {
        "_uuid": "5999f4fd2510a257417ddf13a39a7c1bfa7f5081",
        "collapsed": true,
        "id": "CIhWDYwPUh36"
      },
      "source": [
        "train = train.reshape(len(train) , 1)\n",
        "test = test.reshape(len(test) , 1)"
      ],
      "execution_count": 29,
      "outputs": []
    },
    {
      "cell_type": "code",
      "metadata": {
        "_uuid": "0d4de6c4733e6d6426322faaa84f7fd8c32c3b11",
        "colab": {
          "base_uri": "https://localhost:8080/"
        },
        "id": "JFkDGuesUh36",
        "outputId": "0e845924-f2a4-4144-e022-38de83197f7c"
      },
      "source": [
        "print(train.shape , test.shape)"
      ],
      "execution_count": 30,
      "outputs": [
        {
          "output_type": "stream",
          "text": [
            "(377, 1) (95, 1)\n"
          ],
          "name": "stdout"
        }
      ]
    },
    {
      "cell_type": "markdown",
      "metadata": {
        "id": "ImDyCqptUh37"
      },
      "source": [
        "**process_data for the required input for LSTM.**"
      ]
    },
    {
      "cell_type": "code",
      "metadata": {
        "_uuid": "918b4302db6a2764ab77350d38493b427ddfb414",
        "collapsed": true,
        "id": "TcDfC-rOUh38"
      },
      "source": [
        "def process_data(data , n_features):\n",
        "    dataX, dataY = [], []\n",
        "    for i in range(len(data)-n_features-1):\n",
        "        a = data[i:(i+n_features), 0]\n",
        "        dataX.append(a)\n",
        "        dataY.append(data[i + n_features, 0])\n",
        "    return np.array(dataX), np.array(dataY)"
      ],
      "execution_count": 31,
      "outputs": []
    },
    {
      "cell_type": "markdown",
      "metadata": {
        "id": "gg4deP29Uh39"
      },
      "source": [
        "**Here I am taking 2 past values to predict a single value. This has already been checked and optimized after taking several cases.**"
      ]
    },
    {
      "cell_type": "code",
      "metadata": {
        "_uuid": "19a7f217f4aed70ff5660a79f55514670dad8f60",
        "collapsed": true,
        "id": "6ZPMf8_tUh39"
      },
      "source": [
        "n_features = 2\n",
        "\n",
        "trainX, trainY = process_data(train, n_features)\n",
        "testX, testY = process_data(test, n_features)"
      ],
      "execution_count": 32,
      "outputs": []
    },
    {
      "cell_type": "code",
      "metadata": {
        "_uuid": "8af00b0e91ca09e51cf5728dfbc847ca3702d4df",
        "colab": {
          "base_uri": "https://localhost:8080/"
        },
        "id": "acTbtHHxUh3-",
        "outputId": "885e0a74-bea3-42bc-a43b-249bd1e5b5c1"
      },
      "source": [
        "print(trainX.shape , trainY.shape , testX.shape , testY.shape)"
      ],
      "execution_count": 33,
      "outputs": [
        {
          "output_type": "stream",
          "text": [
            "(374, 2) (374,) (92, 2) (92,)\n"
          ],
          "name": "stdout"
        }
      ]
    },
    {
      "cell_type": "markdown",
      "metadata": {
        "id": "EmPouCQJUh3-"
      },
      "source": [
        "**Reshaping again for required LSTM input as (sample , timestamp , features per sample).**"
      ]
    },
    {
      "cell_type": "markdown",
      "metadata": {
        "id": "jPBvY2f-Uh3-"
      },
      "source": [
        "**Here I am taking timestamp as 1.**"
      ]
    },
    {
      "cell_type": "code",
      "metadata": {
        "_uuid": "f6b3128ecf8c275b7e22892adbe4c8ca2edcb19e",
        "collapsed": true,
        "id": "o1NIEkb1Uh3_"
      },
      "source": [
        "trainX = trainX.reshape(trainX.shape[0] , 1 ,trainX.shape[1])\n",
        "testX = testX.reshape(testX.shape[0] , 1 ,testX.shape[1])"
      ],
      "execution_count": 34,
      "outputs": []
    },
    {
      "cell_type": "code",
      "metadata": {
        "colab": {
          "base_uri": "https://localhost:8080/"
        },
        "id": "lXt3HPhoXoof",
        "outputId": "cf7dba5c-1e08-4d51-d4fe-b5176ddb6d95"
      },
      "source": [
        "trainX"
      ],
      "execution_count": 40,
      "outputs": [
        {
          "output_type": "execute_result",
          "data": {
            "text/plain": [
              "array([[[9.5399439e-02, 9.7006738e-02]],\n",
              "\n",
              "       [[9.7006738e-02, 8.2192898e-02]],\n",
              "\n",
              "       [[8.2192898e-02, 8.0498695e-02]],\n",
              "\n",
              "       [[8.0498695e-02, 8.6580634e-02]],\n",
              "\n",
              "       [[8.6580634e-02, 7.8456938e-02]],\n",
              "\n",
              "       [[7.8456938e-02, 6.8074167e-02]],\n",
              "\n",
              "       [[6.8074167e-02, 8.0802798e-02]],\n",
              "\n",
              "       [[8.0802798e-02, 7.5502813e-02]],\n",
              "\n",
              "       [[7.5502813e-02, 6.0297966e-02]],\n",
              "\n",
              "       [[6.0297966e-02, 9.9873960e-02]],\n",
              "\n",
              "       [[9.9873960e-02, 8.5494578e-02]],\n",
              "\n",
              "       [[8.5494578e-02, 6.9594622e-02]],\n",
              "\n",
              "       [[6.9594622e-02, 2.4762094e-02]],\n",
              "\n",
              "       [[2.4762094e-02, 4.7873497e-02]],\n",
              "\n",
              "       [[4.7873497e-02, 6.0341418e-02]],\n",
              "\n",
              "       [[6.0341418e-02, 6.8769276e-02]],\n",
              "\n",
              "       [[6.8769276e-02, 3.1452239e-02]],\n",
              "\n",
              "       [[3.1452239e-02, 4.3451786e-05]],\n",
              "\n",
              "       [[4.3451786e-05, 1.1642516e-02]],\n",
              "\n",
              "       [[1.1642516e-02, 1.6551495e-02]],\n",
              "\n",
              "       [[1.6551495e-02, 3.1191587e-02]],\n",
              "\n",
              "       [[3.1191587e-02, 0.0000000e+00]],\n",
              "\n",
              "       [[0.0000000e+00, 1.4813840e-02]],\n",
              "\n",
              "       [[1.4813840e-02, 8.9925528e-03]],\n",
              "\n",
              "       [[8.9925528e-03, 1.7985106e-02]],\n",
              "\n",
              "       [[1.7985106e-02, 1.3336778e-02]],\n",
              "\n",
              "       [[1.3336778e-02, 2.8758824e-02]],\n",
              "\n",
              "       [[2.8758824e-02, 3.6187410e-02]],\n",
              "\n",
              "       [[3.6187410e-02, 4.9307048e-02]],\n",
              "\n",
              "       [[4.9307048e-02, 4.5614481e-02]],\n",
              "\n",
              "       [[4.5614481e-02, 4.7265291e-02]],\n",
              "\n",
              "       [[4.7265291e-02, 4.1791499e-02]],\n",
              "\n",
              "       [[4.1791499e-02, 3.6361217e-02]],\n",
              "\n",
              "       [[3.6361217e-02, 2.1764576e-02]],\n",
              "\n",
              "       [[2.1764576e-02, 3.7403882e-02]],\n",
              "\n",
              "       [[3.7403882e-02, 4.3225169e-02]],\n",
              "\n",
              "       [[4.3225169e-02, 5.4607034e-02]],\n",
              "\n",
              "       [[5.4607034e-02, 7.3591352e-02]],\n",
              "\n",
              "       [[7.3591352e-02, 7.2983146e-02]],\n",
              "\n",
              "       [[7.2983146e-02, 7.5068355e-02]],\n",
              "\n",
              "       [[7.5068355e-02, 8.1063449e-02]],\n",
              "\n",
              "       [[8.1063449e-02, 1.1685997e-01]],\n",
              "\n",
              "       [[1.1685997e-01, 1.1742467e-01]],\n",
              "\n",
              "       [[1.1742467e-01, 1.3454103e-01]],\n",
              "\n",
              "       [[1.3454103e-01, 1.4244747e-01]],\n",
              "\n",
              "       [[1.4244747e-01, 1.4531475e-01]],\n",
              "\n",
              "       [[1.4531475e-01, 1.5009338e-01]],\n",
              "\n",
              "       [[1.5009338e-01, 1.3810325e-01]],\n",
              "\n",
              "       [[1.3810325e-01, 1.4075327e-01]],\n",
              "\n",
              "       [[1.4075327e-01, 1.3931966e-01]],\n",
              "\n",
              "       [[1.3931966e-01, 1.4162213e-01]],\n",
              "\n",
              "       [[1.4162213e-01, 1.3119596e-01]],\n",
              "\n",
              "       [[1.3119596e-01, 1.4205652e-01]],\n",
              "\n",
              "       [[1.4205652e-01, 1.5773922e-01]],\n",
              "\n",
              "       [[1.5773922e-01, 1.6212690e-01]],\n",
              "\n",
              "       [[1.6212690e-01, 1.5031058e-01]],\n",
              "\n",
              "       [[1.5031058e-01, 1.6877359e-01]],\n",
              "\n",
              "       [[1.6877359e-01, 1.7524642e-01]],\n",
              "\n",
              "       [[1.7524642e-01, 1.9027752e-01]],\n",
              "\n",
              "       [[1.9027752e-01, 1.8658501e-01]],\n",
              "\n",
              "       [[1.8658501e-01, 1.9079882e-01]],\n",
              "\n",
              "       [[1.9079882e-01, 2.0174640e-01]],\n",
              "\n",
              "       [[2.0174640e-01, 2.0630783e-01]],\n",
              "\n",
              "       [[2.0630783e-01, 2.1091276e-01]],\n",
              "\n",
              "       [[2.1091276e-01, 2.0808893e-01]],\n",
              "\n",
              "       [[2.0808893e-01, 2.1608227e-01]],\n",
              "\n",
              "       [[2.1608227e-01, 2.1825451e-01]],\n",
              "\n",
              "       [[2.1825451e-01, 2.1886271e-01]],\n",
              "\n",
              "       [[2.1886271e-01, 2.3302490e-01]],\n",
              "\n",
              "       [[2.3302490e-01, 2.4705678e-01]],\n",
              "\n",
              "       [[2.4705678e-01, 2.4045354e-01]],\n",
              "\n",
              "       [[2.4045354e-01, 2.3901993e-01]],\n",
              "\n",
              "       [[2.3901993e-01, 2.2824627e-01]],\n",
              "\n",
              "       [[2.2824627e-01, 2.9180247e-01]],\n",
              "\n",
              "       [[2.9180247e-01, 3.2329816e-01]],\n",
              "\n",
              "       [[3.2329816e-01, 3.4223896e-01]],\n",
              "\n",
              "       [[3.4223896e-01, 3.3646113e-01]],\n",
              "\n",
              "       [[3.3646113e-01, 3.0405313e-01]],\n",
              "\n",
              "       [[3.0405313e-01, 3.0214173e-01]],\n",
              "\n",
              "       [[3.0214173e-01, 3.3272511e-01]],\n",
              "\n",
              "       [[3.3272511e-01, 2.9992610e-01]],\n",
              "\n",
              "       [[2.9992610e-01, 3.2277673e-01]],\n",
              "\n",
              "       [[3.2277673e-01, 2.8945643e-01]],\n",
              "\n",
              "       [[2.8945643e-01, 2.7777046e-01]],\n",
              "\n",
              "       [[2.7777046e-01, 2.3545760e-01]],\n",
              "\n",
              "       [[2.3545760e-01, 1.9032103e-01]],\n",
              "\n",
              "       [[1.9032103e-01, 2.6908201e-01]],\n",
              "\n",
              "       [[2.6908201e-01, 2.8007299e-01]],\n",
              "\n",
              "       [[2.8007299e-01, 3.0427033e-01]],\n",
              "\n",
              "       [[3.0427033e-01, 2.8806645e-01]],\n",
              "\n",
              "       [[2.8806645e-01, 2.6834351e-01]],\n",
              "\n",
              "       [[2.6834351e-01, 2.7008122e-01]],\n",
              "\n",
              "       [[2.7008122e-01, 2.6200098e-01]],\n",
              "\n",
              "       [[2.6200098e-01, 2.4453706e-01]],\n",
              "\n",
              "       [[2.4453706e-01, 1.9857508e-01]],\n",
              "\n",
              "       [[1.9857508e-01, 2.1838480e-01]],\n",
              "\n",
              "       [[2.1838480e-01, 2.3767310e-01]],\n",
              "\n",
              "       [[2.3767310e-01, 2.3098308e-01]],\n",
              "\n",
              "       [[2.3098308e-01, 2.2616094e-01]],\n",
              "\n",
              "       [[2.2616094e-01, 2.6630169e-01]],\n",
              "\n",
              "       [[2.6630169e-01, 2.8163689e-01]],\n",
              "\n",
              "       [[2.8163689e-01, 2.9879659e-01]],\n",
              "\n",
              "       [[2.9879659e-01, 3.1235057e-01]],\n",
              "\n",
              "       [[3.1235057e-01, 3.0874485e-01]],\n",
              "\n",
              "       [[3.0874485e-01, 2.7764028e-01]],\n",
              "\n",
              "       [[2.7764028e-01, 2.5583214e-01]],\n",
              "\n",
              "       [[2.5583214e-01, 2.4883789e-01]],\n",
              "\n",
              "       [[2.4883789e-01, 2.2220773e-01]],\n",
              "\n",
              "       [[2.2220773e-01, 2.5396413e-01]],\n",
              "\n",
              "       [[2.5396413e-01, 2.6699680e-01]],\n",
              "\n",
              "       [[2.6699680e-01, 2.7034181e-01]],\n",
              "\n",
              "       [[2.7034181e-01, 2.9384416e-01]],\n",
              "\n",
              "       [[2.9384416e-01, 3.2668656e-01]],\n",
              "\n",
              "       [[3.2668656e-01, 3.4675699e-01]],\n",
              "\n",
              "       [[3.4675699e-01, 3.5631436e-01]],\n",
              "\n",
              "       [[3.5631436e-01, 3.3937186e-01]],\n",
              "\n",
              "       [[3.3937186e-01, 3.5535866e-01]],\n",
              "\n",
              "       [[3.5535866e-01, 3.4284717e-01]],\n",
              "\n",
              "       [[3.4284717e-01, 3.3428901e-01]],\n",
              "\n",
              "       [[3.3428901e-01, 3.2429725e-01]],\n",
              "\n",
              "       [[3.2429725e-01, 3.3124810e-01]],\n",
              "\n",
              "       [[3.3124810e-01, 2.7855247e-01]],\n",
              "\n",
              "       [[2.7855247e-01, 2.5839525e-01]],\n",
              "\n",
              "       [[2.5839525e-01, 2.4514526e-01]],\n",
              "\n",
              "       [[2.4514526e-01, 2.3845512e-01]],\n",
              "\n",
              "       [[2.3845512e-01, 2.4579686e-01]],\n",
              "\n",
              "       [[2.4579686e-01, 2.8941303e-01]],\n",
              "\n",
              "       [[2.8941303e-01, 2.8689343e-01]],\n",
              "\n",
              "       [[2.8689343e-01, 2.9354006e-01]],\n",
              "\n",
              "       [[2.9354006e-01, 2.8341800e-01]],\n",
              "\n",
              "       [[2.8341800e-01, 2.5956815e-01]],\n",
              "\n",
              "       [[2.5956815e-01, 2.6360828e-01]],\n",
              "\n",
              "       [[2.6360828e-01, 2.5804764e-01]],\n",
              "\n",
              "       [[2.5804764e-01, 2.5131410e-01]],\n",
              "\n",
              "       [[2.5131410e-01, 2.3254710e-01]],\n",
              "\n",
              "       [[2.3254710e-01, 2.5995916e-01]],\n",
              "\n",
              "       [[2.5995916e-01, 2.7016813e-01]],\n",
              "\n",
              "       [[2.7016813e-01, 2.9093355e-01]],\n",
              "\n",
              "       [[2.9093355e-01, 2.9493028e-01]],\n",
              "\n",
              "       [[2.9493028e-01, 2.9206306e-01]],\n",
              "\n",
              "       [[2.9206306e-01, 3.1291538e-01]],\n",
              "\n",
              "       [[3.1291538e-01, 2.9936129e-01]],\n",
              "\n",
              "       [[2.9936129e-01, 2.8698021e-01]],\n",
              "\n",
              "       [[2.8698021e-01, 2.8324419e-01]],\n",
              "\n",
              "       [[2.8324419e-01, 3.0322772e-01]],\n",
              "\n",
              "       [[3.0322772e-01, 3.0357534e-01]],\n",
              "\n",
              "       [[3.0357534e-01, 3.0813676e-01]],\n",
              "\n",
              "       [[3.0813676e-01, 3.0257612e-01]],\n",
              "\n",
              "       [[3.0257612e-01, 2.9558188e-01]],\n",
              "\n",
              "       [[2.9558188e-01, 3.0279332e-01]],\n",
              "\n",
              "       [[3.0279332e-01, 2.9262775e-01]],\n",
              "\n",
              "       [[2.9262775e-01, 2.5257391e-01]],\n",
              "\n",
              "       [[2.5257391e-01, 2.5952476e-01]],\n",
              "\n",
              "       [[2.5952476e-01, 2.4783868e-01]],\n",
              "\n",
              "       [[2.4783868e-01, 2.4149615e-01]],\n",
              "\n",
              "       [[2.4149615e-01, 2.6030678e-01]],\n",
              "\n",
              "       [[2.6030678e-01, 2.6508540e-01]],\n",
              "\n",
              "       [[2.6508540e-01, 2.5122720e-01]],\n",
              "\n",
              "       [[2.5122720e-01, 2.5018460e-01]],\n",
              "\n",
              "       [[2.5018460e-01, 2.3350269e-01]],\n",
              "\n",
              "       [[2.3350269e-01, 2.0800203e-01]],\n",
              "\n",
              "       [[2.0800203e-01, 2.2086102e-01]],\n",
              "\n",
              "       [[2.2086102e-01, 2.0952255e-01]],\n",
              "\n",
              "       [[2.0952255e-01, 2.1534377e-01]],\n",
              "\n",
              "       [[2.1534377e-01, 2.1916670e-01]],\n",
              "\n",
              "       [[2.1916670e-01, 2.2177333e-01]],\n",
              "\n",
              "       [[2.2177333e-01, 2.5318211e-01]],\n",
              "\n",
              "       [[2.5318211e-01, 2.6117545e-01]],\n",
              "\n",
              "       [[2.6117545e-01, 2.8984755e-01]],\n",
              "\n",
              "       [[2.8984755e-01, 2.8567713e-01]],\n",
              "\n",
              "       [[2.8567713e-01, 3.0787617e-01]],\n",
              "\n",
              "       [[3.0787617e-01, 3.0852777e-01]],\n",
              "\n",
              "       [[3.0852777e-01, 3.1000477e-01]],\n",
              "\n",
              "       [[3.1000477e-01, 3.2577437e-01]],\n",
              "\n",
              "       [[3.2577437e-01, 3.3020538e-01]],\n",
              "\n",
              "       [[3.3020538e-01, 3.3958894e-01]],\n",
              "\n",
              "       [[3.3958894e-01, 3.6717492e-01]],\n",
              "\n",
              "       [[3.6717492e-01, 3.6196178e-01]],\n",
              "\n",
              "       [[3.6196178e-01, 3.9610761e-01]],\n",
              "\n",
              "       [[3.9610761e-01, 3.9845341e-01]],\n",
              "\n",
              "       [[3.9845341e-01, 4.1574353e-01]],\n",
              "\n",
              "       [[4.1574353e-01, 4.2082626e-01]],\n",
              "\n",
              "       [[4.2082626e-01, 4.3559664e-01]],\n",
              "\n",
              "       [[4.3559664e-01, 4.3055731e-01]],\n",
              "\n",
              "       [[4.3055731e-01, 4.1187710e-01]],\n",
              "\n",
              "       [[4.1187710e-01, 4.1409272e-01]],\n",
              "\n",
              "       [[4.1409272e-01, 3.9836651e-01]],\n",
              "\n",
              "       [[3.9836651e-01, 3.9302319e-01]],\n",
              "\n",
              "       [[3.9302319e-01, 3.7616748e-01]],\n",
              "\n",
              "       [[3.7616748e-01, 4.2091304e-01]],\n",
              "\n",
              "       [[4.2091304e-01, 4.2199928e-01]],\n",
              "\n",
              "       [[4.2199928e-01, 4.2212945e-01]],\n",
              "\n",
              "       [[4.2212945e-01, 4.4319898e-01]],\n",
              "\n",
              "       [[4.4319898e-01, 4.4880313e-01]],\n",
              "\n",
              "       [[4.4880313e-01, 4.6261781e-01]],\n",
              "\n",
              "       [[4.6261781e-01, 4.6956867e-01]],\n",
              "\n",
              "       [[4.6956867e-01, 4.7899550e-01]],\n",
              "\n",
              "       [[4.7899550e-01, 5.3299445e-01]],\n",
              "\n",
              "       [[5.3299445e-01, 5.4715663e-01]],\n",
              "\n",
              "       [[5.4715663e-01, 5.1018721e-01]],\n",
              "\n",
              "       [[5.1018721e-01, 5.1470524e-01]],\n",
              "\n",
              "       [[5.1470524e-01, 5.1031762e-01]],\n",
              "\n",
              "       [[5.1031762e-01, 5.0141186e-01]],\n",
              "\n",
              "       [[5.0141186e-01, 5.0736338e-01]],\n",
              "\n",
              "       [[5.0736338e-01, 5.0393146e-01]],\n",
              "\n",
              "       [[5.0393146e-01, 5.0297576e-01]],\n",
              "\n",
              "       [[5.0297576e-01, 4.9172419e-01]],\n",
              "\n",
              "       [[4.9172419e-01, 4.7321779e-01]],\n",
              "\n",
              "       [[4.7321779e-01, 4.8711926e-01]],\n",
              "\n",
              "       [[4.8711926e-01, 5.0962251e-01]],\n",
              "\n",
              "       [[5.0962251e-01, 5.2456671e-01]],\n",
              "\n",
              "       [[5.2456671e-01, 5.4832965e-01]],\n",
              "\n",
              "       [[5.4832965e-01, 5.4337722e-01]],\n",
              "\n",
              "       [[5.4337722e-01, 5.4985017e-01]],\n",
              "\n",
              "       [[5.4985017e-01, 5.3881568e-01]],\n",
              "\n",
              "       [[5.3881568e-01, 5.4728705e-01]],\n",
              "\n",
              "       [[5.4728705e-01, 5.4129189e-01]],\n",
              "\n",
              "       [[5.4129189e-01, 5.0384456e-01]],\n",
              "\n",
              "       [[5.0384456e-01, 4.9954385e-01]],\n",
              "\n",
              "       [[4.9954385e-01, 4.7586769e-01]],\n",
              "\n",
              "       [[4.7586769e-01, 4.7113246e-01]],\n",
              "\n",
              "       [[4.7113246e-01, 5.0558227e-01]],\n",
              "\n",
              "       [[5.0558227e-01, 4.9819714e-01]],\n",
              "\n",
              "       [[4.9819714e-01, 5.2699941e-01]],\n",
              "\n",
              "       [[5.2699941e-01, 5.0688559e-01]],\n",
              "\n",
              "       [[5.0688559e-01, 5.3325504e-01]],\n",
              "\n",
              "       [[5.3325504e-01, 5.3412396e-01]],\n",
              "\n",
              "       [[5.3412396e-01, 5.4224771e-01]],\n",
              "\n",
              "       [[5.4224771e-01, 5.1739866e-01]],\n",
              "\n",
              "       [[5.1739866e-01, 5.4020590e-01]],\n",
              "\n",
              "       [[5.4020590e-01, 5.4780835e-01]],\n",
              "\n",
              "       [[5.4780835e-01, 5.4472393e-01]],\n",
              "\n",
              "       [[5.4472393e-01, 5.5649680e-01]],\n",
              "\n",
              "       [[5.5649680e-01, 5.4806894e-01]],\n",
              "\n",
              "       [[5.4806894e-01, 5.6023282e-01]],\n",
              "\n",
              "       [[5.6023282e-01, 5.5480260e-01]],\n",
              "\n",
              "       [[5.5480260e-01, 5.5827790e-01]],\n",
              "\n",
              "       [[5.5827790e-01, 5.6310004e-01]],\n",
              "\n",
              "       [[5.6310004e-01, 5.5710500e-01]],\n",
              "\n",
              "       [[5.5710500e-01, 5.5740899e-01]],\n",
              "\n",
              "       [[5.5740899e-01, 5.6127542e-01]],\n",
              "\n",
              "       [[5.6127542e-01, 5.5849522e-01]],\n",
              "\n",
              "       [[5.5849522e-01, 5.6544584e-01]],\n",
              "\n",
              "       [[5.6544584e-01, 5.7409090e-01]],\n",
              "\n",
              "       [[5.7409090e-01, 5.7826144e-01]],\n",
              "\n",
              "       [[5.7826144e-01, 5.7148451e-01]],\n",
              "\n",
              "       [[5.7148451e-01, 5.7617623e-01]],\n",
              "\n",
              "       [[5.7617623e-01, 5.7960814e-01]],\n",
              "\n",
              "       [[5.7960814e-01, 5.7882625e-01]],\n",
              "\n",
              "       [[5.7882625e-01, 5.7174510e-01]],\n",
              "\n",
              "       [[5.7174510e-01, 5.6696647e-01]],\n",
              "\n",
              "       [[5.6696647e-01, 5.9741956e-01]],\n",
              "\n",
              "       [[5.9741956e-01, 6.0489160e-01]],\n",
              "\n",
              "       [[6.0489160e-01, 6.1666447e-01]],\n",
              "\n",
              "       [[6.1666447e-01, 6.1549145e-01]],\n",
              "\n",
              "       [[6.1549145e-01, 6.2587422e-01]],\n",
              "\n",
              "       [[6.2587422e-01, 6.5337330e-01]],\n",
              "\n",
              "       [[6.5337330e-01, 6.4985448e-01]],\n",
              "\n",
              "       [[6.4985448e-01, 6.6193146e-01]],\n",
              "\n",
              "       [[6.6193146e-01, 6.6740519e-01]],\n",
              "\n",
              "       [[6.6740519e-01, 6.7956895e-01]],\n",
              "\n",
              "       [[6.7956895e-01, 6.4555377e-01]],\n",
              "\n",
              "       [[6.4555377e-01, 6.3769060e-01]],\n",
              "\n",
              "       [[6.3769060e-01, 6.1093014e-01]],\n",
              "\n",
              "       [[6.1093014e-01, 5.8503848e-01]],\n",
              "\n",
              "       [[5.8503848e-01, 6.3165206e-01]],\n",
              "\n",
              "       [[6.3165206e-01, 6.4881176e-01]],\n",
              "\n",
              "       [[6.4881176e-01, 6.5945524e-01]],\n",
              "\n",
              "       [[6.5945524e-01, 6.5667492e-01]],\n",
              "\n",
              "       [[6.5667492e-01, 6.2578744e-01]],\n",
              "\n",
              "       [[6.2578744e-01, 6.3977581e-01]],\n",
              "\n",
              "       [[6.3977581e-01, 6.6458148e-01]],\n",
              "\n",
              "       [[6.6458148e-01, 6.6149706e-01]],\n",
              "\n",
              "       [[6.6149706e-01, 6.5767413e-01]],\n",
              "\n",
              "       [[6.5767413e-01, 6.7096740e-01]],\n",
              "\n",
              "       [[6.7096740e-01, 6.9433933e-01]],\n",
              "\n",
              "       [[6.9433933e-01, 7.0876235e-01]],\n",
              "\n",
              "       [[7.0876235e-01, 7.2162122e-01]],\n",
              "\n",
              "       [[7.2162122e-01, 7.0589513e-01]],\n",
              "\n",
              "       [[7.0589513e-01, 7.1593028e-01]],\n",
              "\n",
              "       [[7.1593028e-01, 7.2605234e-01]],\n",
              "\n",
              "       [[7.2605234e-01, 7.2918028e-01]],\n",
              "\n",
              "       [[7.2918028e-01, 7.4321204e-01]],\n",
              "\n",
              "       [[7.4321204e-01, 7.2222942e-01]],\n",
              "\n",
              "       [[7.2222942e-01, 6.8860513e-01]],\n",
              "\n",
              "       [[6.8860513e-01, 6.3669139e-01]],\n",
              "\n",
              "       [[6.3669139e-01, 6.5411180e-01]],\n",
              "\n",
              "       [[6.5411180e-01, 6.5524131e-01]],\n",
              "\n",
              "       [[6.5524131e-01, 6.7817897e-01]],\n",
              "\n",
              "       [[6.7817897e-01, 7.0011729e-01]],\n",
              "\n",
              "       [[7.0011729e-01, 6.8317479e-01]],\n",
              "\n",
              "       [[6.8317479e-01, 6.9538206e-01]],\n",
              "\n",
              "       [[6.9538206e-01, 7.2770315e-01]],\n",
              "\n",
              "       [[7.2770315e-01, 7.2961456e-01]],\n",
              "\n",
              "       [[7.2961456e-01, 7.0945734e-01]],\n",
              "\n",
              "       [[7.0945734e-01, 7.1119505e-01]],\n",
              "\n",
              "       [[7.1119505e-01, 6.9690245e-01]],\n",
              "\n",
              "       [[6.9690245e-01, 6.7170590e-01]],\n",
              "\n",
              "       [[6.7170590e-01, 6.9481736e-01]],\n",
              "\n",
              "       [[6.9481736e-01, 7.0163780e-01]],\n",
              "\n",
              "       [[7.0163780e-01, 6.6631907e-01]],\n",
              "\n",
              "       [[6.6631907e-01, 5.9933096e-01]],\n",
              "\n",
              "       [[5.9933096e-01, 6.1944479e-01]],\n",
              "\n",
              "       [[6.1944479e-01, 6.0219818e-01]],\n",
              "\n",
              "       [[6.0219818e-01, 6.3968891e-01]],\n",
              "\n",
              "       [[6.3968891e-01, 6.4794308e-01]],\n",
              "\n",
              "       [[6.4794308e-01, 6.3921112e-01]],\n",
              "\n",
              "       [[6.3921112e-01, 6.6432077e-01]],\n",
              "\n",
              "       [[6.6432077e-01, 6.9286245e-01]],\n",
              "\n",
              "       [[6.9286245e-01, 6.8808383e-01]],\n",
              "\n",
              "       [[6.8808383e-01, 6.9034272e-01]],\n",
              "\n",
              "       [[6.9034272e-01, 6.8022066e-01]],\n",
              "\n",
              "       [[6.8022066e-01, 6.7969936e-01]],\n",
              "\n",
              "       [[6.7969936e-01, 6.6253966e-01]],\n",
              "\n",
              "       [[6.6253966e-01, 6.4789957e-01]],\n",
              "\n",
              "       [[6.4789957e-01, 6.3790780e-01]],\n",
              "\n",
              "       [[6.3790780e-01, 6.3421518e-01]],\n",
              "\n",
              "       [[6.3421518e-01, 6.3438898e-01]],\n",
              "\n",
              "       [[6.3438898e-01, 6.2126940e-01]],\n",
              "\n",
              "       [[6.2126940e-01, 6.0276288e-01]],\n",
              "\n",
              "       [[6.0276288e-01, 6.0971373e-01]],\n",
              "\n",
              "       [[6.0971373e-01, 6.2591761e-01]],\n",
              "\n",
              "       [[6.2591761e-01, 6.0980052e-01]],\n",
              "\n",
              "       [[6.0980052e-01, 5.8825308e-01]],\n",
              "\n",
              "       [[5.8825308e-01, 6.0732430e-01]],\n",
              "\n",
              "       [[6.0732430e-01, 6.3343316e-01]],\n",
              "\n",
              "       [[6.3343316e-01, 6.5319949e-01]],\n",
              "\n",
              "       [[6.5319949e-01, 6.8921322e-01]],\n",
              "\n",
              "       [[6.8921322e-01, 6.9924849e-01]],\n",
              "\n",
              "       [[6.9924849e-01, 6.8799692e-01]],\n",
              "\n",
              "       [[6.8799692e-01, 6.8682390e-01]],\n",
              "\n",
              "       [[6.8682390e-01, 6.7205352e-01]],\n",
              "\n",
              "       [[6.7205352e-01, 6.8673700e-01]],\n",
              "\n",
              "       [[6.8673700e-01, 6.7001170e-01]],\n",
              "\n",
              "       [[6.7001170e-01, 6.7835265e-01]],\n",
              "\n",
              "       [[6.7835265e-01, 6.8430430e-01]],\n",
              "\n",
              "       [[6.8430430e-01, 6.7205352e-01]],\n",
              "\n",
              "       [[6.7205352e-01, 6.7166251e-01]],\n",
              "\n",
              "       [[6.7166251e-01, 6.7574614e-01]],\n",
              "\n",
              "       [[6.7574614e-01, 6.8378299e-01]],\n",
              "\n",
              "       [[6.8378299e-01, 6.7413872e-01]],\n",
              "\n",
              "       [[6.7413872e-01, 6.7127150e-01]],\n",
              "\n",
              "       [[6.7127150e-01, 6.4490205e-01]],\n",
              "\n",
              "       [[6.4490205e-01, 6.1362344e-01]],\n",
              "\n",
              "       [[6.1362344e-01, 6.2596112e-01]],\n",
              "\n",
              "       [[6.2596112e-01, 6.4216512e-01]],\n",
              "\n",
              "       [[6.4216512e-01, 6.4503235e-01]],\n",
              "\n",
              "       [[6.4503235e-01, 6.2196451e-01]],\n",
              "\n",
              "       [[6.2196451e-01, 6.1840218e-01]],\n",
              "\n",
              "       [[6.1840218e-01, 6.0880142e-01]],\n",
              "\n",
              "       [[6.0880142e-01, 6.2874144e-01]],\n",
              "\n",
              "       [[6.2874144e-01, 6.2100869e-01]],\n",
              "\n",
              "       [[6.2100869e-01, 6.3147825e-01]],\n",
              "\n",
              "       [[6.3147825e-01, 6.7674524e-01]],\n",
              "\n",
              "       [[6.7674524e-01, 6.6666657e-01]],\n",
              "\n",
              "       [[6.6666657e-01, 6.6922969e-01]],\n",
              "\n",
              "       [[6.6922969e-01, 6.5767413e-01]],\n",
              "\n",
              "       [[6.5767413e-01, 6.3421518e-01]],\n",
              "\n",
              "       [[6.3421518e-01, 6.0814971e-01]],\n",
              "\n",
              "       [[6.0814971e-01, 6.0901862e-01]],\n",
              "\n",
              "       [[6.0901862e-01, 6.0576040e-01]],\n",
              "\n",
              "       [[6.0576040e-01, 5.8147615e-01]],\n",
              "\n",
              "       [[5.8147615e-01, 5.8451706e-01]],\n",
              "\n",
              "       [[5.8451706e-01, 6.0988742e-01]],\n",
              "\n",
              "       [[6.0988742e-01, 5.8516866e-01]],\n",
              "\n",
              "       [[5.8516866e-01, 5.7826144e-01]],\n",
              "\n",
              "       [[5.7826144e-01, 5.5697459e-01]],\n",
              "\n",
              "       [[5.5697459e-01, 5.3551418e-01]],\n",
              "\n",
              "       [[5.3551418e-01, 5.7886964e-01]],\n",
              "\n",
              "       [[5.7886964e-01, 5.6718355e-01]],\n",
              "\n",
              "       [[5.6718355e-01, 6.0463101e-01]],\n",
              "\n",
              "       [[6.0463101e-01, 5.8343107e-01]],\n",
              "\n",
              "       [[5.8343107e-01, 6.0814971e-01]],\n",
              "\n",
              "       [[6.0814971e-01, 6.2213820e-01]]], dtype=float32)"
            ]
          },
          "metadata": {
            "tags": []
          },
          "execution_count": 40
        }
      ]
    },
    {
      "cell_type": "code",
      "metadata": {
        "_uuid": "01c89adb2d29b141617e323c08419637e761decd",
        "id": "mkjh2V8YUh3_"
      },
      "source": [
        "import numpy\n",
        "import matplotlib.pyplot as plt\n",
        "import pandas\n",
        "import math\n",
        "from keras.models import Sequential\n",
        "from keras.layers import Dense , BatchNormalization , Dropout , Activation\n",
        "from keras.layers import LSTM , GRU\n",
        "from sklearn.preprocessing import MinMaxScaler\n",
        "from sklearn.metrics import mean_squared_error\n",
        "from keras.optimizers import Adam , SGD , RMSprop"
      ],
      "execution_count": 41,
      "outputs": []
    },
    {
      "cell_type": "markdown",
      "metadata": {
        "id": "HLUUX60MUh3_"
      },
      "source": [
        "**Checkpointing the model when required and using other callbacks.**"
      ]
    },
    {
      "cell_type": "code",
      "metadata": {
        "_uuid": "51aafba6b33ebea5e345029dc30c8bfffdaa84c4",
        "colab": {
          "base_uri": "https://localhost:8080/"
        },
        "id": "jPVcE5C8Uh3_",
        "outputId": "df673dc6-04ac-4ff5-d9c6-cb2fc18c6b5d"
      },
      "source": [
        "filepath=\"stock_weights.hdf5\"\n",
        "from keras.callbacks import ReduceLROnPlateau , ModelCheckpoint\n",
        "lr_reduce = ReduceLROnPlateau(monitor='val_loss', factor=0.1, epsilon=0.0001, patience=1, verbose=1)\n",
        "checkpoint = ModelCheckpoint(filepath, monitor='val_loss', verbose=1, save_best_only=True, mode='max')"
      ],
      "execution_count": 42,
      "outputs": [
        {
          "output_type": "stream",
          "text": [
            "WARNING:tensorflow:`epsilon` argument is deprecated and will be removed, use `min_delta` instead.\n"
          ],
          "name": "stdout"
        }
      ]
    },
    {
      "cell_type": "markdown",
      "metadata": {
        "id": "28k8A_PAUh4A"
      },
      "source": [
        "## My personal tuned architecture for best performance on kaggle till date."
      ]
    },
    {
      "cell_type": "markdown",
      "metadata": {
        "id": "p6iFp4jIUh4A"
      },
      "source": [
        "**The learning rate has been tuned for several times and so is the batch_size and the neurons in the layers.**"
      ]
    },
    {
      "cell_type": "code",
      "metadata": {
        "_uuid": "d6cea41f648af87a6f67c7cefcdebb3a14f3fdbc",
        "id": "OjJPLpPZUh4A"
      },
      "source": [
        "model = Sequential()\n",
        "model.add(LSTM(256))\n",
        "model.add(Dense(64 ,  activation = 'relu'))\n",
        "model.add(Dense(1))\n"
      ],
      "execution_count": 44,
      "outputs": []
    },
    {
      "cell_type": "code",
      "metadata": {
        "_uuid": "e8b1fe329e5814406236d34cc783b2403398e0c4",
        "collapsed": true,
        "id": "YInD_sk-Uh4B"
      },
      "source": [
        "model.compile(loss='mean_squared_error', optimizer=Adam(lr = 0.0005) , metrics = ['mean_squared_error'])"
      ],
      "execution_count": 46,
      "outputs": []
    },
    {
      "cell_type": "code",
      "metadata": {
        "_uuid": "efb8e8babaaac9f4bfa944045545d1090d9b8e98",
        "colab": {
          "base_uri": "https://localhost:8080/"
        },
        "id": "xz7PfCzhUh4B",
        "outputId": "d8e6afb5-933b-41c7-d722-243d9492bd1e"
      },
      "source": [
        "history = model.fit(trainX, trainY, epochs=100 , batch_size = 128 , \n",
        "          callbacks = [checkpoint , lr_reduce] , validation_data = (testX,testY))    "
      ],
      "execution_count": 48,
      "outputs": [
        {
          "output_type": "stream",
          "text": [
            "Epoch 1/100\n",
            "3/3 [==============================] - 3s 261ms/step - loss: 0.2094 - mean_squared_error: 0.2094 - val_loss: 0.6721 - val_mean_squared_error: 0.6721\n",
            "\n",
            "Epoch 00001: val_loss improved from -inf to 0.67212, saving model to stock_weights.hdf5\n",
            "Epoch 2/100\n",
            "3/3 [==============================] - 0s 29ms/step - loss: 0.1924 - mean_squared_error: 0.1924 - val_loss: 0.6278 - val_mean_squared_error: 0.6278\n",
            "\n",
            "Epoch 00002: val_loss did not improve from 0.67212\n",
            "Epoch 3/100\n",
            "3/3 [==============================] - 0s 30ms/step - loss: 0.1800 - mean_squared_error: 0.1800 - val_loss: 0.5783 - val_mean_squared_error: 0.5783\n",
            "\n",
            "Epoch 00003: val_loss did not improve from 0.67212\n",
            "Epoch 4/100\n",
            "3/3 [==============================] - 0s 31ms/step - loss: 0.1616 - mean_squared_error: 0.1616 - val_loss: 0.5249 - val_mean_squared_error: 0.5249\n",
            "\n",
            "Epoch 00004: val_loss did not improve from 0.67212\n",
            "Epoch 5/100\n",
            "3/3 [==============================] - 0s 30ms/step - loss: 0.1526 - mean_squared_error: 0.1526 - val_loss: 0.4686 - val_mean_squared_error: 0.4686\n",
            "\n",
            "Epoch 00005: val_loss did not improve from 0.67212\n",
            "Epoch 6/100\n",
            "3/3 [==============================] - 0s 31ms/step - loss: 0.1231 - mean_squared_error: 0.1231 - val_loss: 0.4088 - val_mean_squared_error: 0.4088\n",
            "\n",
            "Epoch 00006: val_loss did not improve from 0.67212\n",
            "Epoch 7/100\n",
            "3/3 [==============================] - 0s 30ms/step - loss: 0.1074 - mean_squared_error: 0.1074 - val_loss: 0.3491 - val_mean_squared_error: 0.3491\n",
            "\n",
            "Epoch 00007: val_loss did not improve from 0.67212\n",
            "Epoch 8/100\n",
            "3/3 [==============================] - 0s 31ms/step - loss: 0.0842 - mean_squared_error: 0.0842 - val_loss: 0.2897 - val_mean_squared_error: 0.2897\n",
            "\n",
            "Epoch 00008: val_loss did not improve from 0.67212\n",
            "Epoch 9/100\n",
            "3/3 [==============================] - 0s 32ms/step - loss: 0.0642 - mean_squared_error: 0.0642 - val_loss: 0.2326 - val_mean_squared_error: 0.2326\n",
            "\n",
            "Epoch 00009: val_loss did not improve from 0.67212\n",
            "Epoch 10/100\n",
            "3/3 [==============================] - 0s 31ms/step - loss: 0.0503 - mean_squared_error: 0.0503 - val_loss: 0.1795 - val_mean_squared_error: 0.1795\n",
            "\n",
            "Epoch 00010: val_loss did not improve from 0.67212\n",
            "Epoch 11/100\n",
            "3/3 [==============================] - 0s 33ms/step - loss: 0.0360 - mean_squared_error: 0.0360 - val_loss: 0.1327 - val_mean_squared_error: 0.1327\n",
            "\n",
            "Epoch 00011: val_loss did not improve from 0.67212\n",
            "Epoch 12/100\n",
            "3/3 [==============================] - 0s 28ms/step - loss: 0.0246 - mean_squared_error: 0.0246 - val_loss: 0.0931 - val_mean_squared_error: 0.0931\n",
            "\n",
            "Epoch 00012: val_loss did not improve from 0.67212\n",
            "Epoch 13/100\n",
            "3/3 [==============================] - 0s 32ms/step - loss: 0.0164 - mean_squared_error: 0.0164 - val_loss: 0.0620 - val_mean_squared_error: 0.0620\n",
            "\n",
            "Epoch 00013: val_loss did not improve from 0.67212\n",
            "Epoch 14/100\n",
            "3/3 [==============================] - 0s 30ms/step - loss: 0.0129 - mean_squared_error: 0.0129 - val_loss: 0.0393 - val_mean_squared_error: 0.0393\n",
            "\n",
            "Epoch 00014: val_loss did not improve from 0.67212\n",
            "Epoch 15/100\n",
            "3/3 [==============================] - 0s 30ms/step - loss: 0.0105 - mean_squared_error: 0.0105 - val_loss: 0.0243 - val_mean_squared_error: 0.0243\n",
            "\n",
            "Epoch 00015: val_loss did not improve from 0.67212\n",
            "Epoch 16/100\n",
            "3/3 [==============================] - 0s 29ms/step - loss: 0.0106 - mean_squared_error: 0.0106 - val_loss: 0.0160 - val_mean_squared_error: 0.0160\n",
            "\n",
            "Epoch 00016: val_loss did not improve from 0.67212\n",
            "Epoch 17/100\n",
            "3/3 [==============================] - 0s 30ms/step - loss: 0.0115 - mean_squared_error: 0.0115 - val_loss: 0.0125 - val_mean_squared_error: 0.0125\n",
            "\n",
            "Epoch 00017: val_loss did not improve from 0.67212\n",
            "Epoch 18/100\n",
            "3/3 [==============================] - 0s 27ms/step - loss: 0.0108 - mean_squared_error: 0.0108 - val_loss: 0.0120 - val_mean_squared_error: 0.0120\n",
            "\n",
            "Epoch 00018: val_loss did not improve from 0.67212\n",
            "Epoch 19/100\n",
            "3/3 [==============================] - 0s 29ms/step - loss: 0.0108 - mean_squared_error: 0.0108 - val_loss: 0.0135 - val_mean_squared_error: 0.0135\n",
            "\n",
            "Epoch 00019: val_loss did not improve from 0.67212\n",
            "\n",
            "Epoch 00019: ReduceLROnPlateau reducing learning rate to 5.0000002374872565e-05.\n",
            "Epoch 20/100\n",
            "3/3 [==============================] - 0s 29ms/step - loss: 0.0099 - mean_squared_error: 0.0099 - val_loss: 0.0138 - val_mean_squared_error: 0.0138\n",
            "\n",
            "Epoch 00020: val_loss did not improve from 0.67212\n",
            "\n",
            "Epoch 00020: ReduceLROnPlateau reducing learning rate to 5.000000237487257e-06.\n",
            "Epoch 21/100\n",
            "3/3 [==============================] - 0s 31ms/step - loss: 0.0100 - mean_squared_error: 0.0100 - val_loss: 0.0139 - val_mean_squared_error: 0.0139\n",
            "\n",
            "Epoch 00021: val_loss did not improve from 0.67212\n",
            "\n",
            "Epoch 00021: ReduceLROnPlateau reducing learning rate to 5.000000328436726e-07.\n",
            "Epoch 22/100\n",
            "3/3 [==============================] - 0s 30ms/step - loss: 0.0101 - mean_squared_error: 0.0101 - val_loss: 0.0139 - val_mean_squared_error: 0.0139\n",
            "\n",
            "Epoch 00022: val_loss did not improve from 0.67212\n",
            "\n",
            "Epoch 00022: ReduceLROnPlateau reducing learning rate to 5.000000555810402e-08.\n",
            "Epoch 23/100\n",
            "3/3 [==============================] - 0s 28ms/step - loss: 0.0103 - mean_squared_error: 0.0103 - val_loss: 0.0139 - val_mean_squared_error: 0.0139\n",
            "\n",
            "Epoch 00023: val_loss did not improve from 0.67212\n",
            "\n",
            "Epoch 00023: ReduceLROnPlateau reducing learning rate to 5.000000413701855e-09.\n",
            "Epoch 24/100\n",
            "3/3 [==============================] - 0s 32ms/step - loss: 0.0097 - mean_squared_error: 0.0097 - val_loss: 0.0139 - val_mean_squared_error: 0.0139\n",
            "\n",
            "Epoch 00024: val_loss did not improve from 0.67212\n",
            "\n",
            "Epoch 00024: ReduceLROnPlateau reducing learning rate to 5.000000413701855e-10.\n",
            "Epoch 25/100\n",
            "3/3 [==============================] - 0s 31ms/step - loss: 0.0100 - mean_squared_error: 0.0100 - val_loss: 0.0139 - val_mean_squared_error: 0.0139\n",
            "\n",
            "Epoch 00025: val_loss did not improve from 0.67212\n",
            "\n",
            "Epoch 00025: ReduceLROnPlateau reducing learning rate to 5.000000413701855e-11.\n",
            "Epoch 26/100\n",
            "3/3 [==============================] - 0s 41ms/step - loss: 0.0094 - mean_squared_error: 0.0094 - val_loss: 0.0139 - val_mean_squared_error: 0.0139\n",
            "\n",
            "Epoch 00026: val_loss did not improve from 0.67212\n",
            "\n",
            "Epoch 00026: ReduceLROnPlateau reducing learning rate to 5.000000413701855e-12.\n",
            "Epoch 27/100\n",
            "3/3 [==============================] - 0s 29ms/step - loss: 0.0096 - mean_squared_error: 0.0096 - val_loss: 0.0139 - val_mean_squared_error: 0.0139\n",
            "\n",
            "Epoch 00027: val_loss did not improve from 0.67212\n",
            "\n",
            "Epoch 00027: ReduceLROnPlateau reducing learning rate to 5.000000413701855e-13.\n",
            "Epoch 28/100\n",
            "3/3 [==============================] - 0s 29ms/step - loss: 0.0098 - mean_squared_error: 0.0098 - val_loss: 0.0139 - val_mean_squared_error: 0.0139\n",
            "\n",
            "Epoch 00028: val_loss did not improve from 0.67212\n",
            "\n",
            "Epoch 00028: ReduceLROnPlateau reducing learning rate to 5.0000005221220725e-14.\n",
            "Epoch 29/100\n",
            "3/3 [==============================] - 0s 27ms/step - loss: 0.0095 - mean_squared_error: 0.0095 - val_loss: 0.0139 - val_mean_squared_error: 0.0139\n",
            "\n",
            "Epoch 00029: val_loss did not improve from 0.67212\n",
            "\n",
            "Epoch 00029: ReduceLROnPlateau reducing learning rate to 5.000000589884709e-15.\n",
            "Epoch 30/100\n",
            "3/3 [==============================] - 0s 30ms/step - loss: 0.0098 - mean_squared_error: 0.0098 - val_loss: 0.0139 - val_mean_squared_error: 0.0139\n",
            "\n",
            "Epoch 00030: val_loss did not improve from 0.67212\n",
            "\n",
            "Epoch 00030: ReduceLROnPlateau reducing learning rate to 5.000000759291298e-16.\n",
            "Epoch 31/100\n",
            "3/3 [==============================] - 0s 34ms/step - loss: 0.0093 - mean_squared_error: 0.0093 - val_loss: 0.0139 - val_mean_squared_error: 0.0139\n",
            "\n",
            "Epoch 00031: val_loss did not improve from 0.67212\n",
            "\n",
            "Epoch 00031: ReduceLROnPlateau reducing learning rate to 5.000000547533061e-17.\n",
            "Epoch 32/100\n",
            "3/3 [==============================] - 0s 30ms/step - loss: 0.0099 - mean_squared_error: 0.0099 - val_loss: 0.0139 - val_mean_squared_error: 0.0139\n",
            "\n",
            "Epoch 00032: val_loss did not improve from 0.67212\n",
            "\n",
            "Epoch 00032: ReduceLROnPlateau reducing learning rate to 5.000000415184163e-18.\n",
            "Epoch 33/100\n",
            "3/3 [==============================] - 0s 31ms/step - loss: 0.0094 - mean_squared_error: 0.0094 - val_loss: 0.0139 - val_mean_squared_error: 0.0139\n",
            "\n",
            "Epoch 00033: val_loss did not improve from 0.67212\n",
            "\n",
            "Epoch 00033: ReduceLROnPlateau reducing learning rate to 5.000000332466102e-19.\n",
            "Epoch 34/100\n",
            "3/3 [==============================] - 0s 34ms/step - loss: 0.0097 - mean_squared_error: 0.0097 - val_loss: 0.0139 - val_mean_squared_error: 0.0139\n",
            "\n",
            "Epoch 00034: val_loss did not improve from 0.67212\n",
            "\n",
            "Epoch 00034: ReduceLROnPlateau reducing learning rate to 5.000000229068525e-20.\n",
            "Epoch 35/100\n",
            "3/3 [==============================] - 0s 31ms/step - loss: 0.0094 - mean_squared_error: 0.0094 - val_loss: 0.0139 - val_mean_squared_error: 0.0139\n",
            "\n",
            "Epoch 00035: val_loss did not improve from 0.67212\n",
            "\n",
            "Epoch 00035: ReduceLROnPlateau reducing learning rate to 5.00000016444504e-21.\n",
            "Epoch 36/100\n",
            "3/3 [==============================] - 0s 29ms/step - loss: 0.0097 - mean_squared_error: 0.0097 - val_loss: 0.0139 - val_mean_squared_error: 0.0139\n",
            "\n",
            "Epoch 00036: val_loss did not improve from 0.67212\n",
            "\n",
            "Epoch 00036: ReduceLROnPlateau reducing learning rate to 5.000000245224397e-22.\n",
            "Epoch 37/100\n",
            "3/3 [==============================] - 0s 32ms/step - loss: 0.0102 - mean_squared_error: 0.0102 - val_loss: 0.0139 - val_mean_squared_error: 0.0139\n",
            "\n",
            "Epoch 00037: val_loss did not improve from 0.67212\n",
            "\n",
            "Epoch 00037: ReduceLROnPlateau reducing learning rate to 5.0000003461985925e-23.\n",
            "Epoch 38/100\n",
            "3/3 [==============================] - 0s 29ms/step - loss: 0.0097 - mean_squared_error: 0.0097 - val_loss: 0.0139 - val_mean_squared_error: 0.0139\n",
            "\n",
            "Epoch 00038: val_loss did not improve from 0.67212\n",
            "\n",
            "Epoch 00038: ReduceLROnPlateau reducing learning rate to 5.000000472416337e-24.\n",
            "Epoch 39/100\n",
            "3/3 [==============================] - 0s 33ms/step - loss: 0.0099 - mean_squared_error: 0.0099 - val_loss: 0.0139 - val_mean_squared_error: 0.0139\n",
            "\n",
            "Epoch 00039: val_loss did not improve from 0.67212\n",
            "\n",
            "Epoch 00039: ReduceLROnPlateau reducing learning rate to 5.000000393530247e-25.\n",
            "Epoch 40/100\n",
            "3/3 [==============================] - 0s 29ms/step - loss: 0.0096 - mean_squared_error: 0.0096 - val_loss: 0.0139 - val_mean_squared_error: 0.0139\n",
            "\n",
            "Epoch 00040: val_loss did not improve from 0.67212\n",
            "\n",
            "Epoch 00040: ReduceLROnPlateau reducing learning rate to 5.000000590745473e-26.\n",
            "Epoch 41/100\n",
            "3/3 [==============================] - 0s 29ms/step - loss: 0.0094 - mean_squared_error: 0.0094 - val_loss: 0.0139 - val_mean_squared_error: 0.0139\n",
            "\n",
            "Epoch 00041: val_loss did not improve from 0.67212\n",
            "\n",
            "Epoch 00041: ReduceLROnPlateau reducing learning rate to 5.000000714004989e-27.\n",
            "Epoch 42/100\n",
            "3/3 [==============================] - 0s 31ms/step - loss: 0.0099 - mean_squared_error: 0.0099 - val_loss: 0.0139 - val_mean_squared_error: 0.0139\n",
            "\n",
            "Epoch 00042: val_loss did not improve from 0.67212\n",
            "\n",
            "Epoch 00042: ReduceLROnPlateau reducing learning rate to 5.00000071400499e-28.\n",
            "Epoch 43/100\n",
            "3/3 [==============================] - 0s 30ms/step - loss: 0.0095 - mean_squared_error: 0.0095 - val_loss: 0.0139 - val_mean_squared_error: 0.0139\n",
            "\n",
            "Epoch 00043: val_loss did not improve from 0.67212\n",
            "\n",
            "Epoch 00043: ReduceLROnPlateau reducing learning rate to 5.000000617708492e-29.\n",
            "Epoch 44/100\n",
            "3/3 [==============================] - 0s 30ms/step - loss: 0.0096 - mean_squared_error: 0.0096 - val_loss: 0.0139 - val_mean_squared_error: 0.0139\n",
            "\n",
            "Epoch 00044: val_loss did not improve from 0.67212\n",
            "\n",
            "Epoch 00044: ReduceLROnPlateau reducing learning rate to 5.0000006177084924e-30.\n",
            "Epoch 45/100\n",
            "3/3 [==============================] - 0s 31ms/step - loss: 0.0091 - mean_squared_error: 0.0091 - val_loss: 0.0139 - val_mean_squared_error: 0.0139\n",
            "\n",
            "Epoch 00045: val_loss did not improve from 0.67212\n",
            "\n",
            "Epoch 00045: ReduceLROnPlateau reducing learning rate to 5.0000007681717695e-31.\n",
            "Epoch 46/100\n",
            "3/3 [==============================] - 0s 29ms/step - loss: 0.0100 - mean_squared_error: 0.0100 - val_loss: 0.0139 - val_mean_squared_error: 0.0139\n",
            "\n",
            "Epoch 00046: val_loss did not improve from 0.67212\n",
            "\n",
            "Epoch 00046: ReduceLROnPlateau reducing learning rate to 5.000000956250865e-32.\n",
            "Epoch 47/100\n",
            "3/3 [==============================] - 0s 33ms/step - loss: 0.0101 - mean_squared_error: 0.0101 - val_loss: 0.0139 - val_mean_squared_error: 0.0139\n",
            "\n",
            "Epoch 00047: val_loss did not improve from 0.67212\n",
            "\n",
            "Epoch 00047: ReduceLROnPlateau reducing learning rate to 5.0000010738003005e-33.\n",
            "Epoch 48/100\n",
            "3/3 [==============================] - 0s 29ms/step - loss: 0.0094 - mean_squared_error: 0.0094 - val_loss: 0.0139 - val_mean_squared_error: 0.0139\n",
            "\n",
            "Epoch 00048: val_loss did not improve from 0.67212\n",
            "\n",
            "Epoch 00048: ReduceLROnPlateau reducing learning rate to 5.000001220737094e-34.\n",
            "Epoch 49/100\n",
            "3/3 [==============================] - 0s 30ms/step - loss: 0.0097 - mean_squared_error: 0.0097 - val_loss: 0.0139 - val_mean_squared_error: 0.0139\n",
            "\n",
            "Epoch 00049: val_loss did not improve from 0.67212\n",
            "\n",
            "Epoch 00049: ReduceLROnPlateau reducing learning rate to 5.000001037066102e-35.\n",
            "Epoch 50/100\n",
            "3/3 [==============================] - 0s 29ms/step - loss: 0.0101 - mean_squared_error: 0.0101 - val_loss: 0.0139 - val_mean_squared_error: 0.0139\n",
            "\n",
            "Epoch 00050: val_loss did not improve from 0.67212\n",
            "\n",
            "Epoch 00050: ReduceLROnPlateau reducing learning rate to 5.000000807477361e-36.\n",
            "Epoch 51/100\n",
            "3/3 [==============================] - 0s 30ms/step - loss: 0.0097 - mean_squared_error: 0.0097 - val_loss: 0.0139 - val_mean_squared_error: 0.0139\n",
            "\n",
            "Epoch 00051: val_loss did not improve from 0.67212\n",
            "\n",
            "Epoch 00051: ReduceLROnPlateau reducing learning rate to 5.000000807477361e-37.\n",
            "Epoch 52/100\n",
            "3/3 [==============================] - 0s 36ms/step - loss: 0.0096 - mean_squared_error: 0.0096 - val_loss: 0.0139 - val_mean_squared_error: 0.0139\n",
            "\n",
            "Epoch 00052: val_loss did not improve from 0.67212\n",
            "\n",
            "Epoch 00052: ReduceLROnPlateau reducing learning rate to 5.000000628111158e-38.\n",
            "Epoch 53/100\n",
            "3/3 [==============================] - 0s 33ms/step - loss: 0.0097 - mean_squared_error: 0.0097 - val_loss: 0.0139 - val_mean_squared_error: 0.0139\n",
            "\n",
            "Epoch 00053: val_loss did not improve from 0.67212\n",
            "\n",
            "Epoch 00053: ReduceLROnPlateau reducing learning rate to 5.000000516007281e-39.\n",
            "Epoch 54/100\n",
            "3/3 [==============================] - 0s 34ms/step - loss: 0.0097 - mean_squared_error: 0.0097 - val_loss: 0.0139 - val_mean_squared_error: 0.0139\n",
            "\n",
            "Epoch 00054: val_loss did not improve from 0.67212\n",
            "\n",
            "Epoch 00054: ReduceLROnPlateau reducing learning rate to 5.000001076526666e-40.\n",
            "Epoch 55/100\n",
            "3/3 [==============================] - 0s 30ms/step - loss: 0.0093 - mean_squared_error: 0.0093 - val_loss: 0.0139 - val_mean_squared_error: 0.0139\n",
            "\n",
            "Epoch 00055: val_loss did not improve from 0.67212\n",
            "\n",
            "Epoch 00055: ReduceLROnPlateau reducing learning rate to 5.000001076526667e-41.\n",
            "Epoch 56/100\n",
            "3/3 [==============================] - 0s 32ms/step - loss: 0.0095 - mean_squared_error: 0.0095 - val_loss: 0.0139 - val_mean_squared_error: 0.0139\n",
            "\n",
            "Epoch 00056: val_loss did not improve from 0.67212\n",
            "\n",
            "Epoch 00056: ReduceLROnPlateau reducing learning rate to 4.99997305055738e-42.\n",
            "Epoch 57/100\n",
            "3/3 [==============================] - 0s 30ms/step - loss: 0.0095 - mean_squared_error: 0.0095 - val_loss: 0.0139 - val_mean_squared_error: 0.0139\n",
            "\n",
            "Epoch 00057: val_loss did not improve from 0.67212\n",
            "\n",
            "Epoch 00057: ReduceLROnPlateau reducing learning rate to 4.9998329207109475e-43.\n",
            "Epoch 58/100\n",
            "3/3 [==============================] - 0s 31ms/step - loss: 0.0098 - mean_squared_error: 0.0098 - val_loss: 0.0139 - val_mean_squared_error: 0.0139\n",
            "\n",
            "Epoch 00058: val_loss did not improve from 0.67212\n",
            "\n",
            "Epoch 00058: ReduceLROnPlateau reducing learning rate to 5.002635517639597e-44.\n",
            "Epoch 59/100\n",
            "3/3 [==============================] - 0s 34ms/step - loss: 0.0094 - mean_squared_error: 0.0094 - val_loss: 0.0139 - val_mean_squared_error: 0.0139\n",
            "\n",
            "Epoch 00059: val_loss did not improve from 0.67212\n",
            "\n",
            "Epoch 00059: ReduceLROnPlateau reducing learning rate to 5.0446744715693416e-45.\n",
            "Epoch 60/100\n",
            "3/3 [==============================] - 0s 32ms/step - loss: 0.0098 - mean_squared_error: 0.0098 - val_loss: 0.0139 - val_mean_squared_error: 0.0139\n",
            "\n",
            "Epoch 00060: val_loss did not improve from 0.67212\n",
            "\n",
            "Epoch 00060: ReduceLROnPlateau reducing learning rate to 5.6051938572992686e-46.\n",
            "Epoch 61/100\n",
            "3/3 [==============================] - 0s 33ms/step - loss: 0.0094 - mean_squared_error: 0.0094 - val_loss: 0.0139 - val_mean_squared_error: 0.0139\n",
            "\n",
            "Epoch 00061: val_loss did not improve from 0.67212\n",
            "Epoch 62/100\n",
            "3/3 [==============================] - 0s 32ms/step - loss: 0.0097 - mean_squared_error: 0.0097 - val_loss: 0.0139 - val_mean_squared_error: 0.0139\n",
            "\n",
            "Epoch 00062: val_loss did not improve from 0.67212\n",
            "Epoch 63/100\n",
            "3/3 [==============================] - 0s 30ms/step - loss: 0.0096 - mean_squared_error: 0.0096 - val_loss: 0.0139 - val_mean_squared_error: 0.0139\n",
            "\n",
            "Epoch 00063: val_loss did not improve from 0.67212\n",
            "Epoch 64/100\n",
            "3/3 [==============================] - 0s 29ms/step - loss: 0.0094 - mean_squared_error: 0.0094 - val_loss: 0.0139 - val_mean_squared_error: 0.0139\n",
            "\n",
            "Epoch 00064: val_loss did not improve from 0.67212\n",
            "Epoch 65/100\n",
            "3/3 [==============================] - 0s 36ms/step - loss: 0.0098 - mean_squared_error: 0.0098 - val_loss: 0.0139 - val_mean_squared_error: 0.0139\n",
            "\n",
            "Epoch 00065: val_loss did not improve from 0.67212\n",
            "Epoch 66/100\n",
            "3/3 [==============================] - 0s 33ms/step - loss: 0.0095 - mean_squared_error: 0.0095 - val_loss: 0.0139 - val_mean_squared_error: 0.0139\n",
            "\n",
            "Epoch 00066: val_loss did not improve from 0.67212\n",
            "Epoch 67/100\n",
            "3/3 [==============================] - 0s 30ms/step - loss: 0.0098 - mean_squared_error: 0.0098 - val_loss: 0.0139 - val_mean_squared_error: 0.0139\n",
            "\n",
            "Epoch 00067: val_loss did not improve from 0.67212\n",
            "Epoch 68/100\n",
            "3/3 [==============================] - 0s 30ms/step - loss: 0.0094 - mean_squared_error: 0.0094 - val_loss: 0.0139 - val_mean_squared_error: 0.0139\n",
            "\n",
            "Epoch 00068: val_loss did not improve from 0.67212\n",
            "Epoch 69/100\n",
            "3/3 [==============================] - 0s 31ms/step - loss: 0.0100 - mean_squared_error: 0.0100 - val_loss: 0.0139 - val_mean_squared_error: 0.0139\n",
            "\n",
            "Epoch 00069: val_loss did not improve from 0.67212\n",
            "Epoch 70/100\n",
            "3/3 [==============================] - 0s 31ms/step - loss: 0.0098 - mean_squared_error: 0.0098 - val_loss: 0.0139 - val_mean_squared_error: 0.0139\n",
            "\n",
            "Epoch 00070: val_loss did not improve from 0.67212\n",
            "Epoch 71/100\n",
            "3/3 [==============================] - 0s 30ms/step - loss: 0.0100 - mean_squared_error: 0.0100 - val_loss: 0.0139 - val_mean_squared_error: 0.0139\n",
            "\n",
            "Epoch 00071: val_loss did not improve from 0.67212\n",
            "Epoch 72/100\n",
            "3/3 [==============================] - 0s 33ms/step - loss: 0.0096 - mean_squared_error: 0.0096 - val_loss: 0.0139 - val_mean_squared_error: 0.0139\n",
            "\n",
            "Epoch 00072: val_loss did not improve from 0.67212\n",
            "Epoch 73/100\n",
            "3/3 [==============================] - 0s 29ms/step - loss: 0.0096 - mean_squared_error: 0.0096 - val_loss: 0.0139 - val_mean_squared_error: 0.0139\n",
            "\n",
            "Epoch 00073: val_loss did not improve from 0.67212\n",
            "Epoch 74/100\n",
            "3/3 [==============================] - 0s 29ms/step - loss: 0.0093 - mean_squared_error: 0.0093 - val_loss: 0.0139 - val_mean_squared_error: 0.0139\n",
            "\n",
            "Epoch 00074: val_loss did not improve from 0.67212\n",
            "Epoch 75/100\n",
            "3/3 [==============================] - 0s 31ms/step - loss: 0.0102 - mean_squared_error: 0.0102 - val_loss: 0.0139 - val_mean_squared_error: 0.0139\n",
            "\n",
            "Epoch 00075: val_loss did not improve from 0.67212\n",
            "Epoch 76/100\n",
            "3/3 [==============================] - 0s 31ms/step - loss: 0.0098 - mean_squared_error: 0.0098 - val_loss: 0.0139 - val_mean_squared_error: 0.0139\n",
            "\n",
            "Epoch 00076: val_loss did not improve from 0.67212\n",
            "Epoch 77/100\n",
            "3/3 [==============================] - 0s 34ms/step - loss: 0.0094 - mean_squared_error: 0.0094 - val_loss: 0.0139 - val_mean_squared_error: 0.0139\n",
            "\n",
            "Epoch 00077: val_loss did not improve from 0.67212\n",
            "Epoch 78/100\n",
            "3/3 [==============================] - 0s 29ms/step - loss: 0.0097 - mean_squared_error: 0.0097 - val_loss: 0.0139 - val_mean_squared_error: 0.0139\n",
            "\n",
            "Epoch 00078: val_loss did not improve from 0.67212\n",
            "Epoch 79/100\n",
            "3/3 [==============================] - 0s 31ms/step - loss: 0.0095 - mean_squared_error: 0.0095 - val_loss: 0.0139 - val_mean_squared_error: 0.0139\n",
            "\n",
            "Epoch 00079: val_loss did not improve from 0.67212\n",
            "Epoch 80/100\n",
            "3/3 [==============================] - 0s 31ms/step - loss: 0.0099 - mean_squared_error: 0.0099 - val_loss: 0.0139 - val_mean_squared_error: 0.0139\n",
            "\n",
            "Epoch 00080: val_loss did not improve from 0.67212\n",
            "Epoch 81/100\n",
            "3/3 [==============================] - 0s 31ms/step - loss: 0.0095 - mean_squared_error: 0.0095 - val_loss: 0.0139 - val_mean_squared_error: 0.0139\n",
            "\n",
            "Epoch 00081: val_loss did not improve from 0.67212\n",
            "Epoch 82/100\n",
            "3/3 [==============================] - 0s 36ms/step - loss: 0.0097 - mean_squared_error: 0.0097 - val_loss: 0.0139 - val_mean_squared_error: 0.0139\n",
            "\n",
            "Epoch 00082: val_loss did not improve from 0.67212\n",
            "Epoch 83/100\n",
            "3/3 [==============================] - 0s 31ms/step - loss: 0.0096 - mean_squared_error: 0.0096 - val_loss: 0.0139 - val_mean_squared_error: 0.0139\n",
            "\n",
            "Epoch 00083: val_loss did not improve from 0.67212\n",
            "Epoch 84/100\n",
            "3/3 [==============================] - 0s 32ms/step - loss: 0.0099 - mean_squared_error: 0.0099 - val_loss: 0.0139 - val_mean_squared_error: 0.0139\n",
            "\n",
            "Epoch 00084: val_loss did not improve from 0.67212\n",
            "Epoch 85/100\n",
            "3/3 [==============================] - 0s 30ms/step - loss: 0.0095 - mean_squared_error: 0.0095 - val_loss: 0.0139 - val_mean_squared_error: 0.0139\n",
            "\n",
            "Epoch 00085: val_loss did not improve from 0.67212\n",
            "Epoch 86/100\n",
            "3/3 [==============================] - 0s 31ms/step - loss: 0.0091 - mean_squared_error: 0.0091 - val_loss: 0.0139 - val_mean_squared_error: 0.0139\n",
            "\n",
            "Epoch 00086: val_loss did not improve from 0.67212\n",
            "Epoch 87/100\n",
            "3/3 [==============================] - 0s 30ms/step - loss: 0.0099 - mean_squared_error: 0.0099 - val_loss: 0.0139 - val_mean_squared_error: 0.0139\n",
            "\n",
            "Epoch 00087: val_loss did not improve from 0.67212\n",
            "Epoch 88/100\n",
            "3/3 [==============================] - 0s 29ms/step - loss: 0.0098 - mean_squared_error: 0.0098 - val_loss: 0.0139 - val_mean_squared_error: 0.0139\n",
            "\n",
            "Epoch 00088: val_loss did not improve from 0.67212\n",
            "Epoch 89/100\n",
            "3/3 [==============================] - 0s 30ms/step - loss: 0.0100 - mean_squared_error: 0.0100 - val_loss: 0.0139 - val_mean_squared_error: 0.0139\n",
            "\n",
            "Epoch 00089: val_loss did not improve from 0.67212\n",
            "Epoch 90/100\n",
            "3/3 [==============================] - 0s 35ms/step - loss: 0.0095 - mean_squared_error: 0.0095 - val_loss: 0.0139 - val_mean_squared_error: 0.0139\n",
            "\n",
            "Epoch 00090: val_loss did not improve from 0.67212\n",
            "Epoch 91/100\n",
            "3/3 [==============================] - 0s 31ms/step - loss: 0.0098 - mean_squared_error: 0.0098 - val_loss: 0.0139 - val_mean_squared_error: 0.0139\n",
            "\n",
            "Epoch 00091: val_loss did not improve from 0.67212\n",
            "Epoch 92/100\n",
            "3/3 [==============================] - 0s 31ms/step - loss: 0.0096 - mean_squared_error: 0.0096 - val_loss: 0.0139 - val_mean_squared_error: 0.0139\n",
            "\n",
            "Epoch 00092: val_loss did not improve from 0.67212\n",
            "Epoch 93/100\n",
            "3/3 [==============================] - 0s 30ms/step - loss: 0.0098 - mean_squared_error: 0.0098 - val_loss: 0.0139 - val_mean_squared_error: 0.0139\n",
            "\n",
            "Epoch 00093: val_loss did not improve from 0.67212\n",
            "Epoch 94/100\n",
            "3/3 [==============================] - 0s 28ms/step - loss: 0.0097 - mean_squared_error: 0.0097 - val_loss: 0.0139 - val_mean_squared_error: 0.0139\n",
            "\n",
            "Epoch 00094: val_loss did not improve from 0.67212\n",
            "Epoch 95/100\n",
            "3/3 [==============================] - 0s 30ms/step - loss: 0.0097 - mean_squared_error: 0.0097 - val_loss: 0.0139 - val_mean_squared_error: 0.0139\n",
            "\n",
            "Epoch 00095: val_loss did not improve from 0.67212\n",
            "Epoch 96/100\n",
            "3/3 [==============================] - 0s 33ms/step - loss: 0.0096 - mean_squared_error: 0.0096 - val_loss: 0.0139 - val_mean_squared_error: 0.0139\n",
            "\n",
            "Epoch 00096: val_loss did not improve from 0.67212\n",
            "Epoch 97/100\n",
            "3/3 [==============================] - 0s 29ms/step - loss: 0.0093 - mean_squared_error: 0.0093 - val_loss: 0.0139 - val_mean_squared_error: 0.0139\n",
            "\n",
            "Epoch 00097: val_loss did not improve from 0.67212\n",
            "Epoch 98/100\n",
            "3/3 [==============================] - 0s 30ms/step - loss: 0.0102 - mean_squared_error: 0.0102 - val_loss: 0.0139 - val_mean_squared_error: 0.0139\n",
            "\n",
            "Epoch 00098: val_loss did not improve from 0.67212\n",
            "Epoch 99/100\n",
            "3/3 [==============================] - 0s 34ms/step - loss: 0.0101 - mean_squared_error: 0.0101 - val_loss: 0.0139 - val_mean_squared_error: 0.0139\n",
            "\n",
            "Epoch 00099: val_loss did not improve from 0.67212\n",
            "Epoch 100/100\n",
            "3/3 [==============================] - 0s 30ms/step - loss: 0.0097 - mean_squared_error: 0.0097 - val_loss: 0.0139 - val_mean_squared_error: 0.0139\n",
            "\n",
            "Epoch 00100: val_loss did not improve from 0.67212\n"
          ],
          "name": "stdout"
        }
      ]
    },
    {
      "cell_type": "code",
      "metadata": {
        "colab": {
          "base_uri": "https://localhost:8080/"
        },
        "id": "6CsK8EGvZD0G",
        "outputId": "89b27266-3155-455a-ee7c-de0f794d0821"
      },
      "source": [
        "print(model.summary())"
      ],
      "execution_count": 49,
      "outputs": [
        {
          "output_type": "stream",
          "text": [
            "Model: \"sequential_1\"\n",
            "_________________________________________________________________\n",
            "Layer (type)                 Output Shape              Param #   \n",
            "=================================================================\n",
            "lstm_1 (LSTM)                (None, 256)               265216    \n",
            "_________________________________________________________________\n",
            "dense_2 (Dense)              (None, 64)                16448     \n",
            "_________________________________________________________________\n",
            "dense_3 (Dense)              (None, 1)                 65        \n",
            "=================================================================\n",
            "Total params: 281,729\n",
            "Trainable params: 281,729\n",
            "Non-trainable params: 0\n",
            "_________________________________________________________________\n",
            "None\n"
          ],
          "name": "stdout"
        }
      ]
    },
    {
      "cell_type": "code",
      "metadata": {
        "_uuid": "1184c60090c9815a695d2b1748a1b824813528d2",
        "colab": {
          "base_uri": "https://localhost:8080/",
          "height": 573
        },
        "id": "urRKbAFOUh4B",
        "outputId": "31574b27-52da-4370-b1ec-0bca15a345b5"
      },
      "source": [
        "import matplotlib.pyplot as plt\n",
        "\n",
        "plt.plot(history.history['mean_squared_error'])\n",
        "plt.plot(history.history['val_mean_squared_error'])\n",
        "plt.title('model mean squared error')\n",
        "plt.ylabel('accuracy')\n",
        "plt.xlabel('epoch')\n",
        "plt.legend(['train', 'test'], loc='upper left')\n",
        "plt.show()\n",
        "# summarize history for loss\n",
        "plt.plot(history.history['loss'])\n",
        "plt.plot(history.history['val_loss'])\n",
        "plt.title('model loss')\n",
        "plt.ylabel('loss')\n",
        "plt.xlabel('epoch')\n",
        "plt.legend(['train', 'test'], loc='upper left')\n",
        "plt.show()"
      ],
      "execution_count": 50,
      "outputs": [
        {
          "output_type": "display_data",
          "data": {
            "image/png": "[encoded data removed]",
            "text/plain": [
              "<Figure size 432x288 with 1 Axes>"
            ]
          },
          "metadata": {
            "tags": [],
            "needs_background": "light"
          }
        },
        {
          "output_type": "display_data",
          "data": {
            "image/png": "[encoded data removed]",
            "text/plain": [
              "<Figure size 432x288 with 1 Axes>"
            ]
          },
          "metadata": {
            "tags": [],
            "needs_background": "light"
          }
        }
      ]
    },
    {
      "cell_type": "markdown",
      "metadata": {
        "id": "zbILQylYUh4C"
      },
      "source": [
        "## The score below is best on kaggle kernels till date."
      ]
    },
    {
      "cell_type": "markdown",
      "metadata": {
        "id": "ILd8qcq5Uh4C"
      },
      "source": [
        "## The mean square error for validation set is 0.000328 which is very low and good as well."
      ]
    },
    {
      "cell_type": "code",
      "metadata": {
        "_uuid": "a886a1e531970ccd702207858d59aa98a62b1a14",
        "colab": {
          "base_uri": "https://localhost:8080/"
        },
        "id": "leqTaZ8_Uh4C",
        "outputId": "ef758213-35dc-4bba-d25a-3f0a82bc04cc"
      },
      "source": [
        "def model_score(model, X_train, y_train, X_test, y_test):\n",
        "    trainScore = model.evaluate(X_train, y_train, verbose=0)\n",
        "    print('Train Score: %.5f MSE (%.2f RMSE)' % (trainScore[0], math.sqrt(trainScore[0])))\n",
        "    testScore = model.evaluate(X_test, y_test, verbose=0)\n",
        "    print('Test Score: %.5f MSE (%.2f RMSE)' % (testScore[0], math.sqrt(testScore[0])))\n",
        "    return trainScore[0], testScore[0]\n",
        "\n",
        "model_score(model, trainX, trainY , testX, testY)"
      ],
      "execution_count": 51,
      "outputs": [
        {
          "output_type": "stream",
          "text": [
            "Train Score: 0.00965 MSE (0.10 RMSE)\n",
            "Test Score: 0.01386 MSE (0.12 RMSE)\n"
          ],
          "name": "stdout"
        },
        {
          "output_type": "execute_result",
          "data": {
            "text/plain": [
              "(0.009645204059779644, 0.013862867839634418)"
            ]
          },
          "metadata": {
            "tags": []
          },
          "execution_count": 51
        }
      ]
    },
    {
      "cell_type": "markdown",
      "metadata": {
        "id": "jEbPFm2BUh4D"
      },
      "source": [
        "**Inverse transforming the scaled vector earlier and checking for the error visually in the graph.**"
      ]
    },
    {
      "cell_type": "code",
      "metadata": {
        "_uuid": "34c8dd72e7adb1a009eb99e65f9e2d2f87322022",
        "colab": {
          "base_uri": "https://localhost:8080/"
        },
        "id": "q197WtvDUh4D",
        "outputId": "e476e8aa-3368-4e18-fa00-a2ab0dff947c"
      },
      "source": [
        "pred = model.predict(testX)\n",
        "pred = scaler.inverse_transform(pred)\n",
        "pred[:10]"
      ],
      "execution_count": 52,
      "outputs": [
        {
          "output_type": "execute_result",
          "data": {
            "text/plain": [
              "array([[48.01369 ],\n",
              "       [48.38963 ],\n",
              "       [48.743374],\n",
              "       [49.0966  ],\n",
              "       [48.940422],\n",
              "       [48.680557],\n",
              "       [48.867985],\n",
              "       [49.042103],\n",
              "       [49.363686],\n",
              "       [50.088795]], dtype=float32)"
            ]
          },
          "metadata": {
            "tags": []
          },
          "execution_count": 52
        }
      ]
    },
    {
      "cell_type": "code",
      "metadata": {
        "_uuid": "94808f96affd073b0126a47b6c8cfb747bc39b1e",
        "colab": {
          "base_uri": "https://localhost:8080/"
        },
        "id": "SViKQqoKUh4E",
        "outputId": "d9018f63-94a7-4bd7-c0de-992d45528337"
      },
      "source": [
        "testY = testY.reshape(testY.shape[0] , 1)\n",
        "testY = scaler.inverse_transform(testY)\n",
        "testY[:10]"
      ],
      "execution_count": 53,
      "outputs": [
        {
          "output_type": "execute_result",
          "data": {
            "text/plain": [
              "array([[50.251427],\n",
              "       [51.028572],\n",
              "       [51.387142],\n",
              "       [50.57143 ],\n",
              "       [50.535713],\n",
              "       [51.145714],\n",
              "       [51.11    ],\n",
              "       [52.131428],\n",
              "       [53.4     ],\n",
              "       [53.835712]], dtype=float32)"
            ]
          },
          "metadata": {
            "tags": []
          },
          "execution_count": 53
        }
      ]
    },
    {
      "cell_type": "markdown",
      "metadata": {
        "id": "KdaAxvz2Uh4F"
      },
      "source": [
        "## The space between the predicted (red) and actual (blue) line is self explanatory for the model tuning and performance."
      ]
    },
    {
      "cell_type": "code",
      "metadata": {
        "_uuid": "16d755029d8cd6b666d4e547841eb37d03b21e08",
        "colab": {
          "base_uri": "https://localhost:8080/",
          "height": 475
        },
        "id": "1EeUQH0oUh4F",
        "outputId": "e7f85be0-60fa-4d05-9c73-4960d4b6d689"
      },
      "source": [
        "print(\"Red - Predicted Stock Prices  ,  Blue - Actual Stock Prices\")\n",
        "plt.rcParams[\"figure.figsize\"] = (15,7)\n",
        "plt.plot(testY , 'b')\n",
        "plt.plot(pred , 'r')\n",
        "plt.xlabel('Time')\n",
        "plt.ylabel('Stock Prices')\n",
        "plt.title('Check the accuracy of the model with time')\n",
        "plt.grid(True)\n",
        "plt.show()"
      ],
      "execution_count": 54,
      "outputs": [
        {
          "output_type": "stream",
          "text": [
            "Red - Predicted Stock Prices  ,  Blue - Actual Stock Prices\n"
          ],
          "name": "stdout"
        },
        {
          "output_type": "display_data",
          "data": {
            "image/png": "[encoded data removed]",
            "text/plain": [
              "<Figure size 1080x504 with 1 Axes>"
            ]
          },
          "metadata": {
            "tags": [],
            "needs_background": "light"
          }
        }
      ]
    },
    {
      "cell_type": "code",
      "metadata": {
        "_uuid": "813fd442e6cfdd9945eb3bc1ae69561bd1ebaca7",
        "collapsed": true,
        "id": "FUZl43SNUh4F"
      },
      "source": [
        ""
      ],
      "execution_count": null,
      "outputs": []
    }
  ]
}