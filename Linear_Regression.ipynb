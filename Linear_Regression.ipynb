{
  "nbformat": 4,
  "nbformat_minor": 0,
  "metadata": {
    "colab": {
      "name": "Linear Regression.ipynb",
      "provenance": [],
      "authorship_tag": "ABX9TyPPXKO8wxV5Junv457197cN",
      "include_colab_link": true
    },
    "kernelspec": {
      "name": "python3",
      "display_name": "Python 3"
    }
  },
  "cells": [
    {
      "cell_type": "markdown",
      "metadata": {
        "id": "view-in-github",
        "colab_type": "text"
      },
      "source": [
        "<a href=\"https://colab.research.google.com/github/HarmanBhutani/ML_projects/blob/main/Linear_Regression.ipynb\" target=\"_parent\"><img src=\"https://colab.research.google.com/assets/colab-badge.svg\" alt=\"Open In Colab\"/></a>"
      ]
    },
    {
      "cell_type": "code",
      "metadata": {
        "id": "Q92QzjY_h43l"
      },
      "source": [
        "from __future__ import absolute_import, division, print_function"
      ],
      "execution_count": 1,
      "outputs": []
    },
    {
      "cell_type": "code",
      "metadata": {
        "id": "Xd9weqheh8ll"
      },
      "source": [
        "import tensorflow as tf\n",
        "import numpy as np\n",
        "rng = np.random"
      ],
      "execution_count": 2,
      "outputs": []
    },
    {
      "cell_type": "code",
      "metadata": {
        "id": "h1EQRhlEh8kc"
      },
      "source": [
        "\n",
        "# Parameters.\n",
        "learning_rate = 0.01\n",
        "training_steps = 1000\n",
        "display_step = 50"
      ],
      "execution_count": 3,
      "outputs": []
    },
    {
      "cell_type": "code",
      "metadata": {
        "id": "a8B6k70Wh8hH"
      },
      "source": [
        "# Training Data.\n",
        "X = np.array([3.3,4.4,5.5,6.71,6.93,4.168,9.779,6.182,7.59,2.167,\n",
        "              7.042,10.791,5.313,7.997,5.654,9.27,3.1])\n",
        "Y = np.array([1.7,2.76,2.09,3.19,1.694,1.573,3.366,2.596,2.53,1.221,\n",
        "              2.827,3.465,1.65,2.904,2.42,2.94,1.3])"
      ],
      "execution_count": 4,
      "outputs": []
    },
    {
      "cell_type": "code",
      "metadata": {
        "id": "-1hpozXch8fF"
      },
      "source": [
        "\n",
        "# Weight and Bias, initialized randomly.\n",
        "W = tf.Variable(rng.randn(), name=\"weight\")\n",
        "b = tf.Variable(rng.randn(), name=\"bias\")\n",
        "\n",
        "# Linear regression (Wx + b).\n",
        "def linear_regression(x):\n",
        "    return W * x + b\n",
        "\n",
        "# Mean square error.\n",
        "def mean_square(y_pred, y_true):\n",
        "    return tf.reduce_mean(tf.square(y_pred - y_true))\n",
        "\n",
        "# Stochastic Gradient Descent Optimizer.\n",
        "optimizer = tf.optimizers.SGD(learning_rate)"
      ],
      "execution_count": 5,
      "outputs": []
    },
    {
      "cell_type": "code",
      "metadata": {
        "id": "ig6pGW9mh8Zx"
      },
      "source": [
        " # Optimization process. \n",
        "def run_optimization():\n",
        "    # Wrap computation inside a GradientTape for automatic differentiation.\n",
        "    with tf.GradientTape() as g:\n",
        "        pred = linear_regression(X)\n",
        "        loss = mean_square(pred, Y)\n",
        "\n",
        "    # Compute gradients.\n",
        "    gradients = g.gradient(loss, [W, b])\n",
        "    \n",
        "    # Update W and b following gradients.\n",
        "    optimizer.apply_gradients(zip(gradients, [W, b]))"
      ],
      "execution_count": 8,
      "outputs": []
    },
    {
      "cell_type": "code",
      "metadata": {
        "colab": {
          "base_uri": "https://localhost:8080/"
        },
        "id": "p2tmXBvph8XE",
        "outputId": "347e71fd-c2c8-406b-ba90-8018b76f7515"
      },
      "source": [
        "# Run training for the given number of steps.\n",
        "for step in range(1, training_steps + 1):\n",
        "    # Run the optimization to update W and b values.\n",
        "    run_optimization()\n",
        "    \n",
        "    if step % display_step == 0:\n",
        "        pred = linear_regression(X)\n",
        "        loss = mean_square(pred, Y)\n",
        "        print(\"step: %i, loss: %f, W: %f, b: %f\" % (step, loss, W.numpy(), b.numpy()))"
      ],
      "execution_count": 9,
      "outputs": [
        {
          "output_type": "stream",
          "text": [
            "step: 50, loss: 0.154479, W: 0.261627, b: 0.727959\n",
            "step: 100, loss: 0.154345, W: 0.260484, b: 0.736066\n",
            "step: 150, loss: 0.154240, W: 0.259471, b: 0.743245\n",
            "step: 200, loss: 0.154157, W: 0.258575, b: 0.749603\n",
            "step: 250, loss: 0.154093, W: 0.257780, b: 0.755233\n",
            "step: 300, loss: 0.154042, W: 0.257077, b: 0.760219\n",
            "step: 350, loss: 0.154002, W: 0.256454, b: 0.764634\n",
            "step: 400, loss: 0.153971, W: 0.255903, b: 0.768544\n",
            "step: 450, loss: 0.153947, W: 0.255414, b: 0.772006\n",
            "step: 500, loss: 0.153927, W: 0.254982, b: 0.775073\n",
            "step: 550, loss: 0.153912, W: 0.254599, b: 0.777788\n",
            "step: 600, loss: 0.153901, W: 0.254260, b: 0.780193\n",
            "step: 650, loss: 0.153891, W: 0.253959, b: 0.782322\n",
            "step: 700, loss: 0.153884, W: 0.253693, b: 0.784208\n",
            "step: 750, loss: 0.153878, W: 0.253458, b: 0.785878\n",
            "step: 800, loss: 0.153874, W: 0.253249, b: 0.787357\n",
            "step: 850, loss: 0.153870, W: 0.253064, b: 0.788666\n",
            "step: 900, loss: 0.153868, W: 0.252901, b: 0.789826\n",
            "step: 950, loss: 0.153865, W: 0.252756, b: 0.790853\n",
            "step: 1000, loss: 0.153864, W: 0.252628, b: 0.791763\n"
          ],
          "name": "stdout"
        }
      ]
    },
    {
      "cell_type": "code",
      "metadata": {
        "id": "YKVrO0hIh8U4"
      },
      "source": [
        "import matplotlib.pyplot as plt"
      ],
      "execution_count": 10,
      "outputs": []
    },
    {
      "cell_type": "code",
      "metadata": {
        "colab": {
          "base_uri": "https://localhost:8080/",
          "height": 265
        },
        "id": "9a2PRQMNh8SU",
        "outputId": "704a02a1-341d-4daa-a783-10160cac6d50"
      },
      "source": [
        "# Graphic display\n",
        "plt.plot(X, Y, 'ro', label='Original data')\n",
        "plt.plot(X, np.array(W * X + b), label='Fitted line')\n",
        "plt.legend()\n",
        "plt.show()"
      ],
      "execution_count": 11,
      "outputs": [
        {
          "output_type": "display_data",
          "data": {
            "image/png": "[encoded data removed]",
            "text/plain": [
              "<Figure size 432x288 with 1 Axes>"
            ]
          },
          "metadata": {
            "tags": [],
            "needs_background": "light"
          }
        }
      ]
    }
  ]
}