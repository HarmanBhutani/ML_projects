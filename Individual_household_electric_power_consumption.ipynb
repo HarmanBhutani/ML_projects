{
  "nbformat": 4,
  "nbformat_minor": 0,
  "metadata": {
    "colab": {
      "name": "Individual-household-electric-power-consumption.ipynb",
      "provenance": [],
      "authorship_tag": "ABX9TyPLVzYeELGHExN992rAreVT",
      "include_colab_link": true
    },
    "kernelspec": {
      "name": "python3",
      "display_name": "Python 3"
    }
  },
  "cells": [
    {
      "cell_type": "markdown",
      "metadata": {
        "id": "view-in-github",
        "colab_type": "text"
      },
      "source": [
        "<a href=\"https://colab.research.google.com/github/HarmanBhutani/ML_projects/blob/main/Individual_household_electric_power_consumption.ipynb\" target=\"_parent\"><img src=\"https://colab.research.google.com/assets/colab-badge.svg\" alt=\"Open In Colab\"/></a>"
      ]
    },
    {
      "cell_type": "code",
      "metadata": {
        "id": "PSNbG55wa4Tk"
      },
      "source": [
        "\n",
        "# Let`s import all packages that we may need:\n",
        "\n",
        "import sys \n",
        "import numpy as np # linear algebra\n",
        "from scipy.stats import randint\n",
        "import pandas as pd # data processing, CSV file I/O (e.g. pd.read_csv), data manipulation as in SQL\n",
        "import matplotlib.pyplot as plt # this is used for the plot the graph \n",
        "import seaborn as sns # used for plot interactive graph. \n",
        "from sklearn.model_selection import train_test_split # to split the data into two parts\n",
        "from sklearn.model_selection import KFold # use for cross validation\n",
        "from sklearn.preprocessing import StandardScaler # for normalization\n",
        "from sklearn.preprocessing import MinMaxScaler\n",
        "from sklearn.pipeline import Pipeline # pipeline making\n",
        "from sklearn.model_selection import cross_val_score\n",
        "from sklearn.feature_selection import SelectFromModel\n",
        "from sklearn import metrics # for the check the error and accuracy of the model\n",
        "from sklearn.metrics import mean_squared_error,r2_score\n",
        "\n",
        "## for Deep-learing:\n",
        "import keras\n",
        "from keras.layers import Dense\n",
        "from keras.models import Sequential\n",
        "from keras.utils import to_categorical\n",
        "from keras.optimizers import SGD \n",
        "from keras.callbacks import EarlyStopping\n",
        "from keras.utils import np_utils\n",
        "import itertools\n",
        "from keras.layers import LSTM\n",
        "from keras.layers.convolutional import Conv1D\n",
        "from keras.layers.convolutional import MaxPooling1D\n",
        "from keras.layers import Dropout"
      ],
      "execution_count": 2,
      "outputs": []
    },
    {
      "cell_type": "code",
      "metadata": {
        "id": "cQC0ENApbjo1"
      },
      "source": [
        "df = pd.read_csv('household_power_consumption.txt', sep=';', \n",
        "                 parse_dates={'dt' : ['Date', 'Time']}, infer_datetime_format=True, \n",
        "                 low_memory=False, na_values=['nan','?'], index_col='dt')"
      ],
      "execution_count": 5,
      "outputs": []
    },
    {
      "cell_type": "code",
      "metadata": {
        "id": "AappeTOMbj5o",
        "outputId": "a61a1c9b-3e53-41e6-a03e-a8a520a329c4",
        "colab": {
          "base_uri": "https://localhost:8080/",
          "height": 225
        }
      },
      "source": [
        "df.head()"
      ],
      "execution_count": 6,
      "outputs": [
        {
          "output_type": "execute_result",
          "data": {
            "text/html": [
              "<div>\n",
              "<style scoped>\n",
              "    .dataframe tbody tr th:only-of-type {\n",
              "        vertical-align: middle;\n",
              "    }\n",
              "\n",
              "    .dataframe tbody tr th {\n",
              "        vertical-align: top;\n",
              "    }\n",
              "\n",
              "    .dataframe thead th {\n",
              "        text-align: right;\n",
              "    }\n",
              "</style>\n",
              "<table border=\"1\" class=\"dataframe\">\n",
              "  <thead>\n",
              "    <tr style=\"text-align: right;\">\n",
              "      <th></th>\n",
              "      <th>Global_active_power</th>\n",
              "      <th>Global_reactive_power</th>\n",
              "      <th>Voltage</th>\n",
              "      <th>Global_intensity</th>\n",
              "      <th>Sub_metering_1</th>\n",
              "      <th>Sub_metering_2</th>\n",
              "      <th>Sub_metering_3</th>\n",
              "    </tr>\n",
              "    <tr>\n",
              "      <th>dt</th>\n",
              "      <th></th>\n",
              "      <th></th>\n",
              "      <th></th>\n",
              "      <th></th>\n",
              "      <th></th>\n",
              "      <th></th>\n",
              "      <th></th>\n",
              "    </tr>\n",
              "  </thead>\n",
              "  <tbody>\n",
              "    <tr>\n",
              "      <th>2006-12-16 17:24:00</th>\n",
              "      <td>4.216</td>\n",
              "      <td>0.418</td>\n",
              "      <td>234.84</td>\n",
              "      <td>18.4</td>\n",
              "      <td>0.0</td>\n",
              "      <td>1.0</td>\n",
              "      <td>17.0</td>\n",
              "    </tr>\n",
              "    <tr>\n",
              "      <th>2006-12-16 17:25:00</th>\n",
              "      <td>5.360</td>\n",
              "      <td>0.436</td>\n",
              "      <td>233.63</td>\n",
              "      <td>23.0</td>\n",
              "      <td>0.0</td>\n",
              "      <td>1.0</td>\n",
              "      <td>16.0</td>\n",
              "    </tr>\n",
              "    <tr>\n",
              "      <th>2006-12-16 17:26:00</th>\n",
              "      <td>5.374</td>\n",
              "      <td>0.498</td>\n",
              "      <td>233.29</td>\n",
              "      <td>23.0</td>\n",
              "      <td>0.0</td>\n",
              "      <td>2.0</td>\n",
              "      <td>17.0</td>\n",
              "    </tr>\n",
              "    <tr>\n",
              "      <th>2006-12-16 17:27:00</th>\n",
              "      <td>5.388</td>\n",
              "      <td>0.502</td>\n",
              "      <td>233.74</td>\n",
              "      <td>23.0</td>\n",
              "      <td>0.0</td>\n",
              "      <td>1.0</td>\n",
              "      <td>17.0</td>\n",
              "    </tr>\n",
              "    <tr>\n",
              "      <th>2006-12-16 17:28:00</th>\n",
              "      <td>3.666</td>\n",
              "      <td>0.528</td>\n",
              "      <td>235.68</td>\n",
              "      <td>15.8</td>\n",
              "      <td>0.0</td>\n",
              "      <td>1.0</td>\n",
              "      <td>17.0</td>\n",
              "    </tr>\n",
              "  </tbody>\n",
              "</table>\n",
              "</div>"
            ],
            "text/plain": [
              "                     Global_active_power  ...  Sub_metering_3\n",
              "dt                                        ...                \n",
              "2006-12-16 17:24:00                4.216  ...            17.0\n",
              "2006-12-16 17:25:00                5.360  ...            16.0\n",
              "2006-12-16 17:26:00                5.374  ...            17.0\n",
              "2006-12-16 17:27:00                5.388  ...            17.0\n",
              "2006-12-16 17:28:00                3.666  ...            17.0\n",
              "\n",
              "[5 rows x 7 columns]"
            ]
          },
          "metadata": {
            "tags": []
          },
          "execution_count": 6
        }
      ]
    },
    {
      "cell_type": "code",
      "metadata": {
        "id": "_DSifNvvbkJO",
        "outputId": "63c53002-07cd-4a3d-d586-8048e5392055",
        "colab": {
          "base_uri": "https://localhost:8080/"
        }
      },
      "source": [
        "df.info()"
      ],
      "execution_count": 7,
      "outputs": [
        {
          "output_type": "stream",
          "text": [
            "<class 'pandas.core.frame.DataFrame'>\n",
            "DatetimeIndex: 2075259 entries, 2006-12-16 17:24:00 to 2010-11-26 21:02:00\n",
            "Data columns (total 7 columns):\n",
            " #   Column                 Dtype  \n",
            "---  ------                 -----  \n",
            " 0   Global_active_power    float64\n",
            " 1   Global_reactive_power  float64\n",
            " 2   Voltage                float64\n",
            " 3   Global_intensity       float64\n",
            " 4   Sub_metering_1         float64\n",
            " 5   Sub_metering_2         float64\n",
            " 6   Sub_metering_3         float64\n",
            "dtypes: float64(7)\n",
            "memory usage: 126.7 MB\n"
          ],
          "name": "stdout"
        }
      ]
    },
    {
      "cell_type": "code",
      "metadata": {
        "id": "NMY0EcWRbkGl",
        "outputId": "290a0516-ce26-4bdb-9585-58d6dd0470b9",
        "colab": {
          "base_uri": "https://localhost:8080/"
        }
      },
      "source": [
        "df.dtypes"
      ],
      "execution_count": 8,
      "outputs": [
        {
          "output_type": "execute_result",
          "data": {
            "text/plain": [
              "Global_active_power      float64\n",
              "Global_reactive_power    float64\n",
              "Voltage                  float64\n",
              "Global_intensity         float64\n",
              "Sub_metering_1           float64\n",
              "Sub_metering_2           float64\n",
              "Sub_metering_3           float64\n",
              "dtype: object"
            ]
          },
          "metadata": {
            "tags": []
          },
          "execution_count": 8
        }
      ]
    },
    {
      "cell_type": "code",
      "metadata": {
        "id": "2ykJEbBfbjtz",
        "outputId": "c93046a6-6f26-4231-c68e-b4b4c4886522",
        "colab": {
          "base_uri": "https://localhost:8080/"
        }
      },
      "source": [
        "df.shape"
      ],
      "execution_count": 9,
      "outputs": [
        {
          "output_type": "execute_result",
          "data": {
            "text/plain": [
              "(2075259, 7)"
            ]
          },
          "metadata": {
            "tags": []
          },
          "execution_count": 9
        }
      ]
    },
    {
      "cell_type": "code",
      "metadata": {
        "id": "PBScy91ubjwq",
        "outputId": "40845f90-e397-4a13-e09e-79e036fe03aa",
        "colab": {
          "base_uri": "https://localhost:8080/",
          "height": 284
        }
      },
      "source": [
        "df.describe()"
      ],
      "execution_count": 10,
      "outputs": [
        {
          "output_type": "execute_result",
          "data": {
            "text/html": [
              "<div>\n",
              "<style scoped>\n",
              "    .dataframe tbody tr th:only-of-type {\n",
              "        vertical-align: middle;\n",
              "    }\n",
              "\n",
              "    .dataframe tbody tr th {\n",
              "        vertical-align: top;\n",
              "    }\n",
              "\n",
              "    .dataframe thead th {\n",
              "        text-align: right;\n",
              "    }\n",
              "</style>\n",
              "<table border=\"1\" class=\"dataframe\">\n",
              "  <thead>\n",
              "    <tr style=\"text-align: right;\">\n",
              "      <th></th>\n",
              "      <th>Global_active_power</th>\n",
              "      <th>Global_reactive_power</th>\n",
              "      <th>Voltage</th>\n",
              "      <th>Global_intensity</th>\n",
              "      <th>Sub_metering_1</th>\n",
              "      <th>Sub_metering_2</th>\n",
              "      <th>Sub_metering_3</th>\n",
              "    </tr>\n",
              "  </thead>\n",
              "  <tbody>\n",
              "    <tr>\n",
              "      <th>count</th>\n",
              "      <td>2.049280e+06</td>\n",
              "      <td>2.049280e+06</td>\n",
              "      <td>2.049280e+06</td>\n",
              "      <td>2.049280e+06</td>\n",
              "      <td>2.049280e+06</td>\n",
              "      <td>2.049280e+06</td>\n",
              "      <td>2.049280e+06</td>\n",
              "    </tr>\n",
              "    <tr>\n",
              "      <th>mean</th>\n",
              "      <td>1.091615e+00</td>\n",
              "      <td>1.237145e-01</td>\n",
              "      <td>2.408399e+02</td>\n",
              "      <td>4.627759e+00</td>\n",
              "      <td>1.121923e+00</td>\n",
              "      <td>1.298520e+00</td>\n",
              "      <td>6.458447e+00</td>\n",
              "    </tr>\n",
              "    <tr>\n",
              "      <th>std</th>\n",
              "      <td>1.057294e+00</td>\n",
              "      <td>1.127220e-01</td>\n",
              "      <td>3.239987e+00</td>\n",
              "      <td>4.444396e+00</td>\n",
              "      <td>6.153031e+00</td>\n",
              "      <td>5.822026e+00</td>\n",
              "      <td>8.437154e+00</td>\n",
              "    </tr>\n",
              "    <tr>\n",
              "      <th>min</th>\n",
              "      <td>7.600000e-02</td>\n",
              "      <td>0.000000e+00</td>\n",
              "      <td>2.232000e+02</td>\n",
              "      <td>2.000000e-01</td>\n",
              "      <td>0.000000e+00</td>\n",
              "      <td>0.000000e+00</td>\n",
              "      <td>0.000000e+00</td>\n",
              "    </tr>\n",
              "    <tr>\n",
              "      <th>25%</th>\n",
              "      <td>3.080000e-01</td>\n",
              "      <td>4.800000e-02</td>\n",
              "      <td>2.389900e+02</td>\n",
              "      <td>1.400000e+00</td>\n",
              "      <td>0.000000e+00</td>\n",
              "      <td>0.000000e+00</td>\n",
              "      <td>0.000000e+00</td>\n",
              "    </tr>\n",
              "    <tr>\n",
              "      <th>50%</th>\n",
              "      <td>6.020000e-01</td>\n",
              "      <td>1.000000e-01</td>\n",
              "      <td>2.410100e+02</td>\n",
              "      <td>2.600000e+00</td>\n",
              "      <td>0.000000e+00</td>\n",
              "      <td>0.000000e+00</td>\n",
              "      <td>1.000000e+00</td>\n",
              "    </tr>\n",
              "    <tr>\n",
              "      <th>75%</th>\n",
              "      <td>1.528000e+00</td>\n",
              "      <td>1.940000e-01</td>\n",
              "      <td>2.428900e+02</td>\n",
              "      <td>6.400000e+00</td>\n",
              "      <td>0.000000e+00</td>\n",
              "      <td>1.000000e+00</td>\n",
              "      <td>1.700000e+01</td>\n",
              "    </tr>\n",
              "    <tr>\n",
              "      <th>max</th>\n",
              "      <td>1.112200e+01</td>\n",
              "      <td>1.390000e+00</td>\n",
              "      <td>2.541500e+02</td>\n",
              "      <td>4.840000e+01</td>\n",
              "      <td>8.800000e+01</td>\n",
              "      <td>8.000000e+01</td>\n",
              "      <td>3.100000e+01</td>\n",
              "    </tr>\n",
              "  </tbody>\n",
              "</table>\n",
              "</div>"
            ],
            "text/plain": [
              "       Global_active_power  ...  Sub_metering_3\n",
              "count         2.049280e+06  ...    2.049280e+06\n",
              "mean          1.091615e+00  ...    6.458447e+00\n",
              "std           1.057294e+00  ...    8.437154e+00\n",
              "min           7.600000e-02  ...    0.000000e+00\n",
              "25%           3.080000e-01  ...    0.000000e+00\n",
              "50%           6.020000e-01  ...    1.000000e+00\n",
              "75%           1.528000e+00  ...    1.700000e+01\n",
              "max           1.112200e+01  ...    3.100000e+01\n",
              "\n",
              "[8 rows x 7 columns]"
            ]
          },
          "metadata": {
            "tags": []
          },
          "execution_count": 10
        }
      ]
    },
    {
      "cell_type": "code",
      "metadata": {
        "id": "fFuhWTAFbjrT",
        "outputId": "37307923-6256-4933-e53c-3367334f3ea4",
        "colab": {
          "base_uri": "https://localhost:8080/"
        }
      },
      "source": [
        "df.columns"
      ],
      "execution_count": 11,
      "outputs": [
        {
          "output_type": "execute_result",
          "data": {
            "text/plain": [
              "Index(['Global_active_power', 'Global_reactive_power', 'Voltage',\n",
              "       'Global_intensity', 'Sub_metering_1', 'Sub_metering_2',\n",
              "       'Sub_metering_3'],\n",
              "      dtype='object')"
            ]
          },
          "metadata": {
            "tags": []
          },
          "execution_count": 11
        }
      ]
    },
    {
      "cell_type": "code",
      "metadata": {
        "id": "JYuR3R-tbjmH",
        "outputId": "b4b37da2-d6eb-425e-eead-4823208abc16",
        "colab": {
          "base_uri": "https://localhost:8080/"
        }
      },
      "source": [
        "for j in range(1,7):\n",
        "       print(df.iloc[:, j].unique())"
      ],
      "execution_count": 12,
      "outputs": [
        {
          "output_type": "stream",
          "text": [
            "[0.418 0.436 0.498 0.502 0.528 0.522 0.52  0.51  0.47  0.478 0.398 0.422\n",
            " 0.282 0.152 0.156 0.    0.076 0.09  0.2   0.058 0.18  0.144 0.118 0.108\n",
            " 0.202 0.192 0.186 0.116 0.136 0.148 0.16  0.158 0.1   0.082 0.05  0.052\n",
            " 0.162 0.086 0.048 0.054 0.068 0.166 0.174 0.178 0.188 0.088 0.08  0.07\n",
            " 0.084 0.074 0.106 0.092 0.064 0.046 0.138 0.134 0.132 0.12  0.13  0.154\n",
            " 0.078 0.142 0.14  0.146 0.15  0.17  0.102 0.072 0.06  0.056 0.062 0.112\n",
            " 0.066 0.172 0.168 0.194 0.184 0.096 0.164 0.182 0.094 0.098 0.176 0.19\n",
            " 0.204 0.22  0.198 0.208 0.244 0.334 0.298 0.296 0.286 0.278 0.104 0.258\n",
            " 0.238 0.256 0.214 0.23  0.21  0.24  0.124 0.122 0.27  0.302 0.272 0.25\n",
            " 0.294 0.3   0.128 0.126 0.234 0.242 0.316 0.28  0.288 0.224 0.11  0.248\n",
            " 0.254 0.222 0.246 0.216 0.212 0.114 0.206 0.228 0.226 0.196 0.218 0.368\n",
            " 0.338 0.31  0.304 0.292 0.268 0.266 0.26  0.396 0.38  0.4   0.384 0.416\n",
            " 0.404 0.382 0.232 0.314 0.312 0.262 0.252 0.236 0.348 0.342 0.34  0.35\n",
            " 0.504 0.344 0.346 0.366 0.574 0.582 0.37  0.364 0.36  0.362 0.372 0.392\n",
            " 0.354 0.356 0.358 0.402 0.394 0.39  0.386 0.274 0.264 0.324 0.352 0.276\n",
            " 0.306 0.376 0.562 0.44  0.378 0.426 0.45  0.374 0.388 0.284 0.29  0.308\n",
            " 0.318 0.32  0.322 0.326 0.336 0.414 0.408 0.472 0.464 0.462 0.578 0.576\n",
            " 0.58  0.474 0.514 0.646 0.636 0.598 0.586 0.566 0.406 0.43  0.412 0.442\n",
            " 0.452 0.432 0.33  0.328 0.538 0.564 0.552 0.556 0.606 0.424 0.492 0.526\n",
            " 0.512 0.482 0.446 0.332   nan 0.548 0.534 0.532 0.688 0.664 0.66  0.53\n",
            " 0.516 0.572 0.54  0.614 0.568 0.444 0.456 0.448 0.48  0.434 0.438 0.494\n",
            " 0.496 0.468 0.56  0.622 0.57  0.618 0.624 0.466 0.42  0.5   0.602 0.632\n",
            " 0.724 0.706 0.484 0.458 0.428 0.486 0.698 0.708 0.686 0.666 0.658 0.49\n",
            " 0.454 0.64  0.59  0.524 0.634 0.476 0.694 0.7   0.794 0.592 0.46  0.656\n",
            " 0.644 0.488 0.41  0.55  0.616 0.8   0.79  0.788 0.67  0.506 0.6   0.68\n",
            " 0.678 0.682 0.69  0.508 0.604 0.608 0.554 0.518 0.65  0.648 0.642 0.654\n",
            " 0.754 0.75  0.742 0.594 0.536 0.544 0.63  0.542 0.672 0.588 0.596 0.584\n",
            " 0.674 0.726 0.768 0.774 0.712 0.856 0.862 0.848 0.73  0.71  0.662 0.722\n",
            " 0.704 0.546 0.638 0.628 0.62  0.716 0.778 0.702 0.676 0.834 0.802 0.772\n",
            " 0.558 0.626 0.652 0.76  0.78  0.784 0.786 0.792 0.782 0.832 0.842 0.744\n",
            " 0.822 0.612 0.692 0.684 0.874 0.804 0.696 0.61  0.718 0.732 0.72  0.748\n",
            " 0.796 0.736 0.82  0.808 0.756 0.776 0.806 0.764 0.818 0.77  0.758 0.858\n",
            " 0.86  0.85  0.752 0.714 0.84  0.83  0.838 0.738 0.828 0.74  0.746 0.988\n",
            " 0.966 0.96  0.956 0.854 0.912 0.734 0.728 0.826 0.88  0.878 0.876 0.93\n",
            " 0.986 0.972 0.946 0.902 1.046 1.148 1.054 0.89  0.668 1.092 0.996 0.974\n",
            " 1.04  1.06  1.028 0.908 0.898 0.95  0.964 0.94  0.928 0.896 0.868 0.87\n",
            " 0.866 0.864 0.872 0.812 0.836 0.824 0.814 0.762 0.994 1.032 0.816 0.944\n",
            " 0.968 0.916 1.014 1.008 1.002 0.81  1.    1.006 1.012 1.034 0.852 0.924\n",
            " 0.942 0.982 0.906 0.932 0.914 0.846 0.844 1.222 1.19  1.18  1.118 1.082\n",
            " 1.08  0.91  1.102 1.274 1.364 1.39  0.918 1.198 1.192 0.936 0.954 0.98\n",
            " 0.99  0.904 0.798 0.766 1.09  1.016 0.922 1.036 0.892 0.894 0.9   0.886\n",
            " 1.096 0.92  0.962 0.958 0.998 1.044 1.048 0.938 0.934 1.13  1.218 0.888\n",
            " 0.882 1.156 1.024 1.088 1.084 1.076 1.066 1.07  1.24  0.926 0.952 0.884\n",
            " 1.186 1.108 1.03  1.02  0.978 0.97  0.948 1.064 1.078 1.074 1.124 1.018\n",
            " 0.976 1.038 1.094 1.1   1.026]\n",
            "[234.84 233.63 233.29 ... 251.63 253.08 253.16]\n",
            "[18.4 23.  15.8 15.  19.6 23.2 22.4 22.6 17.6 14.2 13.8 14.4 16.4 25.4\n",
            " 33.2 30.6 22.  19.4 13.6 13.4 11.6 19.2 10.4 11.8 11.  21.  26.2 29.\n",
            " 27.8 27.  19.   9.6 10.  21.4 17.8 12.  12.4 15.2 20.8 15.6 26.4 18.8\n",
            " 13.   9.8  9.2 13.2 18.  10.8 10.6 18.2 17.  17.4 14.8 14.6 15.4 14.\n",
            "  8.4  9.4  7.8  8.2  8.6 11.4 12.6  9.   7.6 12.8  7.4  5.6  4.6  7.2\n",
            "  1.6  2.4  2.8  1.2  4.4  4.  10.2  6.8  5.2  6.   6.6  8.   2.   4.8\n",
            "  5.4 16.6  3.   1.8  8.8  1.4 21.8 20.2 16.  18.6 16.8 11.2  2.6 16.2\n",
            "  4.2  7.   3.8  3.2  5.   3.6  0.8  5.8  1.   6.4  6.2  3.4  2.2 12.2\n",
            " 30.  29.4 28.2 25.8 20.  24.8 24.6 25.2 25.  23.4 23.8 20.6 21.6 19.8\n",
            " 20.4 26.6 17.2 21.2 23.6 29.2 33.6 28.  30.2 33.4 24.2 24.  22.2 24.4\n",
            " 22.8  nan 30.4 34.2 32.8 33.  32.6 31.6 28.6 25.6 31.  28.4 27.2 29.8\n",
            " 29.6 37.  36.8 32.4 27.4 35.  34.8 32.2 26.  35.2 36.2 27.6 26.8 34.4\n",
            " 31.4 30.8 31.2 39.  39.2 39.4 28.8 38.8 35.6 32.  33.8 36.  37.2 34.\n",
            " 31.8 36.6 40.4 37.4 38.2 36.4 35.4 34.6 35.8 38.  40.2 41.  41.4 41.2\n",
            " 41.8 38.6 44.4 46.4 43.2 39.8 40.8  0.6  0.4 37.8 40.6 38.4 42.  42.2\n",
            " 39.6 42.6 44.2 37.6 40.   0.2 44.6 43.4 43.  45.8 48.4 42.8]\n",
            "[ 0.  1.  2.  6. 37. 36. 38. 25. 12. 11.  9.  4. 33.  5. 34.  8. 26. 27.\n",
            " 15. 20. 21. 23. 16. 10. 39. 32. nan 19. 35. 30. 40.  7. 31. 17.  3. 29.\n",
            " 24. 14. 41. 53. 76. 75. 77. 74. 28. 68. 58. 62. 13. 18. 22. 64. 71. 56.\n",
            " 72. 45. 42. 59. 66. 43. 44. 48. 46. 73. 55. 60. 70. 63. 67. 47. 65. 51.\n",
            " 50. 69. 78. 57. 49. 61. 52. 54. 79. 80. 81. 82. 83. 84. 88. 86. 87.]\n",
            "[ 1.  2.  0. 16. 37. 36. 22. 12. 27. 20.  9.  4.  3.  5. 13. 35. 28. 26.\n",
            " 24. 21. 17. 33. 25. 23. 18. 30. 31.  7. 38. 29. 50. 71. 59. 62. 70. 40.\n",
            " 34.  8. 15.  6. 32. 19. 14. 49. 72. 73. 61. 39. 42. 10. 56. 11. nan 43.\n",
            " 67. 63. 53. 65. 52. 69. 48. 74. 41. 47. 58. 68. 64. 75. 46. 57. 60. 66.\n",
            " 44. 78. 77. 76. 51. 55. 45. 54. 79. 80.]\n",
            "[17. 16. 18.  9.  0.  5. 19. 10. 20.  8.  4.  2.  3. 11. 13.  6. 15. nan\n",
            " 12.  1. 14.  7. 23. 25. 26. 28. 27. 21. 22. 29. 24. 30. 31.]\n"
          ],
          "name": "stdout"
        }
      ]
    },
    {
      "cell_type": "markdown",
      "metadata": {
        "id": "6Do3FGiEcYUx"
      },
      "source": [
        "Dealing with missing values 'nan' with a test statistic"
      ]
    },
    {
      "cell_type": "code",
      "metadata": {
        "id": "Y41k5gfxbjjN"
      },
      "source": [
        "droping_list_all=[]\n",
        "for j in range(0,7):\n",
        "    if not df.iloc[:, j].notnull().all():\n",
        "        droping_list_all.append(j)        \n",
        "        #print(df.iloc[:,j].unique())\n",
        "droping_list_all"
      ],
      "execution_count": null,
      "outputs": []
    },
    {
      "cell_type": "code",
      "metadata": {
        "id": "4bVIQKmxbjgS"
      },
      "source": [
        "for j in range(0,7):        \n",
        "        df.iloc[:,j]=df.iloc[:,j].fillna(df.iloc[:,j].mean())"
      ],
      "execution_count": null,
      "outputs": []
    },
    {
      "cell_type": "code",
      "metadata": {
        "id": "tjcq_4VUcgcc"
      },
      "source": [
        ""
      ],
      "execution_count": null,
      "outputs": []
    },
    {
      "cell_type": "code",
      "metadata": {
        "id": "naNNM2jjcgiO"
      },
      "source": [
        ""
      ],
      "execution_count": null,
      "outputs": []
    },
    {
      "cell_type": "code",
      "metadata": {
        "id": "W7JYTfPvcgkS"
      },
      "source": [
        ""
      ],
      "execution_count": null,
      "outputs": []
    },
    {
      "cell_type": "code",
      "metadata": {
        "id": "KKvOVmIVcgyr"
      },
      "source": [
        ""
      ],
      "execution_count": null,
      "outputs": []
    },
    {
      "cell_type": "code",
      "metadata": {
        "id": "RdOjyl4dcgfS"
      },
      "source": [
        ""
      ],
      "execution_count": null,
      "outputs": []
    },
    {
      "cell_type": "code",
      "metadata": {
        "id": "3Xziwg0jcgZj"
      },
      "source": [
        ""
      ],
      "execution_count": null,
      "outputs": []
    }
  ]
}