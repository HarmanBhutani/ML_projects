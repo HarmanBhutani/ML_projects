{
  "nbformat": 4,
  "nbformat_minor": 0,
  "metadata": {
    "colab": {
      "name": "flowers_tf_lite.ipynb",
      "provenance": [],
      "authorship_tag": "ABX9TyNbtnIwsEdyCn740vzx5jvt",
      "include_colab_link": true
    },
    "kernelspec": {
      "name": "python3",
      "display_name": "Python 3"
    }
  },
  "cells": [
    {
      "cell_type": "markdown",
      "metadata": {
        "id": "view-in-github",
        "colab_type": "text"
      },
      "source": [
        "<a href=\"https://colab.research.google.com/github/HarmanBhutani/ML_projects/blob/main/flowers_tf_lite.ipynb\" target=\"_parent\"><img src=\"https://colab.research.google.com/assets/colab-badge.svg\" alt=\"Open In Colab\"/></a>"
      ]
    },
    {
      "cell_type": "markdown",
      "metadata": {
        "id": "1BY1zN4ZM2oJ"
      },
      "source": [
        "# **Recognize Flowers using Transfer Learning**"
      ]
    },
    {
      "cell_type": "code",
      "metadata": {
        "id": "51xQQd-Uk3mA"
      },
      "source": [
        "import tensorflow as tf\n",
        "assert tf.__version__.startswith('2')\n",
        "\n",
        "import os\n",
        "import numpy as np\n",
        "import matplotlib.pyplot as plt"
      ],
      "execution_count": 14,
      "outputs": []
    },
    {
      "cell_type": "code",
      "metadata": {
        "id": "UXq_DfM1k4SW"
      },
      "source": [
        "_URL = \"https://storage.googleapis.com/download.tensorflow.org/example_images/flower_photos.tgz\"\n",
        "\n",
        "zip_file = tf.keras.utils.get_file(origin=_URL, \n",
        "                                   fname=\"flower_photos.tgz\", \n",
        "                                   extract=True)\n",
        "\n",
        "base_dir = os.path.join(os.path.dirname(zip_file), 'flower_photos')"
      ],
      "execution_count": 15,
      "outputs": []
    },
    {
      "cell_type": "markdown",
      "metadata": {
        "id": "5cMoRsw7J0X6"
      },
      "source": [
        "Use ImageDataGenerator to rescale the images.\n",
        "\n",
        "Create the train generator and specify where the train dataset directory, image size, batch size.\n",
        "\n",
        "Create the validation generator with similar approach as the train generator with the flow_from_directory() method."
      ]
    },
    {
      "cell_type": "code",
      "metadata": {
        "colab": {
          "base_uri": "https://localhost:8080/"
        },
        "id": "PLLGmjcik7nk",
        "outputId": "ca4ccb17-ba23-40a7-a76f-5d98b09a7566"
      },
      "source": [
        "IMAGE_SIZE = 224\n",
        "BATCH_SIZE = 64\n",
        "\n",
        "datagen = tf.keras.preprocessing.image.ImageDataGenerator(\n",
        "    rescale=1./255, \n",
        "    validation_split=0.2)\n",
        "\n",
        "train_generator = datagen.flow_from_directory(\n",
        "    base_dir,\n",
        "    target_size=(IMAGE_SIZE, IMAGE_SIZE),\n",
        "    batch_size=BATCH_SIZE, \n",
        "    subset='training')\n",
        "\n",
        "val_generator = datagen.flow_from_directory(\n",
        "    base_dir,\n",
        "    target_size=(IMAGE_SIZE, IMAGE_SIZE),\n",
        "    batch_size=BATCH_SIZE, \n",
        "    subset='validation')"
      ],
      "execution_count": 16,
      "outputs": [
        {
          "output_type": "stream",
          "text": [
            "Found 2939 images belonging to 5 classes.\n",
            "Found 731 images belonging to 5 classes.\n"
          ],
          "name": "stdout"
        }
      ]
    },
    {
      "cell_type": "code",
      "metadata": {
        "colab": {
          "base_uri": "https://localhost:8080/"
        },
        "id": "M48Un3UrlKyb",
        "outputId": "15696a48-c224-44cb-a516-cb2320817214"
      },
      "source": [
        "for image_batch, label_batch in train_generator:\n",
        "  break\n",
        "image_batch.shape, label_batch.shape"
      ],
      "execution_count": 17,
      "outputs": [
        {
          "output_type": "execute_result",
          "data": {
            "text/plain": [
              "((64, 224, 224, 3), (64, 5))"
            ]
          },
          "metadata": {
            "tags": []
          },
          "execution_count": 17
        }
      ]
    },
    {
      "cell_type": "markdown",
      "metadata": {
        "id": "gmDx41dIJ6pM"
      },
      "source": [
        "\n",
        "Save the labels in a file which will be downloaded later."
      ]
    },
    {
      "cell_type": "code",
      "metadata": {
        "colab": {
          "base_uri": "https://localhost:8080/"
        },
        "id": "Akg5NllZlMcY",
        "outputId": "eab8b259-a54c-4354-eecb-ee885d37e7e4"
      },
      "source": [
        "print (train_generator.class_indices)\n",
        "\n",
        "labels = '\\n'.join(sorted(train_generator.class_indices.keys()))\n",
        "\n",
        "with open('labels.txt', 'w') as f:\n",
        "  f.write(labels)"
      ],
      "execution_count": 18,
      "outputs": [
        {
          "output_type": "stream",
          "text": [
            "{'daisy': 0, 'dandelion': 1, 'roses': 2, 'sunflowers': 3, 'tulips': 4}\n"
          ],
          "name": "stdout"
        }
      ]
    },
    {
      "cell_type": "code",
      "metadata": {
        "colab": {
          "base_uri": "https://localhost:8080/"
        },
        "id": "cAdSXnY6lNwl",
        "outputId": "c6a337bb-b1a1-4cb3-9633-0c8f155344b5"
      },
      "source": [
        "!cat labels.txt"
      ],
      "execution_count": 19,
      "outputs": [
        {
          "output_type": "stream",
          "text": [
            "daisy\n",
            "dandelion\n",
            "roses\n",
            "sunflowers\n",
            "tulips"
          ],
          "name": "stdout"
        }
      ]
    },
    {
      "cell_type": "markdown",
      "metadata": {
        "id": "w_-c1eRUJ-IH"
      },
      "source": [
        "Create the base model from the pre-trained convnets\n",
        "Create the base model from the MobileNet V2 model developed at Google, and pre-trained on the ImageNet dataset, a large dataset of 1.4M images and 1000 classes of web images.\n",
        "\n",
        "First, pick which intermediate layer of MobileNet V2 will be used for feature extraction. A common practice is to use the output of the very last layer before the flatten operation, the so-called \"bottleneck layer\". The reasoning here is that the following fully-connected layers will be too specialized to the task the network was trained on, and thus the features learned by these layers won't be very useful for a new task. The bottleneck features, however, retain much generality.\n",
        "\n",
        "Let's instantiate an MobileNet V2 model pre-loaded with weights trained on ImageNet. By specifying the include_top=False argument, we load a network that doesn't include the classification layers at the top, which is ideal for feature extraction."
      ]
    },
    {
      "cell_type": "code",
      "metadata": {
        "id": "psEO0pbylPEb"
      },
      "source": [
        "IMG_SHAPE = (IMAGE_SIZE, IMAGE_SIZE, 3)\n",
        "\n",
        "# Create the base model from the pre-trained model MobileNet V2\n",
        "base_model = tf.keras.applications.MobileNetV2(input_shape=IMG_SHAPE,\n",
        "                                              include_top=False, \n",
        "                                              weights='imagenet')"
      ],
      "execution_count": 20,
      "outputs": []
    },
    {
      "cell_type": "markdown",
      "metadata": {
        "id": "pFRELuRMKhmg"
      },
      "source": [
        "Feature extraction\n",
        "You will freeze the convolutional base created from the previous step and use that as a feature extractor, add a classifier on top of it and train the top-level classifier."
      ]
    },
    {
      "cell_type": "code",
      "metadata": {
        "id": "JoJTmyyblQps"
      },
      "source": [
        "base_model.trainable = False"
      ],
      "execution_count": 21,
      "outputs": []
    },
    {
      "cell_type": "markdown",
      "metadata": {
        "id": "pxW_GPR9KljS"
      },
      "source": [
        "Add a classification head"
      ]
    },
    {
      "cell_type": "code",
      "metadata": {
        "id": "5AeDv6zWlqtJ"
      },
      "source": [
        "model = tf.keras.Sequential([\n",
        "  base_model,\n",
        "  tf.keras.layers.Conv2D(32, 3, activation='relu'),\n",
        "  tf.keras.layers.Dropout(0.2),\n",
        "  tf.keras.layers.GlobalAveragePooling2D(),\n",
        "  tf.keras.layers.Dense(5, activation='softmax')\n",
        "])"
      ],
      "execution_count": 22,
      "outputs": []
    },
    {
      "cell_type": "markdown",
      "metadata": {
        "id": "Y8RYd0seKotx"
      },
      "source": [
        "Compile the model\n",
        "You must compile the model before training it. Since there are multiple classes, use a categorical cross-entropy loss."
      ]
    },
    {
      "cell_type": "code",
      "metadata": {
        "id": "yie6haDolsPE"
      },
      "source": [
        "model.compile(optimizer=tf.keras.optimizers.Adam(), \n",
        "              loss='categorical_crossentropy', \n",
        "              metrics=['accuracy'])"
      ],
      "execution_count": 23,
      "outputs": []
    },
    {
      "cell_type": "code",
      "metadata": {
        "colab": {
          "base_uri": "https://localhost:8080/"
        },
        "id": "44G4AqBGltcO",
        "outputId": "926793b8-babf-4adf-ba3c-899196c8a028"
      },
      "source": [
        "model.summary()"
      ],
      "execution_count": 24,
      "outputs": [
        {
          "output_type": "stream",
          "text": [
            "Model: \"sequential_1\"\n",
            "_________________________________________________________________\n",
            "Layer (type)                 Output Shape              Param #   \n",
            "=================================================================\n",
            "mobilenetv2_1.00_224 (Functi (None, 7, 7, 1280)        2257984   \n",
            "_________________________________________________________________\n",
            "conv2d_1 (Conv2D)            (None, 5, 5, 32)          368672    \n",
            "_________________________________________________________________\n",
            "dropout_1 (Dropout)          (None, 5, 5, 32)          0         \n",
            "_________________________________________________________________\n",
            "global_average_pooling2d_1 ( (None, 32)                0         \n",
            "_________________________________________________________________\n",
            "dense_1 (Dense)              (None, 5)                 165       \n",
            "=================================================================\n",
            "Total params: 2,626,821\n",
            "Trainable params: 368,837\n",
            "Non-trainable params: 2,257,984\n",
            "_________________________________________________________________\n"
          ],
          "name": "stdout"
        }
      ]
    },
    {
      "cell_type": "code",
      "metadata": {
        "colab": {
          "base_uri": "https://localhost:8080/"
        },
        "id": "7R7jieWjlusv",
        "outputId": "ab962342-58a6-4bfa-f72c-9682ebfc26b7"
      },
      "source": [
        "print('Number of trainable variables = {}'.format(len(model.trainable_variables)))"
      ],
      "execution_count": 25,
      "outputs": [
        {
          "output_type": "stream",
          "text": [
            "Number of trainable variables = 4\n"
          ],
          "name": "stdout"
        }
      ]
    },
    {
      "cell_type": "markdown",
      "metadata": {
        "id": "UxXb8q-GKrkP"
      },
      "source": [
        "Train the model"
      ]
    },
    {
      "cell_type": "code",
      "metadata": {
        "colab": {
          "base_uri": "https://localhost:8080/"
        },
        "id": "47Ud4nU2lwNl",
        "outputId": "71f7c376-5b25-4d24-f1a6-62b76f698f2c"
      },
      "source": [
        "epochs = 50\n",
        "\n",
        "history = model.fit(train_generator, \n",
        "                    steps_per_epoch=len(train_generator), \n",
        "                    epochs=epochs, \n",
        "                    validation_data=val_generator, \n",
        "                    validation_steps=len(val_generator))"
      ],
      "execution_count": 28,
      "outputs": [
        {
          "output_type": "stream",
          "text": [
            "Epoch 1/50\n",
            "46/46 [==============================] - 132s 3s/step - loss: 0.0102 - accuracy: 1.0000 - val_loss: 0.5615 - val_accuracy: 0.8646\n",
            "Epoch 2/50\n",
            "46/46 [==============================] - 131s 3s/step - loss: 0.0071 - accuracy: 1.0000 - val_loss: 0.5434 - val_accuracy: 0.8741\n",
            "Epoch 3/50\n",
            "46/46 [==============================] - 131s 3s/step - loss: 0.0064 - accuracy: 1.0000 - val_loss: 0.5605 - val_accuracy: 0.8632\n",
            "Epoch 4/50\n",
            "46/46 [==============================] - 131s 3s/step - loss: 0.0063 - accuracy: 1.0000 - val_loss: 0.5628 - val_accuracy: 0.8618\n",
            "Epoch 5/50\n",
            "46/46 [==============================] - 132s 3s/step - loss: 0.0053 - accuracy: 1.0000 - val_loss: 0.5539 - val_accuracy: 0.8769\n",
            "Epoch 6/50\n",
            "46/46 [==============================] - 131s 3s/step - loss: 0.0039 - accuracy: 1.0000 - val_loss: 0.5728 - val_accuracy: 0.8782\n",
            "Epoch 7/50\n",
            "46/46 [==============================] - 132s 3s/step - loss: 0.0037 - accuracy: 1.0000 - val_loss: 0.5719 - val_accuracy: 0.8741\n",
            "Epoch 8/50\n",
            "46/46 [==============================] - 132s 3s/step - loss: 0.0033 - accuracy: 1.0000 - val_loss: 0.5820 - val_accuracy: 0.8782\n",
            "Epoch 9/50\n",
            "46/46 [==============================] - 132s 3s/step - loss: 0.0029 - accuracy: 1.0000 - val_loss: 0.5928 - val_accuracy: 0.8728\n",
            "Epoch 10/50\n",
            "46/46 [==============================] - 137s 3s/step - loss: 0.0026 - accuracy: 1.0000 - val_loss: 0.5811 - val_accuracy: 0.8714\n",
            "Epoch 11/50\n",
            "46/46 [==============================] - 132s 3s/step - loss: 0.0023 - accuracy: 1.0000 - val_loss: 0.5968 - val_accuracy: 0.8741\n",
            "Epoch 12/50\n",
            "46/46 [==============================] - 132s 3s/step - loss: 0.0024 - accuracy: 1.0000 - val_loss: 0.6167 - val_accuracy: 0.8714\n",
            "Epoch 13/50\n",
            "46/46 [==============================] - 132s 3s/step - loss: 0.0023 - accuracy: 1.0000 - val_loss: 0.6039 - val_accuracy: 0.8700\n",
            "Epoch 14/50\n",
            "46/46 [==============================] - 132s 3s/step - loss: 0.0020 - accuracy: 1.0000 - val_loss: 0.6256 - val_accuracy: 0.8755\n",
            "Epoch 15/50\n",
            "46/46 [==============================] - 131s 3s/step - loss: 0.0017 - accuracy: 1.0000 - val_loss: 0.6293 - val_accuracy: 0.8673\n",
            "Epoch 16/50\n",
            "46/46 [==============================] - 131s 3s/step - loss: 0.0014 - accuracy: 1.0000 - val_loss: 0.6319 - val_accuracy: 0.8741\n",
            "Epoch 17/50\n",
            "46/46 [==============================] - 131s 3s/step - loss: 0.0014 - accuracy: 1.0000 - val_loss: 0.6382 - val_accuracy: 0.8769\n",
            "Epoch 18/50\n",
            "46/46 [==============================] - 131s 3s/step - loss: 0.0015 - accuracy: 1.0000 - val_loss: 0.6393 - val_accuracy: 0.8769\n",
            "Epoch 19/50\n",
            "46/46 [==============================] - 135s 3s/step - loss: 0.0012 - accuracy: 1.0000 - val_loss: 0.6595 - val_accuracy: 0.8728\n",
            "Epoch 20/50\n",
            "46/46 [==============================] - 131s 3s/step - loss: 0.0011 - accuracy: 1.0000 - val_loss: 0.6543 - val_accuracy: 0.8687\n",
            "Epoch 21/50\n",
            "46/46 [==============================] - 132s 3s/step - loss: 0.0017 - accuracy: 1.0000 - val_loss: 0.6461 - val_accuracy: 0.8769\n",
            "Epoch 22/50\n",
            "46/46 [==============================] - 132s 3s/step - loss: 0.0010 - accuracy: 1.0000 - val_loss: 0.6516 - val_accuracy: 0.8782\n",
            "Epoch 23/50\n",
            "46/46 [==============================] - 131s 3s/step - loss: 0.0010 - accuracy: 1.0000 - val_loss: 0.6742 - val_accuracy: 0.8755\n",
            "Epoch 24/50\n",
            "46/46 [==============================] - 136s 3s/step - loss: 9.4003e-04 - accuracy: 1.0000 - val_loss: 0.6709 - val_accuracy: 0.8755\n",
            "Epoch 25/50\n",
            "46/46 [==============================] - 131s 3s/step - loss: 8.3619e-04 - accuracy: 1.0000 - val_loss: 0.6620 - val_accuracy: 0.8796\n",
            "Epoch 26/50\n",
            "46/46 [==============================] - 132s 3s/step - loss: 9.1097e-04 - accuracy: 1.0000 - val_loss: 0.6750 - val_accuracy: 0.8796\n",
            "Epoch 27/50\n",
            "46/46 [==============================] - 131s 3s/step - loss: 7.4548e-04 - accuracy: 1.0000 - val_loss: 0.6853 - val_accuracy: 0.8769\n",
            "Epoch 28/50\n",
            "46/46 [==============================] - 132s 3s/step - loss: 8.1955e-04 - accuracy: 1.0000 - val_loss: 0.6712 - val_accuracy: 0.8796\n",
            "Epoch 29/50\n",
            "46/46 [==============================] - 132s 3s/step - loss: 6.5731e-04 - accuracy: 1.0000 - val_loss: 0.6736 - val_accuracy: 0.8810\n",
            "Epoch 30/50\n",
            "46/46 [==============================] - 132s 3s/step - loss: 6.0414e-04 - accuracy: 1.0000 - val_loss: 0.6826 - val_accuracy: 0.8769\n",
            "Epoch 31/50\n",
            "46/46 [==============================] - 132s 3s/step - loss: 6.3752e-04 - accuracy: 1.0000 - val_loss: 0.6933 - val_accuracy: 0.8782\n",
            "Epoch 32/50\n",
            "46/46 [==============================] - 131s 3s/step - loss: 6.0097e-04 - accuracy: 1.0000 - val_loss: 0.6889 - val_accuracy: 0.8810\n",
            "Epoch 33/50\n",
            "46/46 [==============================] - 136s 3s/step - loss: 5.2249e-04 - accuracy: 1.0000 - val_loss: 0.6887 - val_accuracy: 0.8796\n",
            "Epoch 34/50\n",
            "46/46 [==============================] - 132s 3s/step - loss: 5.8785e-04 - accuracy: 1.0000 - val_loss: 0.7014 - val_accuracy: 0.8755\n",
            "Epoch 35/50\n",
            "46/46 [==============================] - 133s 3s/step - loss: 4.7707e-04 - accuracy: 1.0000 - val_loss: 0.6999 - val_accuracy: 0.8810\n",
            "Epoch 36/50\n",
            "46/46 [==============================] - 132s 3s/step - loss: 5.1544e-04 - accuracy: 1.0000 - val_loss: 0.7199 - val_accuracy: 0.8673\n",
            "Epoch 37/50\n",
            "46/46 [==============================] - 136s 3s/step - loss: 4.7372e-04 - accuracy: 1.0000 - val_loss: 0.7265 - val_accuracy: 0.8700\n",
            "Epoch 38/50\n",
            "46/46 [==============================] - 132s 3s/step - loss: 4.5437e-04 - accuracy: 1.0000 - val_loss: 0.7173 - val_accuracy: 0.8714\n",
            "Epoch 39/50\n",
            "46/46 [==============================] - 132s 3s/step - loss: 4.7129e-04 - accuracy: 1.0000 - val_loss: 0.7204 - val_accuracy: 0.8769\n",
            "Epoch 40/50\n",
            "46/46 [==============================] - 132s 3s/step - loss: 4.4869e-04 - accuracy: 1.0000 - val_loss: 0.7094 - val_accuracy: 0.8796\n",
            "Epoch 41/50\n",
            "46/46 [==============================] - 131s 3s/step - loss: 3.7861e-04 - accuracy: 1.0000 - val_loss: 0.7320 - val_accuracy: 0.8810\n",
            "Epoch 42/50\n",
            "46/46 [==============================] - 132s 3s/step - loss: 3.5174e-04 - accuracy: 1.0000 - val_loss: 0.7337 - val_accuracy: 0.8700\n",
            "Epoch 43/50\n",
            "46/46 [==============================] - 131s 3s/step - loss: 4.2434e-04 - accuracy: 1.0000 - val_loss: 0.7245 - val_accuracy: 0.8824\n",
            "Epoch 44/50\n",
            "46/46 [==============================] - 132s 3s/step - loss: 3.7225e-04 - accuracy: 1.0000 - val_loss: 0.7329 - val_accuracy: 0.8769\n",
            "Epoch 45/50\n",
            "46/46 [==============================] - 131s 3s/step - loss: 3.7034e-04 - accuracy: 1.0000 - val_loss: 0.7452 - val_accuracy: 0.8714\n",
            "Epoch 46/50\n",
            "46/46 [==============================] - 131s 3s/step - loss: 4.0226e-04 - accuracy: 1.0000 - val_loss: 0.7375 - val_accuracy: 0.8769\n",
            "Epoch 47/50\n",
            "46/46 [==============================] - 131s 3s/step - loss: 3.1274e-04 - accuracy: 1.0000 - val_loss: 0.7411 - val_accuracy: 0.8728\n",
            "Epoch 48/50\n",
            "46/46 [==============================] - 132s 3s/step - loss: 3.0669e-04 - accuracy: 1.0000 - val_loss: 0.7456 - val_accuracy: 0.8769\n",
            "Epoch 49/50\n",
            "46/46 [==============================] - 132s 3s/step - loss: 2.5130e-04 - accuracy: 1.0000 - val_loss: 0.7449 - val_accuracy: 0.8782\n",
            "Epoch 50/50\n",
            "46/46 [==============================] - 132s 3s/step - loss: 2.6843e-04 - accuracy: 1.0000 - val_loss: 0.7622 - val_accuracy: 0.8782\n"
          ],
          "name": "stdout"
        }
      ]
    },
    {
      "cell_type": "markdown",
      "metadata": {
        "id": "QtpDFmXIKuc_"
      },
      "source": [
        "## **Learning curves**\n",
        "Let's take a look at the learning curves of the training and validation accuracy/loss when using the MobileNet V2 base model as a fixed feature extractor."
      ]
    },
    {
      "cell_type": "code",
      "metadata": {
        "colab": {
          "base_uri": "https://localhost:8080/",
          "height": 513
        },
        "id": "QGO12q6tlxm5",
        "outputId": "5410886b-e1f7-4d5f-c225-2dcd7f717821"
      },
      "source": [
        "acc = history.history['accuracy']\n",
        "val_acc = history.history['val_accuracy']\n",
        "\n",
        "loss = history.history['loss']\n",
        "val_loss = history.history['val_loss']\n",
        "\n",
        "plt.figure(figsize=(8, 8))\n",
        "plt.subplot(2, 1, 1)\n",
        "plt.plot(acc, label='Training Accuracy')\n",
        "plt.plot(val_acc, label='Validation Accuracy')\n",
        "plt.legend(loc='lower right')\n",
        "plt.ylabel('Accuracy')\n",
        "plt.ylim([min(plt.ylim()),1])\n",
        "plt.title('Training and Validation Accuracy')\n",
        "\n",
        "plt.subplot(2, 1, 2)\n",
        "plt.plot(loss, label='Training Loss')\n",
        "plt.plot(val_loss, label='Validation Loss')\n",
        "plt.legend(loc='upper right')\n",
        "plt.ylabel('Cross Entropy')\n",
        "plt.ylim([0,1.0])\n",
        "plt.title('Training and Validation Loss')\n",
        "plt.xlabel('epoch')\n",
        "plt.show()"
      ],
      "execution_count": 29,
      "outputs": [
        {
          "output_type": "display_data",
          "data": {
            "image/png": "[encoded data removed]",
            "text/plain": [
              "<Figure size 576x576 with 2 Axes>"
            ]
          },
          "metadata": {
            "tags": [],
            "needs_background": "light"
          }
        }
      ]
    },
    {
      "cell_type": "markdown",
      "metadata": {
        "id": "nXYgHWwBK0Ta"
      },
      "source": [
        "# **Fine tuning**\n",
        "In our feature extraction experiment, you were only training a few layers on top of an MobileNet V2 base model. The weights of the pre-trained network were not updated during training.\n",
        "\n",
        "One way to increase performance even further is to train (or \"fine-tune\") the weights of the top layers of the pre-trained model alongside the training of the classifier you added. The training process will force the weights to be tuned from generic features maps to features associated specifically to our dataset."
      ]
    },
    {
      "cell_type": "markdown",
      "metadata": {
        "id": "3Y8uMdEXK4k7"
      },
      "source": [
        "# **Un-freeze the top layers of the model**\n",
        "All you need to do is unfreeze the base_model and set the bottom layers be un-trainable. Then, recompile the model (necessary for these changes to take effect), and resume training."
      ]
    },
    {
      "cell_type": "code",
      "metadata": {
        "id": "N-Q6MF9uCLVP"
      },
      "source": [
        "base_model.trainable = True"
      ],
      "execution_count": 30,
      "outputs": []
    },
    {
      "cell_type": "code",
      "metadata": {
        "colab": {
          "base_uri": "https://localhost:8080/"
        },
        "id": "m9oMomPGCKku",
        "outputId": "52009cb0-92e4-4dcd-87b8-b7e6a84f62e0"
      },
      "source": [
        "# Let's take a look to see how many layers are in the base model\n",
        "print(\"Number of layers in the base model: \", len(base_model.layers))\n",
        "\n",
        "# Fine tune from this layer onwards\n",
        "fine_tune_at = 100\n",
        "\n",
        "# Freeze all the layers before the `fine_tune_at` layer\n",
        "for layer in base_model.layers[:fine_tune_at]:\n",
        "  layer.trainable =  False"
      ],
      "execution_count": 31,
      "outputs": [
        {
          "output_type": "stream",
          "text": [
            "Number of layers in the base model:  155\n"
          ],
          "name": "stdout"
        }
      ]
    },
    {
      "cell_type": "markdown",
      "metadata": {
        "id": "a2F6Wjo5LEAW"
      },
      "source": [
        "## **Compile the model**\n",
        "Compile the model using a much lower training rate."
      ]
    },
    {
      "cell_type": "code",
      "metadata": {
        "id": "tc7f36W6CKsn"
      },
      "source": [
        "model.compile(loss='categorical_crossentropy',\n",
        "              optimizer = tf.keras.optimizers.Adam(1e-5),\n",
        "              metrics=['accuracy'])"
      ],
      "execution_count": 32,
      "outputs": []
    },
    {
      "cell_type": "code",
      "metadata": {
        "colab": {
          "base_uri": "https://localhost:8080/"
        },
        "id": "Nek3nX6qCKvl",
        "outputId": "0f595965-bd0e-4be3-97de-eb84d6a02f53"
      },
      "source": [
        "model.summary()"
      ],
      "execution_count": 33,
      "outputs": [
        {
          "output_type": "stream",
          "text": [
            "Model: \"sequential_1\"\n",
            "_________________________________________________________________\n",
            "Layer (type)                 Output Shape              Param #   \n",
            "=================================================================\n",
            "mobilenetv2_1.00_224 (Functi (None, 7, 7, 1280)        2257984   \n",
            "_________________________________________________________________\n",
            "conv2d_1 (Conv2D)            (None, 5, 5, 32)          368672    \n",
            "_________________________________________________________________\n",
            "dropout_1 (Dropout)          (None, 5, 5, 32)          0         \n",
            "_________________________________________________________________\n",
            "global_average_pooling2d_1 ( (None, 32)                0         \n",
            "_________________________________________________________________\n",
            "dense_1 (Dense)              (None, 5)                 165       \n",
            "=================================================================\n",
            "Total params: 2,626,821\n",
            "Trainable params: 2,231,429\n",
            "Non-trainable params: 395,392\n",
            "_________________________________________________________________\n"
          ],
          "name": "stdout"
        }
      ]
    },
    {
      "cell_type": "code",
      "metadata": {
        "colab": {
          "base_uri": "https://localhost:8080/"
        },
        "id": "RokYMPsZCKpa",
        "outputId": "d08c6bd6-73b9-4945-c640-f925c6eea7da"
      },
      "source": [
        "print('Number of trainable variables = {}'.format(len(model.trainable_variables)))"
      ],
      "execution_count": 34,
      "outputs": [
        {
          "output_type": "stream",
          "text": [
            "Number of trainable variables = 60\n"
          ],
          "name": "stdout"
        }
      ]
    },
    {
      "cell_type": "markdown",
      "metadata": {
        "id": "GP3Daxu7LOIg"
      },
      "source": [
        "# **Continue Train the model**"
      ]
    },
    {
      "cell_type": "code",
      "metadata": {
        "colab": {
          "base_uri": "https://localhost:8080/"
        },
        "id": "HzXwEUuDCJ5w",
        "outputId": "32d0285c-2629-4f29-c465-10dde2767dc9"
      },
      "source": [
        "history_fine = model.fit(train_generator, \n",
        "                         steps_per_epoch=len(train_generator), \n",
        "                         epochs=5, \n",
        "                         validation_data=val_generator, \n",
        "                         validation_steps=len(val_generator))"
      ],
      "execution_count": 35,
      "outputs": [
        {
          "output_type": "stream",
          "text": [
            "Epoch 1/5\n",
            "46/46 [==============================] - 232s 5s/step - loss: 0.6372 - accuracy: 0.8598 - val_loss: 0.7917 - val_accuracy: 0.8673\n",
            "Epoch 2/5\n",
            "46/46 [==============================] - 228s 5s/step - loss: 0.2561 - accuracy: 0.9183 - val_loss: 0.8037 - val_accuracy: 0.8632\n",
            "Epoch 3/5\n",
            "46/46 [==============================] - 227s 5s/step - loss: 0.1461 - accuracy: 0.9507 - val_loss: 0.7934 - val_accuracy: 0.8646\n",
            "Epoch 4/5\n",
            "46/46 [==============================] - 230s 5s/step - loss: 0.1156 - accuracy: 0.9602 - val_loss: 0.8019 - val_accuracy: 0.8591\n",
            "Epoch 5/5\n",
            "46/46 [==============================] - 227s 5s/step - loss: 0.0818 - accuracy: 0.9741 - val_loss: 0.7836 - val_accuracy: 0.8673\n"
          ],
          "name": "stdout"
        }
      ]
    },
    {
      "cell_type": "markdown",
      "metadata": {
        "id": "zUfpPb76LTZy"
      },
      "source": [
        "# **Convert to TFLite**\n",
        "Saved the model using tf.saved_model.save and then convert the saved model to a tf lite compatible format."
      ]
    },
    {
      "cell_type": "markdown",
      "metadata": {
        "id": "IzSejO_wLWRq"
      },
      "source": [
        "Download the converted model and labels"
      ]
    },
    {
      "cell_type": "code",
      "metadata": {
        "colab": {
          "base_uri": "https://localhost:8080/"
        },
        "id": "nxjekKxzCYtz",
        "outputId": "3e2637fc-bc82-4b0b-95b3-251b0b18c12f"
      },
      "source": [
        "saved_model_dir = 'save/fine_tuning'\n",
        "tf.saved_model.save(model, saved_model_dir)\n",
        "\n",
        "converter = tf.lite.TFLiteConverter.from_saved_model(saved_model_dir)\n",
        "tflite_model = converter.convert()\n",
        "\n",
        "with open('model.tflite', 'wb') as f:\n",
        "  f.write(tflite_model)"
      ],
      "execution_count": 36,
      "outputs": [
        {
          "output_type": "stream",
          "text": [
            "WARNING:tensorflow:From /usr/local/lib/python3.6/dist-packages/tensorflow/python/training/tracking/tracking.py:111: Model.state_updates (from tensorflow.python.keras.engine.training) is deprecated and will be removed in a future version.\n",
            "Instructions for updating:\n",
            "This property should not be used in TensorFlow 2.0, as updates are applied automatically.\n",
            "WARNING:tensorflow:From /usr/local/lib/python3.6/dist-packages/tensorflow/python/training/tracking/tracking.py:111: Layer.updates (from tensorflow.python.keras.engine.base_layer) is deprecated and will be removed in a future version.\n",
            "Instructions for updating:\n",
            "This property should not be used in TensorFlow 2.0, as updates are applied automatically.\n",
            "INFO:tensorflow:Assets written to: save/fine_tuning/assets\n"
          ],
          "name": "stdout"
        }
      ]
    },
    {
      "cell_type": "markdown",
      "metadata": {
        "id": "VxK8JogELbUl"
      },
      "source": [
        "Download the converted model and labels"
      ]
    },
    {
      "cell_type": "code",
      "metadata": {
        "colab": {
          "base_uri": "https://localhost:8080/",
          "height": 17
        },
        "id": "GQMwOCsnCY1Z",
        "outputId": "0e1e9127-e4b9-49f6-dfcb-9bb6fb586156"
      },
      "source": [
        "from google.colab import files\n",
        "\n",
        "files.download('model.tflite')\n",
        "files.download('labels.txt')"
      ],
      "execution_count": 37,
      "outputs": [
        {
          "output_type": "display_data",
          "data": {
            "application/javascript": [
              "\n",
              "    async function download(id, filename, size) {\n",
              "      if (!google.colab.kernel.accessAllowed) {\n",
              "        return;\n",
              "      }\n",
              "      const div = document.createElement('div');\n",
              "      const label = document.createElement('label');\n",
              "      label.textContent = `Downloading \"${filename}\": `;\n",
              "      div.appendChild(label);\n",
              "      const progress = document.createElement('progress');\n",
              "      progress.max = size;\n",
              "      div.appendChild(progress);\n",
              "      document.body.appendChild(div);\n",
              "\n",
              "      const buffers = [];\n",
              "      let downloaded = 0;\n",
              "\n",
              "      const channel = await google.colab.kernel.comms.open(id);\n",
              "      // Send a message to notify the kernel that we're ready.\n",
              "      channel.send({})\n",
              "\n",
              "      for await (const message of channel.messages) {\n",
              "        // Send a message to notify the kernel that we're ready.\n",
              "        channel.send({})\n",
              "        if (message.buffers) {\n",
              "          for (const buffer of message.buffers) {\n",
              "            buffers.push(buffer);\n",
              "            downloaded += buffer.byteLength;\n",
              "            progress.value = downloaded;\n",
              "          }\n",
              "        }\n",
              "      }\n",
              "      const blob = new Blob(buffers, {type: 'application/binary'});\n",
              "      const a = document.createElement('a');\n",
              "      a.href = window.URL.createObjectURL(blob);\n",
              "      a.download = filename;\n",
              "      div.appendChild(a);\n",
              "      a.click();\n",
              "      div.remove();\n",
              "    }\n",
              "  "
            ],
            "text/plain": [
              "<IPython.core.display.Javascript object>"
            ]
          },
          "metadata": {
            "tags": []
          }
        },
        {
          "output_type": "display_data",
          "data": {
            "application/javascript": [
              "download(\"download_45b111f6-62a6-43e1-9f51-62efa01f7031\", \"model.tflite\", 10378748)"
            ],
            "text/plain": [
              "<IPython.core.display.Javascript object>"
            ]
          },
          "metadata": {
            "tags": []
          }
        },
        {
          "output_type": "display_data",
          "data": {
            "application/javascript": [
              "\n",
              "    async function download(id, filename, size) {\n",
              "      if (!google.colab.kernel.accessAllowed) {\n",
              "        return;\n",
              "      }\n",
              "      const div = document.createElement('div');\n",
              "      const label = document.createElement('label');\n",
              "      label.textContent = `Downloading \"${filename}\": `;\n",
              "      div.appendChild(label);\n",
              "      const progress = document.createElement('progress');\n",
              "      progress.max = size;\n",
              "      div.appendChild(progress);\n",
              "      document.body.appendChild(div);\n",
              "\n",
              "      const buffers = [];\n",
              "      let downloaded = 0;\n",
              "\n",
              "      const channel = await google.colab.kernel.comms.open(id);\n",
              "      // Send a message to notify the kernel that we're ready.\n",
              "      channel.send({})\n",
              "\n",
              "      for await (const message of channel.messages) {\n",
              "        // Send a message to notify the kernel that we're ready.\n",
              "        channel.send({})\n",
              "        if (message.buffers) {\n",
              "          for (const buffer of message.buffers) {\n",
              "            buffers.push(buffer);\n",
              "            downloaded += buffer.byteLength;\n",
              "            progress.value = downloaded;\n",
              "          }\n",
              "        }\n",
              "      }\n",
              "      const blob = new Blob(buffers, {type: 'application/binary'});\n",
              "      const a = document.createElement('a');\n",
              "      a.href = window.URL.createObjectURL(blob);\n",
              "      a.download = filename;\n",
              "      div.appendChild(a);\n",
              "      a.click();\n",
              "      div.remove();\n",
              "    }\n",
              "  "
            ],
            "text/plain": [
              "<IPython.core.display.Javascript object>"
            ]
          },
          "metadata": {
            "tags": []
          }
        },
        {
          "output_type": "display_data",
          "data": {
            "application/javascript": [
              "download(\"download_184ed7e9-6513-40f6-a4ae-4f99987387c5\", \"labels.txt\", 39)"
            ],
            "text/plain": [
              "<IPython.core.display.Javascript object>"
            ]
          },
          "metadata": {
            "tags": []
          }
        }
      ]
    },
    {
      "cell_type": "markdown",
      "metadata": {
        "id": "cqfKxzOHLdyx"
      },
      "source": [
        "Let's take a look at the learning curves of the training and validation accuracy/loss, when fine tuning the last few layers of the MobileNet V2 base model and training the classifier on top of it. The validation loss is much higher than the training loss, so you may get some overfitting.\n",
        "\n",
        "You may also get some overfitting as the new training set is relatively small and similar to the original MobileNet V2 datasets."
      ]
    },
    {
      "cell_type": "code",
      "metadata": {
        "colab": {
          "base_uri": "https://localhost:8080/",
          "height": 513
        },
        "id": "yApESzf-CYxK",
        "outputId": "2494cf42-8a37-4c52-8088-f9db6bd81d42"
      },
      "source": [
        "acc = history_fine.history['accuracy']\n",
        "val_acc = history_fine.history['val_accuracy']\n",
        "\n",
        "loss = history_fine.history['loss']\n",
        "val_loss = history_fine.history['val_loss']\n",
        "\n",
        "plt.figure(figsize=(8, 8))\n",
        "plt.subplot(2, 1, 1)\n",
        "plt.plot(acc, label='Training Accuracy')\n",
        "plt.plot(val_acc, label='Validation Accuracy')\n",
        "plt.legend(loc='lower right')\n",
        "plt.ylabel('Accuracy')\n",
        "plt.ylim([min(plt.ylim()),1])\n",
        "plt.title('Training and Validation Accuracy')\n",
        "\n",
        "plt.subplot(2, 1, 2)\n",
        "plt.plot(loss, label='Training Loss')\n",
        "plt.plot(val_loss, label='Validation Loss')\n",
        "plt.legend(loc='upper right')\n",
        "plt.ylabel('Cross Entropy')\n",
        "plt.ylim([0,1.0])\n",
        "plt.title('Training and Validation Loss')\n",
        "plt.xlabel('epoch')\n",
        "plt.show()"
      ],
      "execution_count": 38,
      "outputs": [
        {
          "output_type": "display_data",
          "data": {
            "image/png": "[encoded data removed]",
            "text/plain": [
              "<Figure size 576x576 with 2 Axes>"
            ]
          },
          "metadata": {
            "tags": [],
            "needs_background": "light"
          }
        }
      ]
    },
    {
      "cell_type": "markdown",
      "metadata": {
        "id": "fjnCYnUPLmsI"
      },
      "source": [
        "# **Summary:**\n",
        "# **Using a pre-trained model for feature extraction:** When working with a small dataset, it is common to take advantage of features learned by a model trained on a larger dataset in the same domain. This is done by instantiating the pre-trained model and adding a fully-connected classifier on top. The pre-trained model is \"frozen\" and only the weights of the classifier get updated during training. In this case, the convolutional base extracted all the features associated with each image and you just trained a classifier that determines the image class given that set of extracted features.\n",
        "\n",
        "# **Fine-tuning a pre-trained model:** To further improve performance, one might want to repurpose the top-level layers of the pre-trained models to the new dataset via fine-tuning. In this case, you tuned your weights such that your model learned high-level features specific to the dataset. This technique is usually recommended when the training dataset is large and very similar to the orginial dataset that the pre-trained model was trained on."
      ]
    },
    {
      "cell_type": "code",
      "metadata": {
        "id": "JzQBWN2vLtLy"
      },
      "source": [
        ""
      ],
      "execution_count": null,
      "outputs": []
    }
  ]
}