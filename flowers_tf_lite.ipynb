{
  "nbformat": 4,
  "nbformat_minor": 0,
  "metadata": {
    "colab": {
      "name": "flowers_tf_lite.ipynb",
      "provenance": [],
      "authorship_tag": "ABX9TyOe9d0FeuGE9I+5C7JHEJhv",
      "include_colab_link": true
    },
    "kernelspec": {
      "name": "python3",
      "display_name": "Python 3"
    }
  },
  "cells": [
    {
      "cell_type": "markdown",
      "metadata": {
        "id": "view-in-github",
        "colab_type": "text"
      },
      "source": [
        "<a href=\"https://colab.research.google.com/github/HarmanBhutani/ML_projects/blob/main/flowers_tf_lite.ipynb\" target=\"_parent\"><img src=\"https://colab.research.google.com/assets/colab-badge.svg\" alt=\"Open In Colab\"/></a>"
      ]
    },
    {
      "cell_type": "code",
      "metadata": {
        "id": "51xQQd-Uk3mA"
      },
      "source": [
        "import tensorflow as tf\n",
        "assert tf.__version__.startswith('2')\n",
        "\n",
        "import os\n",
        "import numpy as np\n",
        "import matplotlib.pyplot as plt"
      ],
      "execution_count": 14,
      "outputs": []
    },
    {
      "cell_type": "code",
      "metadata": {
        "id": "UXq_DfM1k4SW"
      },
      "source": [
        "_URL = \"https://storage.googleapis.com/download.tensorflow.org/example_images/flower_photos.tgz\"\n",
        "\n",
        "zip_file = tf.keras.utils.get_file(origin=_URL, \n",
        "                                   fname=\"flower_photos.tgz\", \n",
        "                                   extract=True)\n",
        "\n",
        "base_dir = os.path.join(os.path.dirname(zip_file), 'flower_photos')"
      ],
      "execution_count": 15,
      "outputs": []
    },
    {
      "cell_type": "code",
      "metadata": {
        "colab": {
          "base_uri": "https://localhost:8080/"
        },
        "id": "PLLGmjcik7nk",
        "outputId": "ca4ccb17-ba23-40a7-a76f-5d98b09a7566"
      },
      "source": [
        "IMAGE_SIZE = 224\n",
        "BATCH_SIZE = 64\n",
        "\n",
        "datagen = tf.keras.preprocessing.image.ImageDataGenerator(\n",
        "    rescale=1./255, \n",
        "    validation_split=0.2)\n",
        "\n",
        "train_generator = datagen.flow_from_directory(\n",
        "    base_dir,\n",
        "    target_size=(IMAGE_SIZE, IMAGE_SIZE),\n",
        "    batch_size=BATCH_SIZE, \n",
        "    subset='training')\n",
        "\n",
        "val_generator = datagen.flow_from_directory(\n",
        "    base_dir,\n",
        "    target_size=(IMAGE_SIZE, IMAGE_SIZE),\n",
        "    batch_size=BATCH_SIZE, \n",
        "    subset='validation')"
      ],
      "execution_count": 16,
      "outputs": [
        {
          "output_type": "stream",
          "text": [
            "Found 2939 images belonging to 5 classes.\n",
            "Found 731 images belonging to 5 classes.\n"
          ],
          "name": "stdout"
        }
      ]
    },
    {
      "cell_type": "code",
      "metadata": {
        "colab": {
          "base_uri": "https://localhost:8080/"
        },
        "id": "M48Un3UrlKyb",
        "outputId": "15696a48-c224-44cb-a516-cb2320817214"
      },
      "source": [
        "for image_batch, label_batch in train_generator:\n",
        "  break\n",
        "image_batch.shape, label_batch.shape"
      ],
      "execution_count": 17,
      "outputs": [
        {
          "output_type": "execute_result",
          "data": {
            "text/plain": [
              "((64, 224, 224, 3), (64, 5))"
            ]
          },
          "metadata": {
            "tags": []
          },
          "execution_count": 17
        }
      ]
    },
    {
      "cell_type": "code",
      "metadata": {
        "colab": {
          "base_uri": "https://localhost:8080/"
        },
        "id": "Akg5NllZlMcY",
        "outputId": "eab8b259-a54c-4354-eecb-ee885d37e7e4"
      },
      "source": [
        "print (train_generator.class_indices)\n",
        "\n",
        "labels = '\\n'.join(sorted(train_generator.class_indices.keys()))\n",
        "\n",
        "with open('labels.txt', 'w') as f:\n",
        "  f.write(labels)"
      ],
      "execution_count": 18,
      "outputs": [
        {
          "output_type": "stream",
          "text": [
            "{'daisy': 0, 'dandelion': 1, 'roses': 2, 'sunflowers': 3, 'tulips': 4}\n"
          ],
          "name": "stdout"
        }
      ]
    },
    {
      "cell_type": "code",
      "metadata": {
        "colab": {
          "base_uri": "https://localhost:8080/"
        },
        "id": "cAdSXnY6lNwl",
        "outputId": "c6a337bb-b1a1-4cb3-9633-0c8f155344b5"
      },
      "source": [
        "!cat labels.txt"
      ],
      "execution_count": 19,
      "outputs": [
        {
          "output_type": "stream",
          "text": [
            "daisy\n",
            "dandelion\n",
            "roses\n",
            "sunflowers\n",
            "tulips"
          ],
          "name": "stdout"
        }
      ]
    },
    {
      "cell_type": "code",
      "metadata": {
        "id": "psEO0pbylPEb"
      },
      "source": [
        "IMG_SHAPE = (IMAGE_SIZE, IMAGE_SIZE, 3)\n",
        "\n",
        "# Create the base model from the pre-trained model MobileNet V2\n",
        "base_model = tf.keras.applications.MobileNetV2(input_shape=IMG_SHAPE,\n",
        "                                              include_top=False, \n",
        "                                              weights='imagenet')"
      ],
      "execution_count": 20,
      "outputs": []
    },
    {
      "cell_type": "code",
      "metadata": {
        "id": "JoJTmyyblQps"
      },
      "source": [
        "base_model.trainable = False"
      ],
      "execution_count": 21,
      "outputs": []
    },
    {
      "cell_type": "code",
      "metadata": {
        "id": "5AeDv6zWlqtJ"
      },
      "source": [
        "model = tf.keras.Sequential([\n",
        "  base_model,\n",
        "  tf.keras.layers.Conv2D(32, 3, activation='relu'),\n",
        "  tf.keras.layers.Dropout(0.2),\n",
        "  tf.keras.layers.GlobalAveragePooling2D(),\n",
        "  tf.keras.layers.Dense(5, activation='softmax')\n",
        "])"
      ],
      "execution_count": 22,
      "outputs": []
    },
    {
      "cell_type": "code",
      "metadata": {
        "id": "yie6haDolsPE"
      },
      "source": [
        "model.compile(optimizer=tf.keras.optimizers.Adam(), \n",
        "              loss='categorical_crossentropy', \n",
        "              metrics=['accuracy'])"
      ],
      "execution_count": 23,
      "outputs": []
    },
    {
      "cell_type": "code",
      "metadata": {
        "colab": {
          "base_uri": "https://localhost:8080/"
        },
        "id": "44G4AqBGltcO",
        "outputId": "926793b8-babf-4adf-ba3c-899196c8a028"
      },
      "source": [
        "model.summary()"
      ],
      "execution_count": 24,
      "outputs": [
        {
          "output_type": "stream",
          "text": [
            "Model: \"sequential_1\"\n",
            "_________________________________________________________________\n",
            "Layer (type)                 Output Shape              Param #   \n",
            "=================================================================\n",
            "mobilenetv2_1.00_224 (Functi (None, 7, 7, 1280)        2257984   \n",
            "_________________________________________________________________\n",
            "conv2d_1 (Conv2D)            (None, 5, 5, 32)          368672    \n",
            "_________________________________________________________________\n",
            "dropout_1 (Dropout)          (None, 5, 5, 32)          0         \n",
            "_________________________________________________________________\n",
            "global_average_pooling2d_1 ( (None, 32)                0         \n",
            "_________________________________________________________________\n",
            "dense_1 (Dense)              (None, 5)                 165       \n",
            "=================================================================\n",
            "Total params: 2,626,821\n",
            "Trainable params: 368,837\n",
            "Non-trainable params: 2,257,984\n",
            "_________________________________________________________________\n"
          ],
          "name": "stdout"
        }
      ]
    },
    {
      "cell_type": "code",
      "metadata": {
        "colab": {
          "base_uri": "https://localhost:8080/"
        },
        "id": "7R7jieWjlusv",
        "outputId": "ab962342-58a6-4bfa-f72c-9682ebfc26b7"
      },
      "source": [
        "print('Number of trainable variables = {}'.format(len(model.trainable_variables)))"
      ],
      "execution_count": 25,
      "outputs": [
        {
          "output_type": "stream",
          "text": [
            "Number of trainable variables = 4\n"
          ],
          "name": "stdout"
        }
      ]
    },
    {
      "cell_type": "code",
      "metadata": {
        "colab": {
          "base_uri": "https://localhost:8080/"
        },
        "id": "47Ud4nU2lwNl",
        "outputId": "71f7c376-5b25-4d24-f1a6-62b76f698f2c"
      },
      "source": [
        "epochs = 50\n",
        "\n",
        "history = model.fit(train_generator, \n",
        "                    steps_per_epoch=len(train_generator), \n",
        "                    epochs=epochs, \n",
        "                    validation_data=val_generator, \n",
        "                    validation_steps=len(val_generator))"
      ],
      "execution_count": null,
      "outputs": [
        {
          "output_type": "stream",
          "text": [
            "Epoch 1/50\n",
            "46/46 [==============================] - 132s 3s/step - loss: 0.0102 - accuracy: 1.0000 - val_loss: 0.5615 - val_accuracy: 0.8646\n",
            "Epoch 2/50\n",
            "46/46 [==============================] - 131s 3s/step - loss: 0.0071 - accuracy: 1.0000 - val_loss: 0.5434 - val_accuracy: 0.8741\n",
            "Epoch 3/50\n",
            "46/46 [==============================] - 131s 3s/step - loss: 0.0064 - accuracy: 1.0000 - val_loss: 0.5605 - val_accuracy: 0.8632\n",
            "Epoch 4/50\n",
            "46/46 [==============================] - 131s 3s/step - loss: 0.0063 - accuracy: 1.0000 - val_loss: 0.5628 - val_accuracy: 0.8618\n",
            "Epoch 5/50\n",
            "46/46 [==============================] - 132s 3s/step - loss: 0.0053 - accuracy: 1.0000 - val_loss: 0.5539 - val_accuracy: 0.8769\n",
            "Epoch 6/50\n",
            "46/46 [==============================] - 131s 3s/step - loss: 0.0039 - accuracy: 1.0000 - val_loss: 0.5728 - val_accuracy: 0.8782\n",
            "Epoch 7/50\n",
            "46/46 [==============================] - 132s 3s/step - loss: 0.0037 - accuracy: 1.0000 - val_loss: 0.5719 - val_accuracy: 0.8741\n",
            "Epoch 8/50\n",
            "46/46 [==============================] - 132s 3s/step - loss: 0.0033 - accuracy: 1.0000 - val_loss: 0.5820 - val_accuracy: 0.8782\n",
            "Epoch 9/50\n",
            "46/46 [==============================] - 132s 3s/step - loss: 0.0029 - accuracy: 1.0000 - val_loss: 0.5928 - val_accuracy: 0.8728\n",
            "Epoch 10/50\n",
            "46/46 [==============================] - 137s 3s/step - loss: 0.0026 - accuracy: 1.0000 - val_loss: 0.5811 - val_accuracy: 0.8714\n",
            "Epoch 11/50\n",
            "46/46 [==============================] - 132s 3s/step - loss: 0.0023 - accuracy: 1.0000 - val_loss: 0.5968 - val_accuracy: 0.8741\n",
            "Epoch 12/50\n",
            "46/46 [==============================] - 132s 3s/step - loss: 0.0024 - accuracy: 1.0000 - val_loss: 0.6167 - val_accuracy: 0.8714\n",
            "Epoch 13/50\n",
            "46/46 [==============================] - 132s 3s/step - loss: 0.0023 - accuracy: 1.0000 - val_loss: 0.6039 - val_accuracy: 0.8700\n",
            "Epoch 14/50\n",
            "46/46 [==============================] - 132s 3s/step - loss: 0.0020 - accuracy: 1.0000 - val_loss: 0.6256 - val_accuracy: 0.8755\n",
            "Epoch 15/50\n",
            "46/46 [==============================] - 131s 3s/step - loss: 0.0017 - accuracy: 1.0000 - val_loss: 0.6293 - val_accuracy: 0.8673\n",
            "Epoch 16/50\n",
            "46/46 [==============================] - 131s 3s/step - loss: 0.0014 - accuracy: 1.0000 - val_loss: 0.6319 - val_accuracy: 0.8741\n",
            "Epoch 17/50\n",
            "46/46 [==============================] - 131s 3s/step - loss: 0.0014 - accuracy: 1.0000 - val_loss: 0.6382 - val_accuracy: 0.8769\n",
            "Epoch 18/50\n",
            "46/46 [==============================] - 131s 3s/step - loss: 0.0015 - accuracy: 1.0000 - val_loss: 0.6393 - val_accuracy: 0.8769\n",
            "Epoch 19/50\n",
            "46/46 [==============================] - 135s 3s/step - loss: 0.0012 - accuracy: 1.0000 - val_loss: 0.6595 - val_accuracy: 0.8728\n",
            "Epoch 20/50\n",
            "46/46 [==============================] - 131s 3s/step - loss: 0.0011 - accuracy: 1.0000 - val_loss: 0.6543 - val_accuracy: 0.8687\n",
            "Epoch 21/50\n",
            "46/46 [==============================] - 132s 3s/step - loss: 0.0017 - accuracy: 1.0000 - val_loss: 0.6461 - val_accuracy: 0.8769\n",
            "Epoch 22/50\n",
            "46/46 [==============================] - 132s 3s/step - loss: 0.0010 - accuracy: 1.0000 - val_loss: 0.6516 - val_accuracy: 0.8782\n",
            "Epoch 23/50\n",
            "46/46 [==============================] - 131s 3s/step - loss: 0.0010 - accuracy: 1.0000 - val_loss: 0.6742 - val_accuracy: 0.8755\n",
            "Epoch 24/50\n",
            "46/46 [==============================] - 136s 3s/step - loss: 9.4003e-04 - accuracy: 1.0000 - val_loss: 0.6709 - val_accuracy: 0.8755\n",
            "Epoch 25/50\n",
            "46/46 [==============================] - 131s 3s/step - loss: 8.3619e-04 - accuracy: 1.0000 - val_loss: 0.6620 - val_accuracy: 0.8796\n",
            "Epoch 26/50\n",
            "46/46 [==============================] - 132s 3s/step - loss: 9.1097e-04 - accuracy: 1.0000 - val_loss: 0.6750 - val_accuracy: 0.8796\n",
            "Epoch 27/50\n",
            "46/46 [==============================] - 131s 3s/step - loss: 7.4548e-04 - accuracy: 1.0000 - val_loss: 0.6853 - val_accuracy: 0.8769\n",
            "Epoch 28/50\n",
            "46/46 [==============================] - 132s 3s/step - loss: 8.1955e-04 - accuracy: 1.0000 - val_loss: 0.6712 - val_accuracy: 0.8796\n",
            "Epoch 29/50\n",
            "46/46 [==============================] - 132s 3s/step - loss: 6.5731e-04 - accuracy: 1.0000 - val_loss: 0.6736 - val_accuracy: 0.8810\n",
            "Epoch 30/50\n",
            "46/46 [==============================] - 132s 3s/step - loss: 6.0414e-04 - accuracy: 1.0000 - val_loss: 0.6826 - val_accuracy: 0.8769\n",
            "Epoch 31/50\n",
            "46/46 [==============================] - 132s 3s/step - loss: 6.3752e-04 - accuracy: 1.0000 - val_loss: 0.6933 - val_accuracy: 0.8782\n",
            "Epoch 32/50\n",
            "46/46 [==============================] - 131s 3s/step - loss: 6.0097e-04 - accuracy: 1.0000 - val_loss: 0.6889 - val_accuracy: 0.8810\n",
            "Epoch 33/50\n",
            "46/46 [==============================] - 136s 3s/step - loss: 5.2249e-04 - accuracy: 1.0000 - val_loss: 0.6887 - val_accuracy: 0.8796\n",
            "Epoch 34/50\n",
            "46/46 [==============================] - 132s 3s/step - loss: 5.8785e-04 - accuracy: 1.0000 - val_loss: 0.7014 - val_accuracy: 0.8755\n",
            "Epoch 35/50\n",
            "46/46 [==============================] - 133s 3s/step - loss: 4.7707e-04 - accuracy: 1.0000 - val_loss: 0.6999 - val_accuracy: 0.8810\n",
            "Epoch 36/50\n",
            "46/46 [==============================] - 132s 3s/step - loss: 5.1544e-04 - accuracy: 1.0000 - val_loss: 0.7199 - val_accuracy: 0.8673\n",
            "Epoch 37/50\n",
            "22/46 [=============>................] - ETA: 53s - loss: 4.2268e-04 - accuracy: 1.0000"
          ],
          "name": "stdout"
        }
      ]
    },
    {
      "cell_type": "code",
      "metadata": {
        "colab": {
          "base_uri": "https://localhost:8080/",
          "height": 513
        },
        "id": "QGO12q6tlxm5",
        "outputId": "f19e2e45-7e39-4dba-a4c1-092ddd7138fd"
      },
      "source": [
        "acc = history.history['accuracy']\n",
        "val_acc = history.history['val_accuracy']\n",
        "\n",
        "loss = history.history['loss']\n",
        "val_loss = history.history['val_loss']\n",
        "\n",
        "plt.figure(figsize=(8, 8))\n",
        "plt.subplot(2, 1, 1)\n",
        "plt.plot(acc, label='Training Accuracy')\n",
        "plt.plot(val_acc, label='Validation Accuracy')\n",
        "plt.legend(loc='lower right')\n",
        "plt.ylabel('Accuracy')\n",
        "plt.ylim([min(plt.ylim()),1])\n",
        "plt.title('Training and Validation Accuracy')\n",
        "\n",
        "plt.subplot(2, 1, 2)\n",
        "plt.plot(loss, label='Training Loss')\n",
        "plt.plot(val_loss, label='Validation Loss')\n",
        "plt.legend(loc='upper right')\n",
        "plt.ylabel('Cross Entropy')\n",
        "plt.ylim([0,1.0])\n",
        "plt.title('Training and Validation Loss')\n",
        "plt.xlabel('epoch')\n",
        "plt.show()"
      ],
      "execution_count": 27,
      "outputs": [
        {
          "output_type": "display_data",
          "data": {
            "image/png": "[encoded data removed]",
            "text/plain": [
              "<Figure size 576x576 with 2 Axes>"
            ]
          },
          "metadata": {
            "tags": [],
            "needs_background": "light"
          }
        }
      ]
    },
    {
      "cell_type": "code",
      "metadata": {
        "id": "N-Q6MF9uCLVP"
      },
      "source": [
        "base_model.trainable = True"
      ],
      "execution_count": null,
      "outputs": []
    },
    {
      "cell_type": "code",
      "metadata": {
        "id": "m9oMomPGCKku"
      },
      "source": [
        "# Let's take a look to see how many layers are in the base model\n",
        "print(\"Number of layers in the base model: \", len(base_model.layers))\n",
        "\n",
        "# Fine tune from this layer onwards\n",
        "fine_tune_at = 100\n",
        "\n",
        "# Freeze all the layers before the `fine_tune_at` layer\n",
        "for layer in base_model.layers[:fine_tune_at]:\n",
        "  layer.trainable =  False"
      ],
      "execution_count": null,
      "outputs": []
    },
    {
      "cell_type": "code",
      "metadata": {
        "id": "tc7f36W6CKsn"
      },
      "source": [
        "model.compile(loss='categorical_crossentropy',\n",
        "              optimizer = tf.keras.optimizers.Adam(1e-5),\n",
        "              metrics=['accuracy'])"
      ],
      "execution_count": null,
      "outputs": []
    },
    {
      "cell_type": "code",
      "metadata": {
        "id": "Nek3nX6qCKvl"
      },
      "source": [
        "model.summary()"
      ],
      "execution_count": null,
      "outputs": []
    },
    {
      "cell_type": "code",
      "metadata": {
        "id": "RokYMPsZCKpa"
      },
      "source": [
        "print('Number of trainable variables = {}'.format(len(model.trainable_variables)))"
      ],
      "execution_count": null,
      "outputs": []
    },
    {
      "cell_type": "code",
      "metadata": {
        "id": "HzXwEUuDCJ5w"
      },
      "source": [
        "history_fine = model.fit(train_generator, \n",
        "                         steps_per_epoch=len(train_generator), \n",
        "                         epochs=5, \n",
        "                         validation_data=val_generator, \n",
        "                         validation_steps=len(val_generator))"
      ],
      "execution_count": null,
      "outputs": []
    },
    {
      "cell_type": "code",
      "metadata": {
        "id": "nxjekKxzCYtz"
      },
      "source": [
        "saved_model_dir = 'save/fine_tuning'\n",
        "tf.saved_model.save(model, saved_model_dir)\n",
        "\n",
        "converter = tf.lite.TFLiteConverter.from_saved_model(saved_model_dir)\n",
        "tflite_model = converter.convert()\n",
        "\n",
        "with open('model.tflite', 'wb') as f:\n",
        "  f.write(tflite_model)"
      ],
      "execution_count": null,
      "outputs": []
    },
    {
      "cell_type": "code",
      "metadata": {
        "id": "GQMwOCsnCY1Z"
      },
      "source": [
        "from google.colab import files\n",
        "\n",
        "files.download('model.tflite')\n",
        "files.download('labels.txt')"
      ],
      "execution_count": null,
      "outputs": []
    },
    {
      "cell_type": "code",
      "metadata": {
        "id": "yApESzf-CYxK"
      },
      "source": [
        "acc = history_fine.history['accuracy']\n",
        "val_acc = history_fine.history['val_accuracy']\n",
        "\n",
        "loss = history_fine.history['loss']\n",
        "val_loss = history_fine.history['val_loss']\n",
        "\n",
        "plt.figure(figsize=(8, 8))\n",
        "plt.subplot(2, 1, 1)\n",
        "plt.plot(acc, label='Training Accuracy')\n",
        "plt.plot(val_acc, label='Validation Accuracy')\n",
        "plt.legend(loc='lower right')\n",
        "plt.ylabel('Accuracy')\n",
        "plt.ylim([min(plt.ylim()),1])\n",
        "plt.title('Training and Validation Accuracy')\n",
        "\n",
        "plt.subplot(2, 1, 2)\n",
        "plt.plot(loss, label='Training Loss')\n",
        "plt.plot(val_loss, label='Validation Loss')\n",
        "plt.legend(loc='upper right')\n",
        "plt.ylabel('Cross Entropy')\n",
        "plt.ylim([0,1.0])\n",
        "plt.title('Training and Validation Loss')\n",
        "plt.xlabel('epoch')\n",
        "plt.show()"
      ],
      "execution_count": null,
      "outputs": []
    },
    {
      "cell_type": "code",
      "metadata": {
        "id": "90phLIxaCYr6"
      },
      "source": [
        ""
      ],
      "execution_count": null,
      "outputs": []
    }
  ]
}